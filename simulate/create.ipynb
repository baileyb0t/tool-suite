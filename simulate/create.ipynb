{
 "cells": [
  {
   "cell_type": "code",
   "execution_count": 7,
   "id": "60a90b60-a5ba-496b-a793-b69c73710a68",
   "metadata": {},
   "outputs": [],
   "source": [
    "# dependencies\n",
    "import random\n",
    "from datetime import datetime as dt\n",
    "import calendar\n",
    "import numpy as np\n",
    "import pandas as pd\n",
    "\n",
    "import fuzzywuzzy as fuzz"
   ]
  },
  {
   "cell_type": "code",
   "execution_count": 2,
   "id": "06779af7-3f10-4201-bc44-a3dc29626120",
   "metadata": {},
   "outputs": [],
   "source": [
    "# support methods"
   ]
  },
  {
   "cell_type": "code",
   "execution_count": 3,
   "id": "3178888e-3adf-4238-bba1-4cfc1a78d98e",
   "metadata": {},
   "outputs": [],
   "source": [
    "# main"
   ]
  },
  {
   "cell_type": "code",
   "execution_count": 12,
   "id": "d03697b9-3432-41f8-bf03-57cf591705bf",
   "metadata": {},
   "outputs": [
    {
     "data": {
      "text/plain": [
       "['January',\n",
       " 'February',\n",
       " 'March',\n",
       " 'April',\n",
       " 'May',\n",
       " 'June',\n",
       " 'July',\n",
       " 'August',\n",
       " 'September',\n",
       " 'October',\n",
       " 'November',\n",
       " 'December']"
      ]
     },
     "execution_count": 12,
     "metadata": {},
     "output_type": "execute_result"
    }
   ],
   "source": [
    "calendar.month_name[1:]"
   ]
  },
  {
   "cell_type": "code",
   "execution_count": null,
   "id": "a8f94901-2fa7-4bcb-be2d-504608b4df3e",
   "metadata": {},
   "outputs": [],
   "source": []
  }
 ],
 "metadata": {
  "kernelspec": {
   "display_name": "Python 3 (ipykernel)",
   "language": "python",
   "name": "python3"
  },
  "language_info": {
   "codemirror_mode": {
    "name": "ipython",
    "version": 3
   },
   "file_extension": ".py",
   "mimetype": "text/x-python",
   "name": "python",
   "nbconvert_exporter": "python",
   "pygments_lexer": "ipython3",
   "version": "3.11.5"
  }
 },
 "nbformat": 4,
 "nbformat_minor": 5
}
