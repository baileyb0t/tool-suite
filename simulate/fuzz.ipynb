{
 "cells": [
  {
   "cell_type": "code",
   "execution_count": 6,
   "id": "1e1eeabc-cbc7-440a-8537-781afd6df624",
   "metadata": {},
   "outputs": [],
   "source": [
    "# dependencies\n",
    "import random\n",
    "import pandas as pd\n",
    "import fuzzywuzzy as fuzz"
   ]
  },
  {
   "cell_type": "code",
   "execution_count": 7,
   "id": "38a9a318-9750-4a00-b56b-60121dc71f7f",
   "metadata": {},
   "outputs": [
    {
     "data": {
      "text/plain": [
       "'n w   e 23  h'"
      ]
     },
     "execution_count": 7,
     "metadata": {},
     "output_type": "execute_result"
    }
   ],
   "source": [
    "# support methods\n",
    "# given:\n",
    "# - the number of non-null values in a given field\n",
    "# - the rate of noise to add (default to low, ~10%)\n",
    "# - add noise by datatype\n",
    "\n",
    "def add_char(str, char=' '):\n",
    "    if pd.isna(str): return None\n",
    "    if len(str) < 20:\n",
    "        n_to_add = random.randint(1, 5)\n",
    "    else:\n",
    "        n_to_add = int(len(str)*.1)\n",
    "    added = 0\n",
    "    new_str = ''\n",
    "    for i in range(len(str)):\n",
    "        if (added < n_to_add) & (random.randint(0,1)): \n",
    "            new_str = new_str + char + str[i]\n",
    "            added += 1\n",
    "        else: new_str = new_str + str[i]\n",
    "    return new_str\n",
    "            \n",
    "\n",
    "add_chars"
   ]
  },
  {
   "cell_type": "code",
   "execution_count": 3,
   "id": "7ee477af-a852-4448-9251-5943dcfbbba7",
   "metadata": {},
   "outputs": [],
   "source": [
    "# main"
   ]
  },
  {
   "cell_type": "code",
   "execution_count": null,
   "id": "f9911da5-dff3-4499-adbe-54026612a792",
   "metadata": {},
   "outputs": [],
   "source": []
  }
 ],
 "metadata": {
  "kernelspec": {
   "display_name": "Python 3 (ipykernel)",
   "language": "python",
   "name": "python3"
  },
  "language_info": {
   "codemirror_mode": {
    "name": "ipython",
    "version": 3
   },
   "file_extension": ".py",
   "mimetype": "text/x-python",
   "name": "python",
   "nbconvert_exporter": "python",
   "pygments_lexer": "ipython3",
   "version": "3.11.5"
  }
 },
 "nbformat": 4,
 "nbformat_minor": 5
}
