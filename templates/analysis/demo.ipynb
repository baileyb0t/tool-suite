{
 "cells": [
  {
   "cell_type": "markdown",
   "id": "09d90078-2c11-499c-bbff-404017f97563",
   "metadata": {},
   "source": [
    "# goal\n",
    "\n",
    "- [ ] demonstrate how to use the prepared modules for generating various statistics accompanied by structured data (as \"magic numbers\") and plain text or HTML components."
   ]
  },
  {
   "cell_type": "markdown",
   "id": "7919f17d-158f-4991-9581-615e85ddfc8c",
   "metadata": {},
   "source": [
    "# setup"
   ]
  },
  {
   "cell_type": "code",
   "execution_count": 1,
   "id": "425bcec5-f668-4fa7-8486-93e0765b824d",
   "metadata": {},
   "outputs": [],
   "source": [
    "# dependencies\n",
    "import sys\n",
    "import re\n",
    "import pandas as pd\n",
    "from ipywidgets import HTML\n",
    "\n",
    "sys.path.append(\".\")\n",
    "import Summary\n",
    "import Relative_risk\n",
    "import Chi_square"
   ]
  },
  {
   "cell_type": "code",
   "execution_count": 2,
   "id": "df26013c-95ea-42ec-9439-f195e818e673",
   "metadata": {},
   "outputs": [],
   "source": [
    "# support methods\n",
    "def formatprop_num(num, den, aspercent, dec):\n",
    "    if num == 0: return 0\n",
    "    v = num/den\n",
    "    if not aspercent: out = round(v, dec)\n",
    "    else: out = round(v * 100, dec)\n",
    "    return out\n",
    "\n",
    "\n",
    "def formatprop_str(num, den, aspercent, dec):\n",
    "    if num == 0: return '0'\n",
    "    v = num/den\n",
    "    if not aspercent: out = f\"%.{dec}f\" % v\n",
    "    else: out = f\"%.{dec}f\" % (v*100)\n",
    "    if int(float(out)) == 0: return 'less than 1'\n",
    "    return out\n",
    "\n",
    "\n",
    "def formatprop(num, den, numeric, aspercent=False, dec=1):\n",
    "    assert (den >= num)\n",
    "    if numeric: out = formatprop_num(num=num, den=den, aspercent=aspercent, dec=dec)\n",
    "    else: out = formatprop_str(num=num, den=den, aspercent=aspercent, dec=dec)\n",
    "    return out\n",
    "\n",
    "\n",
    "def get_census():\n",
    "    # county numbers from USCB DHC https://data.census.gov/table/DECENNIALDHC2020.P9?t=Race%20and%20Ethnicity&g=050XX00US06075\n",
    "    magic = {}\n",
    "    magic['county'] = {\n",
    "        'total': {'n': 873965},\n",
    "        'Black': {'n': 45071}, # 'Black or African American alone'\n",
    "        'White': {'n': 341306}, # 'White alone'\n",
    "        'Latine': {'n': 136761}, # 'Hispanic or Latino'\n",
    "        'Asian': {'n': 294220 + 3244 + 1570}, # 'Asian alone' + 'Native Hawaiian and Other Pacific Islander alone' + 'American Indian and Alaska Native alone'\n",
    "        'Other/Unknown': {'n': 6347 + 45446}, # 'Some Other Race alone' + 'Population of two or more races'\n",
    "    }\n",
    "    realgroups = [k for k in magic['county'].keys() if k != 'total']\n",
    "    assert magic['county']['total']['n'] == sum([magic['county'][group]['n'] for group in realgroups]), f\"\\\n",
    "    Census counts by race group should add up to the total population count.\\\n",
    "    Found {magic['county']['total']['n']} for total population and {sum([magic['county'][group]['n'] for group in realgroups])} group total.\"\n",
    "    for race_group in realgroups:\n",
    "        magic['county'][race_group]['prop'] = formatprop(\n",
    "            num=magic['county'][race_group]['n'],\n",
    "            den=magic['county']['total']['n'],\n",
    "            numeric=True, aspercent=False, dec=5)\n",
    "    for race_group in realgroups:\n",
    "        magic['county'][race_group]['perc'] = formatprop(\n",
    "            num=magic['county'][race_group]['n'],\n",
    "            den=magic['county']['total']['n'],\n",
    "            numeric=False, aspercent=True, dec=1)\n",
    "    return magic"
   ]
  },
  {
   "cell_type": "code",
   "execution_count": 3,
   "id": "615d3ec4-7b4c-482f-992f-6391b240c0d5",
   "metadata": {},
   "outputs": [],
   "source": [
    "# main\n",
    "\"\"\"This is the processed version of publicly available data requested by the ACLU from the San Francisco District Attorney's Office (\"SFDA\") covering 2015-2022. Note that the SFDA did not necessarily produce the data themselves and it may also reflect SFPD or SF Sheriff entries.\"\"\"\n",
    "sfda = pd.read_parquet(\"sfda.parquet\")\n",
    "magic = get_census()"
   ]
  },
  {
   "cell_type": "code",
   "execution_count": 4,
   "id": "2600aae0-8383-499c-a40c-6b1671fa5237",
   "metadata": {},
   "outputs": [],
   "source": [
    "# support for breaking down data\n",
    "cols = {\n",
    "    'meta': [\n",
    "        'source', 'filename', 'sheet', 'incident_number', 'court_number',],\n",
    "    'person': [\n",
    "        'age_at_arrest', 'gender', 'race', 'ethnicity', 'ethnicity_group',],\n",
    "    'booking': [\n",
    "        'incident_number', 'arrest_date', 'age_at_arrest',\n",
    "        'booked_case_type', 'booked_charge_list',],\n",
    "    'filing': [\n",
    "        'court_number', 'filing_date',\n",
    "        'filed_case_type', 'filed_charge_list', 'description',\n",
    "        'case_dispo_date', 'case_dispo', 'dispo_description', 'dispo_description_group',\n",
    "        'status_ctnum', 'status_ctnum_agg', 'status_ctnum_group',],\n",
    "}\n",
    "grouped = [c for collist in cols.values() for c in collist]\n",
    "lost = [c for c in sfda.columns if c not in grouped]\n",
    "assert not any(lost), f\"\\\n",
    "previously had grouped all available columns, however {\n",
    "lost} have not been grouped.\""
   ]
  },
  {
   "cell_type": "markdown",
   "id": "4c275905-c7ff-48ea-b957-dfc957b1d616",
   "metadata": {},
   "source": [
    "# preview data"
   ]
  },
  {
   "cell_type": "code",
   "execution_count": 5,
   "id": "c148d55d-2c50-435f-9568-6525f74f0a43",
   "metadata": {},
   "outputs": [
    {
     "data": {
      "text/html": [
       "<div>\n",
       "<style scoped>\n",
       "    .dataframe tbody tr th:only-of-type {\n",
       "        vertical-align: middle;\n",
       "    }\n",
       "\n",
       "    .dataframe tbody tr th {\n",
       "        vertical-align: top;\n",
       "    }\n",
       "\n",
       "    .dataframe thead th {\n",
       "        text-align: right;\n",
       "    }\n",
       "</style>\n",
       "<table border=\"1\" class=\"dataframe\">\n",
       "  <thead>\n",
       "    <tr style=\"text-align: right;\">\n",
       "      <th></th>\n",
       "      <th>73223</th>\n",
       "    </tr>\n",
       "  </thead>\n",
       "  <tbody>\n",
       "    <tr>\n",
       "      <th>source</th>\n",
       "      <td>ACLU_PRA</td>\n",
       "    </tr>\n",
       "    <tr>\n",
       "      <th>filename</th>\n",
       "      <td>2015-2022_San Francisco County_Proseuction Dat...</td>\n",
       "    </tr>\n",
       "    <tr>\n",
       "      <th>sheet</th>\n",
       "      <td>Arrests &amp; DA Actions|Cases Filed</td>\n",
       "    </tr>\n",
       "    <tr>\n",
       "      <th>incident_number</th>\n",
       "      <td>200412198</td>\n",
       "    </tr>\n",
       "    <tr>\n",
       "      <th>court_number</th>\n",
       "      <td>20007770</td>\n",
       "    </tr>\n",
       "  </tbody>\n",
       "</table>\n",
       "</div>"
      ],
      "text/plain": [
       "                                                             73223\n",
       "source                                                    ACLU_PRA\n",
       "filename         2015-2022_San Francisco County_Proseuction Dat...\n",
       "sheet                             Arrests & DA Actions|Cases Filed\n",
       "incident_number                                          200412198\n",
       "court_number                                              20007770"
      ]
     },
     "execution_count": 5,
     "metadata": {},
     "output_type": "execute_result"
    }
   ],
   "source": [
    "sfda[cols['meta']].sample().T"
   ]
  },
  {
   "cell_type": "code",
   "execution_count": 6,
   "id": "b0359f45-f052-4850-97ce-229a35d64848",
   "metadata": {},
   "outputs": [
    {
     "data": {
      "text/html": [
       "<div>\n",
       "<style scoped>\n",
       "    .dataframe tbody tr th:only-of-type {\n",
       "        vertical-align: middle;\n",
       "    }\n",
       "\n",
       "    .dataframe tbody tr th {\n",
       "        vertical-align: top;\n",
       "    }\n",
       "\n",
       "    .dataframe thead th {\n",
       "        text-align: right;\n",
       "    }\n",
       "</style>\n",
       "<table border=\"1\" class=\"dataframe\">\n",
       "  <thead>\n",
       "    <tr style=\"text-align: right;\">\n",
       "      <th></th>\n",
       "      <th>49552</th>\n",
       "    </tr>\n",
       "  </thead>\n",
       "  <tbody>\n",
       "    <tr>\n",
       "      <th>incident_number</th>\n",
       "      <td>180394204</td>\n",
       "    </tr>\n",
       "    <tr>\n",
       "      <th>arrest_date</th>\n",
       "      <td>2018-05-27 00:00:00</td>\n",
       "    </tr>\n",
       "    <tr>\n",
       "      <th>age_at_arrest</th>\n",
       "      <td>30.0</td>\n",
       "    </tr>\n",
       "    <tr>\n",
       "      <th>booked_case_type</th>\n",
       "      <td>Felony</td>\n",
       "    </tr>\n",
       "    <tr>\n",
       "      <th>booked_charge_list</th>\n",
       "      <td>21310,1009.22DHC</td>\n",
       "    </tr>\n",
       "  </tbody>\n",
       "</table>\n",
       "</div>"
      ],
      "text/plain": [
       "                                  49552\n",
       "incident_number               180394204\n",
       "arrest_date         2018-05-27 00:00:00\n",
       "age_at_arrest                      30.0\n",
       "booked_case_type                 Felony\n",
       "booked_charge_list     21310,1009.22DHC"
      ]
     },
     "execution_count": 6,
     "metadata": {},
     "output_type": "execute_result"
    }
   ],
   "source": [
    "sfda[cols['booking']].sample().T"
   ]
  },
  {
   "cell_type": "code",
   "execution_count": 7,
   "id": "1b3048a4-e85e-4314-a15c-b704c43a951d",
   "metadata": {},
   "outputs": [
    {
     "data": {
      "text/html": [
       "<div>\n",
       "<style scoped>\n",
       "    .dataframe tbody tr th:only-of-type {\n",
       "        vertical-align: middle;\n",
       "    }\n",
       "\n",
       "    .dataframe tbody tr th {\n",
       "        vertical-align: top;\n",
       "    }\n",
       "\n",
       "    .dataframe thead th {\n",
       "        text-align: right;\n",
       "    }\n",
       "</style>\n",
       "<table border=\"1\" class=\"dataframe\">\n",
       "  <thead>\n",
       "    <tr style=\"text-align: right;\">\n",
       "      <th></th>\n",
       "      <th>54773</th>\n",
       "    </tr>\n",
       "  </thead>\n",
       "  <tbody>\n",
       "    <tr>\n",
       "      <th>court_number</th>\n",
       "      <td>18017115</td>\n",
       "    </tr>\n",
       "    <tr>\n",
       "      <th>filing_date</th>\n",
       "      <td>2018-11-15 00:00:00</td>\n",
       "    </tr>\n",
       "    <tr>\n",
       "      <th>filed_case_type</th>\n",
       "      <td>Misdemeanor</td>\n",
       "    </tr>\n",
       "    <tr>\n",
       "      <th>filed_charge_list</th>\n",
       "      <td>23152A/M/0, 23152B/M/0</td>\n",
       "    </tr>\n",
       "    <tr>\n",
       "      <th>description</th>\n",
       "      <td>DUI</td>\n",
       "    </tr>\n",
       "    <tr>\n",
       "      <th>case_dispo_date</th>\n",
       "      <td>2019-06-13 00:00:00</td>\n",
       "    </tr>\n",
       "    <tr>\n",
       "      <th>case_dispo</th>\n",
       "      <td>152.0</td>\n",
       "    </tr>\n",
       "    <tr>\n",
       "      <th>dispo_description</th>\n",
       "      <td>Finding - Not Guilty</td>\n",
       "    </tr>\n",
       "    <tr>\n",
       "      <th>dispo_description_group</th>\n",
       "      <td>acquittal</td>\n",
       "    </tr>\n",
       "    <tr>\n",
       "      <th>status_ctnum</th>\n",
       "      <td>Acquittal</td>\n",
       "    </tr>\n",
       "    <tr>\n",
       "      <th>status_ctnum_agg</th>\n",
       "      <td>New charges filed</td>\n",
       "    </tr>\n",
       "    <tr>\n",
       "      <th>status_ctnum_group</th>\n",
       "      <td>acquittal</td>\n",
       "    </tr>\n",
       "  </tbody>\n",
       "</table>\n",
       "</div>"
      ],
      "text/plain": [
       "                                          54773\n",
       "court_number                           18017115\n",
       "filing_date                 2018-11-15 00:00:00\n",
       "filed_case_type                     Misdemeanor\n",
       "filed_charge_list        23152A/M/0, 23152B/M/0\n",
       "description                                 DUI\n",
       "case_dispo_date             2019-06-13 00:00:00\n",
       "case_dispo                                152.0\n",
       "dispo_description          Finding - Not Guilty\n",
       "dispo_description_group               acquittal\n",
       "status_ctnum                          Acquittal\n",
       "status_ctnum_agg              New charges filed\n",
       "status_ctnum_group                    acquittal"
      ]
     },
     "execution_count": 7,
     "metadata": {},
     "output_type": "execute_result"
    }
   ],
   "source": [
    "sfda[cols['filing']].sample().T"
   ]
  },
  {
   "cell_type": "markdown",
   "id": "e814e32b-7244-453d-9476-658ebb24f470",
   "metadata": {},
   "source": [
    "# coverage\n",
    "\n",
    "this dataset covers cases filed by the SFDA from January 1, 2015 to December 30, 2021."
   ]
  },
  {
   "cell_type": "code",
   "execution_count": 8,
   "id": "8fe57a01-7271-4f0a-b551-30f65ef96dd4",
   "metadata": {},
   "outputs": [
    {
     "data": {
      "text/html": [
       "<div>\n",
       "<style scoped>\n",
       "    .dataframe tbody tr th:only-of-type {\n",
       "        vertical-align: middle;\n",
       "    }\n",
       "\n",
       "    .dataframe tbody tr th {\n",
       "        vertical-align: top;\n",
       "    }\n",
       "\n",
       "    .dataframe thead th {\n",
       "        text-align: right;\n",
       "    }\n",
       "</style>\n",
       "<table border=\"1\" class=\"dataframe\">\n",
       "  <thead>\n",
       "    <tr style=\"text-align: right;\">\n",
       "      <th></th>\n",
       "      <th>statistic</th>\n",
       "      <th>filing_date</th>\n",
       "    </tr>\n",
       "  </thead>\n",
       "  <tbody>\n",
       "    <tr>\n",
       "      <th>0</th>\n",
       "      <td>count</td>\n",
       "      <td>46613</td>\n",
       "    </tr>\n",
       "    <tr>\n",
       "      <th>1</th>\n",
       "      <td>mean</td>\n",
       "      <td>2018-05-09 18:49:05.770493184</td>\n",
       "    </tr>\n",
       "    <tr>\n",
       "      <th>2</th>\n",
       "      <td>min</td>\n",
       "      <td>2015-01-02 00:00:00</td>\n",
       "    </tr>\n",
       "    <tr>\n",
       "      <th>3</th>\n",
       "      <td>25%</td>\n",
       "      <td>2016-09-12 00:00:00</td>\n",
       "    </tr>\n",
       "    <tr>\n",
       "      <th>4</th>\n",
       "      <td>50%</td>\n",
       "      <td>2018-05-21 00:00:00</td>\n",
       "    </tr>\n",
       "    <tr>\n",
       "      <th>5</th>\n",
       "      <td>75%</td>\n",
       "      <td>2019-10-31 00:00:00</td>\n",
       "    </tr>\n",
       "    <tr>\n",
       "      <th>6</th>\n",
       "      <td>max</td>\n",
       "      <td>2021-12-30 00:00:00</td>\n",
       "    </tr>\n",
       "  </tbody>\n",
       "</table>\n",
       "</div>"
      ],
      "text/plain": [
       "  statistic                    filing_date\n",
       "0     count                          46613\n",
       "1      mean  2018-05-09 18:49:05.770493184\n",
       "2       min            2015-01-02 00:00:00\n",
       "3       25%            2016-09-12 00:00:00\n",
       "4       50%            2018-05-21 00:00:00\n",
       "5       75%            2019-10-31 00:00:00\n",
       "6       max            2021-12-30 00:00:00"
      ]
     },
     "execution_count": 8,
     "metadata": {},
     "output_type": "execute_result"
    }
   ],
   "source": [
    "sfda.filing_date.describe().reset_index().rename(columns={'index': 'statistic'})"
   ]
  },
  {
   "cell_type": "code",
   "execution_count": 9,
   "id": "f1faa9f7-9f16-44bb-b746-9f617cc13412",
   "metadata": {},
   "outputs": [],
   "source": [
    "assert sfda.filename.str.contains('San Francisco County').all()"
   ]
  },
  {
   "cell_type": "markdown",
   "id": "5c5d42a5-4970-490a-9234-e148a2669302",
   "metadata": {},
   "source": [
    "# setting up labels\n",
    "\n",
    "`LABELS` are plain text phrases that explain what a unit of a variable represents in this context. For example, we often describe a `case_filed` value as 'a case against a defendant'.\n",
    "\n",
    "These phrases are laced into the analytical template for presenting findings in plain text, so pay close attention to how the sentences read in the results to confirm it makes sense and appears correct."
   ]
  },
  {
   "cell_type": "code",
   "execution_count": 10,
   "id": "5c13dbe0-f5ed-4079-9ab5-a6a712e7b887",
   "metadata": {},
   "outputs": [
    {
     "data": {
      "text/plain": [
       "False"
      ]
     },
     "execution_count": 10,
     "metadata": {},
     "output_type": "execute_result"
    }
   ],
   "source": [
    "any([[c for c in sfda.columns if sfda[c].dtype == bool]])"
   ]
  },
  {
   "cell_type": "code",
   "execution_count": 11,
   "id": "e60dce70-9a2f-43a9-be03-e629ec7efe41",
   "metadata": {},
   "outputs": [],
   "source": [
    "# add case-based indicators\n",
    "sfda['case_filed'] = sfda.court_number.notna()\n",
    "sfda['conviction_any'] = sfda.dispo_description_group.isin((\n",
    "    'imprisonment', 'jail_probation', 'other_conviction'))\n",
    "\n",
    "# add charge-based indicators\n",
    "pcs = {\n",
    "    148: '148[A-Z]*|148\\\\.',\n",
    "    211: '211',\n",
    "}\n",
    "for code, patt in pcs.items():\n",
    "    for stage in ('booked', 'filed'): # note lack of a `convicted_charge_list` field\n",
    "        chargecol = f'{stage}_charge_list'\n",
    "        sfda[f'pc_{code}_{stage}'] = sfda[chargecol].str.contains(patt, na=False, flags=re.I)"
   ]
  },
  {
   "cell_type": "code",
   "execution_count": 12,
   "id": "594eeeab-3224-4dee-971a-e09eeccad5ec",
   "metadata": {},
   "outputs": [],
   "source": [
    "LABELS = {\n",
    "    'ethnicity_group': 'someone with a recorded race/ethnicity of',\n",
    "    'def_black': 'a Black defendant',\n",
    "    'def_white': 'a White defendant',\n",
    "    'case_filed': 'a case against a defendant',\n",
    "    'conviction_any': 'conviction on at least one charge', # the data are not more specific than this\n",
    "    'pc_148_booked': 'a booked charge for resisting arrest',\n",
    "    'pc_148_filed': 'a filed charge for resisting arrest',\n",
    "    'pc_211_booked': 'a booked charge for robbery',\n",
    "    'pc_211_filed': 'a filed charge for robbery',\n",
    "}"
   ]
  },
  {
   "cell_type": "markdown",
   "id": "a2bb660c-e1bb-439d-a78d-18ed316f0707",
   "metadata": {},
   "source": [
    "# sample charge indicator: `pc_148_booked`"
   ]
  },
  {
   "cell_type": "markdown",
   "id": "803876fe-40b2-47e5-8e4d-3e0b419c340d",
   "metadata": {},
   "source": [
    "## default `value_counts()` presentation"
   ]
  },
  {
   "cell_type": "code",
   "execution_count": 13,
   "id": "b068372c-1854-4d1a-b0c9-74494062da00",
   "metadata": {},
   "outputs": [
    {
     "data": {
      "text/html": [
       "<div>\n",
       "<style scoped>\n",
       "    .dataframe tbody tr th:only-of-type {\n",
       "        vertical-align: middle;\n",
       "    }\n",
       "\n",
       "    .dataframe tbody tr th {\n",
       "        vertical-align: top;\n",
       "    }\n",
       "\n",
       "    .dataframe thead th {\n",
       "        text-align: right;\n",
       "    }\n",
       "</style>\n",
       "<table border=\"1\" class=\"dataframe\">\n",
       "  <thead>\n",
       "    <tr style=\"text-align: right;\">\n",
       "      <th></th>\n",
       "      <th>pc_148_booked</th>\n",
       "      <th>count</th>\n",
       "    </tr>\n",
       "  </thead>\n",
       "  <tbody>\n",
       "    <tr>\n",
       "      <th>0</th>\n",
       "      <td>False</td>\n",
       "      <td>76840</td>\n",
       "    </tr>\n",
       "    <tr>\n",
       "      <th>1</th>\n",
       "      <td>True</td>\n",
       "      <td>8243</td>\n",
       "    </tr>\n",
       "  </tbody>\n",
       "</table>\n",
       "</div>"
      ],
      "text/plain": [
       "   pc_148_booked  count\n",
       "0          False  76840\n",
       "1           True   8243"
      ]
     },
     "execution_count": 13,
     "metadata": {},
     "output_type": "execute_result"
    }
   ],
   "source": [
    "sfda.pc_148_booked.value_counts().reset_index()"
   ]
  },
  {
   "cell_type": "markdown",
   "id": "2b271b9b-a68b-42b8-80f8-d32f8e0f4ce5",
   "metadata": {},
   "source": [
    "## `Summary` module"
   ]
  },
  {
   "cell_type": "markdown",
   "id": "0b99a48a-7f63-4e27-acea-705c00cc0df0",
   "metadata": {},
   "source": [
    "### background"
   ]
  },
  {
   "cell_type": "code",
   "execution_count": 14,
   "id": "e1d0e449-3b5a-4e1a-8c61-3817107f97d2",
   "metadata": {},
   "outputs": [
    {
     "data": {
      "text/plain": [
       "\u001b[31mInit signature:\u001b[39m Summary.Summary(df, params, labels)\n",
       "\u001b[31mDocstring:\u001b[39m     \n",
       "Calculation:\n",
       "- Table: df[[INDICATOR_COL, GROUP_COL]].groupby(GROUP_COL)[INDICATOR_COL].sum()\n",
       "- Description: Summarize by {GROUP_COL} all records where {INDICATOR_COL} is True\n",
       "Present:\n",
       "- Count/Percent: '{GROUP_COL.sum()/INDICATOR_COL.sum()*100}% ({GROUP_COL.sum()} of {INDICATOR_COL.sum()})'\n",
       "- Finding:\n",
       "    - Of the {INDICATOR_COL.sum()},\n",
       "        - {magic['GROUP_COUNTS'][GROUP_LABEL]} were for {GROUP_LABEL}\n",
       "        - (repeated for each group appearing in GROUP_COL)\n",
       "\u001b[31mFile:\u001b[39m           ~/git/tool-suite/templates/analysis/Summary.py\n",
       "\u001b[31mType:\u001b[39m           type\n",
       "\u001b[31mSubclasses:\u001b[39m     "
      ]
     },
     "metadata": {},
     "output_type": "display_data"
    }
   ],
   "source": [
    "Summary.Summary?"
   ]
  },
  {
   "cell_type": "code",
   "execution_count": 15,
   "id": "d9f97d38-8010-42f2-81e1-71fe665d9481",
   "metadata": {},
   "outputs": [
    {
     "data": {
      "text/plain": [
       "['INDICATOR_COL', 'INDICATOR_OP', 'GROUP_COL', 'RENAMER']"
      ]
     },
     "execution_count": 15,
     "metadata": {},
     "output_type": "execute_result"
    }
   ],
   "source": [
    "Summary.PARAMS"
   ]
  },
  {
   "cell_type": "markdown",
   "id": "d4aa4802-b531-4721-876a-27823bfb9345",
   "metadata": {},
   "source": [
    "### setup"
   ]
  },
  {
   "cell_type": "code",
   "execution_count": 16,
   "id": "9c46d206-b4b2-48e9-8218-bb9e0722dbd4",
   "metadata": {},
   "outputs": [],
   "source": [
    "pc148_sum = Summary.Summary(\n",
    "    df=sfda,\n",
    "    params={\n",
    "        'INDICATOR_COL': 'pc_148_booked',\n",
    "        'INDICATOR_OP': 'against',\n",
    "        'GROUP_COL': 'ethnicity_group',\n",
    "        'RENAMER': {\n",
    "            'ethnicity_group': 'Race/Ethnicity',\n",
    "            True: 'PC 148 booked',\n",
    "            False: 'No PC 148'\n",
    "        }\n",
    "    },\n",
    "    labels=LABELS,\n",
    ")"
   ]
  },
  {
   "cell_type": "markdown",
   "id": "101514c1-dce5-49a2-8301-2d4922bbd3e4",
   "metadata": {},
   "source": [
    "### text based summary: distribution across groups"
   ]
  },
  {
   "cell_type": "code",
   "execution_count": 17,
   "id": "29638637-d82e-4234-b33f-6b5e28dea357",
   "metadata": {},
   "outputs": [
    {
     "name": "stdout",
     "output_type": "stream",
     "text": [
      "Of the 8243 a booked charge for resisting arrest,\n",
      "-  442 or 5.4% against someone with a recorded race/ethnicity of Asian.\n",
      "-  3508 or 42.6% against someone with a recorded race/ethnicity of Black.\n",
      "-  1940 or 23.5% against someone with a recorded race/ethnicity of Latine.\n",
      "-  227 or 2.8% against someone with a recorded race/ethnicity of Other/Unknown.\n",
      "-  2126 or 25.8% against someone with a recorded race/ethnicity of White.\n"
     ]
    }
   ],
   "source": [
    "print(pc148_sum.getinfo())"
   ]
  },
  {
   "cell_type": "markdown",
   "id": "007847fa-cf1f-41ca-9aeb-fee8da8b787a",
   "metadata": {},
   "source": [
    "### magic numbers: distribution across groups"
   ]
  },
  {
   "cell_type": "code",
   "execution_count": 18,
   "id": "893a5257-fd1b-42a2-9be4-0c0e7b3f0b03",
   "metadata": {},
   "outputs": [],
   "source": [
    "pc148_sum_gc = pc148_sum.getmagic()['GROUP_COUNTS'].copy()"
   ]
  },
  {
   "cell_type": "code",
   "execution_count": 19,
   "id": "b1cdd005-cf82-40b1-920a-88f3a0c57bfd",
   "metadata": {},
   "outputs": [
    {
     "data": {
      "text/plain": [
       "{'INDICATOR_COL': 'pc_148_booked',\n",
       " 'INDICATOR_OP': 'against',\n",
       " 'GROUP_COL': 'ethnicity_group',\n",
       " 'RENAMER': {'ethnicity_group': 'Race/Ethnicity',\n",
       "  True: 'PC 148 booked',\n",
       "  False: 'No PC 148'},\n",
       " 'INDICATOR_COUNT': np.int64(8243),\n",
       " 'GROUP_COUNTS': {'Asian': 442,\n",
       "  'Black': 3508,\n",
       "  'Latine': 1940,\n",
       "  'Other/Unknown': 227,\n",
       "  'White': 2126},\n",
       " 'GROUP_PERCENTS': {'Asian': 5.362125439767075,\n",
       "  'Black': 42.55732136358122,\n",
       "  'Latine': 23.535120708479923,\n",
       "  'Other/Unknown': 2.7538517530025475,\n",
       "  'White': 25.791580735169234}}"
      ]
     },
     "execution_count": 19,
     "metadata": {},
     "output_type": "execute_result"
    }
   ],
   "source": [
    "pc148_sum.getmagic()"
   ]
  },
  {
   "cell_type": "markdown",
   "id": "30518947-2692-4599-bd6a-7360db5c77ca",
   "metadata": {},
   "source": [
    "### table: distribution across groups"
   ]
  },
  {
   "cell_type": "code",
   "execution_count": 20,
   "id": "76ca2c1b-0091-45e1-b142-5dbb15c0b93c",
   "metadata": {},
   "outputs": [
    {
     "data": {
      "application/vnd.jupyter.widget-view+json": {
       "model_id": "c517cd592e9540d58922b7b532386e55",
       "version_major": 2,
       "version_minor": 0
      },
      "text/plain": [
       "HTML(value='Of the 85,083 cases considered, there are 8243 a booked charge for resisting arrest, with the foll…"
      ]
     },
     "execution_count": 20,
     "metadata": {},
     "output_type": "execute_result"
    }
   ],
   "source": [
    "HTML(\"\\n\".join(pc148_sum.gettable_winevent()))"
   ]
  },
  {
   "cell_type": "markdown",
   "id": "c11e5241-b0b4-471b-9e96-5542110d6fd7",
   "metadata": {},
   "source": [
    "### table: distribution within groups"
   ]
  },
  {
   "cell_type": "code",
   "execution_count": 21,
   "id": "0bba566f-f31f-455d-bc4c-788614071c5c",
   "metadata": {},
   "outputs": [
    {
     "data": {
      "application/vnd.jupyter.widget-view+json": {
       "model_id": "08937084c1e34194b9d94f1ce6f892a9",
       "version_major": 2,
       "version_minor": 0
      },
      "text/plain": [
       "HTML(value='Of the 85,083 cases considered, there are 8243 a booked charge for resisting arrest, with the foll…"
      ]
     },
     "execution_count": 21,
     "metadata": {},
     "output_type": "execute_result"
    }
   ],
   "source": [
    "HTML(\"\\n\".join(pc148_sum.gettable_wingroup()))"
   ]
  },
  {
   "cell_type": "markdown",
   "id": "553f5e4b-ebab-41f8-9e24-4dd794471f9a",
   "metadata": {},
   "source": [
    "## `Relative_risk` module\n",
    "\n",
    "For the contingency table to work, you need to setup a supplemental variable that is a version of the race/ethnicity field for each comparison group (ie. Black vs. White).\n",
    "\n",
    "You could avoid setting up this variable by providing a filtered `df` that only includes records related to the comparison, as long as your comparison only involves groups in the data (ie. not comparing to non-Black defendants when you don't have that label encoded in the group variable)."
   ]
  },
  {
   "cell_type": "markdown",
   "id": "b92b0246-29e8-4f8b-a95a-f0d9c87a6e07",
   "metadata": {},
   "source": [
    "### background"
   ]
  },
  {
   "cell_type": "code",
   "execution_count": 22,
   "id": "d0df0c23-3586-4da1-a534-a89e7c2b1cc2",
   "metadata": {},
   "outputs": [
    {
     "data": {
      "text/plain": [
       "\u001b[31mInit signature:\u001b[39m Relative_risk.Ratio(df, params, labels)\n",
       "\u001b[31mDocstring:\u001b[39m     \n",
       "Calculation:\n",
       "- Table: \n",
       "- Description: \n",
       "Present:\n",
       "- Ratio: \n",
       "- Finding: \n",
       "\u001b[31mFile:\u001b[39m           ~/git/tool-suite/templates/analysis/Relative_risk.py\n",
       "\u001b[31mType:\u001b[39m           type\n",
       "\u001b[31mSubclasses:\u001b[39m     "
      ]
     },
     "metadata": {},
     "output_type": "display_data"
    }
   ],
   "source": [
    "Relative_risk.Ratio?"
   ]
  },
  {
   "cell_type": "code",
   "execution_count": 23,
   "id": "42ddc939-0761-450a-ad4d-ec470c34b9e0",
   "metadata": {},
   "outputs": [
    {
     "data": {
      "text/plain": [
       "['COMPARISON_GROUP_COL', 'OUTCOME_EVENT_COL', 'GIVEN_EVENT_COL']"
      ]
     },
     "execution_count": 23,
     "metadata": {},
     "output_type": "execute_result"
    }
   ],
   "source": [
    "Relative_risk.CONTINGENCY_PARAMS"
   ]
  },
  {
   "cell_type": "code",
   "execution_count": 24,
   "id": "7634c023-79b2-4114-8eb1-65cceb0b00a2",
   "metadata": {},
   "outputs": [
    {
     "data": {
      "text/plain": [
       "['TREAT_GROUP_COL',\n",
       " 'CONTROL_GROUP_COL',\n",
       " 'OUTCOME_EVENT_OP',\n",
       " 'OUTCOME_EVENT_COL',\n",
       " 'GIVEN_EVENT_COL']"
      ]
     },
     "execution_count": 24,
     "metadata": {},
     "output_type": "execute_result"
    }
   ],
   "source": [
    "Relative_risk.RATIO_PARAMS"
   ]
  },
  {
   "cell_type": "markdown",
   "id": "9878c91b-39fa-4e77-a681-baf1a9a4f912",
   "metadata": {},
   "source": [
    "### setup"
   ]
  },
  {
   "cell_type": "code",
   "execution_count": 25,
   "id": "d5216bab-5123-4a1d-bc57-5e182cc9c619",
   "metadata": {},
   "outputs": [],
   "source": [
    "sfda['def_black'] = sfda.ethnicity_group == 'Black'\n",
    "sfda['def_white'] = sfda.ethnicity_group == 'White'\n",
    "sfda['def_black_or_hispanic'] = sfda.ethnicity_group.isin(('Black', 'Latine'))\n",
    "sfda['def_not_black'] = ~sfda.def_black\n",
    "\n",
    "# setup comparison groups based on race data\n",
    "sfda.loc[(sfda.def_black) | (sfda.def_white), 'comparison_group_1'] = sfda.ethnicity_group\n",
    "sfda.loc[sfda.def_black, 'comparison_group_2'] = sfda.ethnicity_group\n",
    "sfda.loc[sfda.def_not_black, 'comparison_group_2'] = 'Race other than Black'\n",
    "sfda.loc[sfda.def_white, 'comparison_group_3'] = sfda.ethnicity_group\n",
    "sfda.loc[sfda.def_black_or_hispanic, 'comparison_group_3'] = 'Black or Hispanic'"
   ]
  },
  {
   "cell_type": "code",
   "execution_count": 26,
   "id": "8ad2173b-9ee3-4f3e-a93d-c4c8d78d15f6",
   "metadata": {},
   "outputs": [],
   "source": [
    "pc148_rr_tbl = Relative_risk.Contingency(\n",
    "    df=sfda,\n",
    "    params={\n",
    "        'COMPARISON_GROUP_COL': 'comparison_group_1',\n",
    "        'OUTCOME_EVENT_COL': 'pc_148_filed',\n",
    "        'GIVEN_EVENT_COL': 'pc_148_booked',\n",
    "    },\n",
    "    labels=LABELS,\n",
    ")\n",
    "pc148_rr_sum = Relative_risk.Ratio(\n",
    "    df=sfda,\n",
    "    params={\n",
    "        'TREAT_GROUP_COL': 'def_black',\n",
    "        'CONTROL_GROUP_COL': 'def_white',\n",
    "        'OUTCOME_EVENT_OP': 'faces',\n",
    "        'OUTCOME_EVENT_COL': 'pc_148_filed',\n",
    "        'GIVEN_EVENT_COL': 'pc_148_booked',\n",
    "    },\n",
    "    labels=LABELS,\n",
    ")"
   ]
  },
  {
   "cell_type": "code",
   "execution_count": 27,
   "id": "e5496b75-21ef-4b9a-bb71-2d7ef30d15da",
   "metadata": {},
   "outputs": [
    {
     "data": {
      "application/vnd.jupyter.widget-view+json": {
       "model_id": "a7dc5e75c29942cface98c4fd7b66790",
       "version_major": 2,
       "version_minor": 0
      },
      "text/plain": [
       "HTML(value='<p><table class=\"dataframe\">\\n  <thead>\\n    <tr style=\"text-align: right;\">\\n      <th style = \"b…"
      ]
     },
     "execution_count": 27,
     "metadata": {},
     "output_type": "execute_result"
    }
   ],
   "source": [
    "HTML(pc148_rr_tbl.gettable())"
   ]
  },
  {
   "cell_type": "code",
   "execution_count": 28,
   "id": "e9b473b9-ed9d-4aa6-a2fb-00df9c272e99",
   "metadata": {},
   "outputs": [
    {
     "name": "stdout",
     "output_type": "stream",
     "text": [
      "The ratio of the probability that a Black defendant faces a filed charge for resisting arrest compared to the probability that a White defendant faces a filed charge for resisting arrest is 1.178.\n",
      "\n",
      "\tIn other words, the relative risk that a Black defendant faces a filed charge for resisting arrest is **17.8% greater than** a White defendant.\n",
      "\n",
      "\n"
     ]
    }
   ],
   "source": [
    "print(pc148_rr_sum.getinfo())"
   ]
  },
  {
   "cell_type": "markdown",
   "id": "b934282f-599c-4b06-9a05-a3762590ed79",
   "metadata": {},
   "source": [
    "## `Chi_square` module\n",
    "\n",
    "This module has been setup to use the numbers exported from the `Summary` module."
   ]
  },
  {
   "cell_type": "markdown",
   "id": "081816e4-1907-410b-9c0d-68c92ff0066f",
   "metadata": {},
   "source": [
    "### background"
   ]
  },
  {
   "cell_type": "code",
   "execution_count": 29,
   "id": "4bc96c72-8ec5-449d-8eb3-01ea0c51da0d",
   "metadata": {},
   "outputs": [
    {
     "data": {
      "text/plain": [
       "{'SIG': 0.05, 'DDOF': 0}"
      ]
     },
     "execution_count": 29,
     "metadata": {},
     "output_type": "execute_result"
    }
   ],
   "source": [
    "Chi_square.DEFAULTS"
   ]
  },
  {
   "cell_type": "code",
   "execution_count": 30,
   "id": "056d1900-fa9a-4170-9872-54b4f65240fb",
   "metadata": {},
   "outputs": [
    {
     "data": {
      "text/plain": [
       "['CENSUS_DICT', 'OBSERVED_DICT', 'NULL_PHRASE', 'SIG', 'DDOF']"
      ]
     },
     "execution_count": 30,
     "metadata": {},
     "output_type": "execute_result"
    }
   ],
   "source": [
    "Chi_square.CENSUS_PARAMS"
   ]
  },
  {
   "cell_type": "code",
   "execution_count": 31,
   "id": "f2a6c1b2-9519-4285-8a20-89aec7ff2cd4",
   "metadata": {},
   "outputs": [
    {
     "data": {
      "text/plain": [
       "['OBSERVED_DICT', 'NULL_PHRASE', 'SIG', 'DDOF']"
      ]
     },
     "execution_count": 31,
     "metadata": {},
     "output_type": "execute_result"
    }
   ],
   "source": [
    "Chi_square.EQUAL_PARAMS"
   ]
  },
  {
   "cell_type": "code",
   "execution_count": 34,
   "id": "0375cb5a-3367-439e-89ff-c306525a051a",
   "metadata": {},
   "outputs": [],
   "source": [
    "params = {\n",
    "    'Census': {\n",
    "        'OBSERVED_DICT': pc148_sum_gc,\n",
    "        'CENSUS_DICT': {k:v for k,v in magic['county'].items() if k != 'total'},\n",
    "        'NULL_PHRASE': f\"the distribution by race of {\n",
    "            LABELS['pc_148_booked']} follows the distribution of the general population\"\n",
    "    },\n",
    "    'Equal': {\n",
    "        'OBSERVED_DICT': pc148_sum_gc,\n",
    "        'NULL_PHRASE': f\"the distribution by race of {\n",
    "            LABELS['pc_148_booked']} is equal across all groups\"\n",
    "    },\n",
    "}"
   ]
  },
  {
   "cell_type": "code",
   "execution_count": 36,
   "id": "9f1b8a25-5ccd-444c-a7a5-9ef8f2e78263",
   "metadata": {},
   "outputs": [
    {
     "name": "stdout",
     "output_type": "stream",
     "text": [
      "This test compares whether observed racial proportions     match the proportion of each racial group in the general population.    In interpreting the results, a p-value below 0.05 will be considered statistically significant.\n",
      "\n",
      "\tThis test results in a **p-value of < 0.0001**, which is a statistically significant difference and rejects the null hypothesis that the distribution by race of a booked charge for resisting arrest follows the distribution of the general population. \n"
     ]
    }
   ],
   "source": [
    "print(Chi_square.Census(params=params['Census']).getinfo())"
   ]
  },
  {
   "cell_type": "code",
   "execution_count": 37,
   "id": "68d90fd7-d6b9-4402-91d5-9bca51cc39ee",
   "metadata": {},
   "outputs": [
    {
     "name": "stdout",
     "output_type": "stream",
     "text": [
      "This test compares whether observed racial proportions match the proportion of each racial group in the general population.    In interpreting the results, a p-value below 0.05 will be considered statistically significant.\n",
      "\n",
      "\tThis test results in a **p-value of < 0.0001**, which is a statistically significant difference and rejects the null hypothesis that the distribution by race of a booked charge for resisting arrest is equal across all groups. \n"
     ]
    }
   ],
   "source": [
    "print(Chi_square.Equal(params=params['Equal']).getinfo())"
   ]
  },
  {
   "cell_type": "code",
   "execution_count": null,
   "id": "323318d0-46b4-4321-b901-b71ae3d2fc04",
   "metadata": {},
   "outputs": [],
   "source": []
  }
 ],
 "metadata": {
  "kernelspec": {
   "display_name": "Python 3 (ipykernel)",
   "language": "python",
   "name": "python3"
  },
  "language_info": {
   "codemirror_mode": {
    "name": "ipython",
    "version": 3
   },
   "file_extension": ".py",
   "mimetype": "text/x-python",
   "name": "python",
   "nbconvert_exporter": "python",
   "pygments_lexer": "ipython3",
   "version": "3.13.5"
  }
 },
 "nbformat": 4,
 "nbformat_minor": 5
}
