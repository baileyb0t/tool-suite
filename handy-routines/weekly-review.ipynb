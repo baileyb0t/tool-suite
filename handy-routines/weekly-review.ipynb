{
 "cells": [
  {
   "cell_type": "markdown",
   "id": "f899c8b6-e193-456d-ab78-a16b2802414b",
   "metadata": {},
   "source": [
    "# Goal\n",
    "\n",
    "- [ ] review `git` activity from the past `x` days/weeks/months (my main goal is weekly but I want the program to be flexible to use for quarterly and annual review) ('last week done' and 'repo activity' sections)\n",
    "- [ ] review Apple notes changes?? this is my primary notetaking program but I've tried to access the data before and wasn't able to. It would be great to track changes in pinned notes and flag unchecked tasks without having to enter them ('last week done', 'carryover from last week', capture free text notes that might be worth briefing others about)\n",
    "- [ ] process a preview weekly for incomplete tasks and prompt user to mark completion as Yes/No/Progress for each task ('last week done' and 'carryover from last week' sections)\n",
    "\n",
    "I think I already have a way to\n",
    "- [ ] import this week's meetings from calendar (filter out holiday calendar, events outside of 9am-5pm PT)"
   ]
  },
  {
   "cell_type": "markdown",
   "id": "8f56fd61-84f9-4c15-ae01-98a1ffcc5b72",
   "metadata": {},
   "source": [
    "# `git` activity review\n",
    "\n",
    "- probably best to use the [`gitpython`](https://gitpython.readthedocs.io/en/stable/tutorial.html#tutorial-label) module"
   ]
  },
  {
   "cell_type": "markdown",
   "id": "fd4cfa33-c55d-4fba-8eb1-7cf555458553",
   "metadata": {},
   "source": [
    "## setup"
   ]
  },
  {
   "cell_type": "code",
   "execution_count": 1,
   "id": "a9997ab2-6d55-44d6-ab6a-126b549454e5",
   "metadata": {},
   "outputs": [],
   "source": [
    "# dependencies\n",
    "from os import listdir, path\n",
    "from pathlib import Path\n",
    "from datetime import date, datetime\n",
    "from dateutil.relativedelta import *\n",
    "import git\n",
    "import re"
   ]
  },
  {
   "cell_type": "code",
   "execution_count": 2,
   "id": "19735b3b-2f71-4281-83b2-a280e5246220",
   "metadata": {},
   "outputs": [],
   "source": [
    "# support methods\n",
    "def findrepos(gitdir):\n",
    "    gitdir = path.expanduser(gitdir)\n",
    "    info = {}\n",
    "    for dirname in listdir(gitdir):\n",
    "        dirpath = f\"{gitdir}/{dirname}\"\n",
    "        if Path(f\"{dirpath}/.git\").exists(): info[dirname] = {'path': dirpath}\n",
    "    assert info\n",
    "    return info\n",
    "\n",
    "\n",
    "def checkrepos(info):\n",
    "    newinfo = info\n",
    "    for reponame, repoinfo in info.items():\n",
    "        repo = git.Repo(repoinfo['path'])\n",
    "        newinfo[reponame]['dirty'] = repo.is_dirty()\n",
    "        newinfo[reponame]['untracked'] = [\n",
    "            f for f in repo.untracked_files if 'checkpoint' not in f]\n",
    "    assert newinfo\n",
    "    return newinfo\n",
    "\n",
    "\n",
    "def recentcommits(info, sdate, edate, author=None):\n",
    "    \"\"\"Authored datetime is preserved on rebase, and\n",
    "    we want to include commits from this week that might have been rebasing an earlier commit.\"\"\"\n",
    "    newinfo = info\n",
    "    for reponame, repoinfo in info.items():\n",
    "        repo = git.Repo(repoinfo['path'])\n",
    "        if author: newinfo[reponame]['n_other_recent'] = 0\n",
    "        commits = []\n",
    "        nother = 0\n",
    "        for commit in repo.iter_commits():\n",
    "            tzaware = commit.committed_date + commit.committer_tz_offset\n",
    "            committed = datetime.fromtimestamp(tzaware)\n",
    "            if (committed < edate) & (committed >= sdate):\n",
    "                if author:\n",
    "                    if author.lower() in commit.author.name.lower(): commits.append(commit)\n",
    "                    else: newinfo[reponame]['n_other_recent'] += 1\n",
    "                else: commits.append(commit)\n",
    "        newinfo[reponame]['recent'] = commits\n",
    "        if newinfo[reponame]['n_other_recent'] == 0: newinfo[reponame].pop('n_other_recent')\n",
    "    assert newinfo\n",
    "    return newinfo\n",
    "\n",
    "\n",
    "def chunkstring(string, length):\n",
    "    return (string[0+i:length+i] for i in range(0, len(string), length))\n",
    "\n",
    "\n",
    "def formatreponame(reponame, fixedwidth):\n",
    "    formatted = '+-' + '-' * fixedwidth + '-+\\n'\n",
    "    for line in chunkstring(string=reponame, length=fixedwidth):\n",
    "        formatted += '| {0:^{1}} |'.format(line, fixedwidth)\n",
    "    formatted += '\\n+-' + '-'*(fixedwidth) + '-+\\n'\n",
    "    return formatted\n",
    "\n",
    "\n",
    "def formatmessage(msg):\n",
    "    \"\"\"I want the first work of the commit message to be title-cased, but not the rest of the message.\"\"\"\n",
    "    chunks = msg.strip().split()\n",
    "    titled = chunks[0].title() + ' ' + ' '.join(chunks[1:])\n",
    "    if titled[-1] != \".\": titled += \".\"\n",
    "    return titled\n",
    "\n",
    "\n",
    "def summarize(reponame, commits):\n",
    "    if not any(commits): return \"\"\n",
    "    summary = \"\"\n",
    "    for commit in commits:\n",
    "        commitdt = datetime.fromtimestamp(commit.committed_date + commit.committer_tz_offset).strftime(\"%a %d %b\")\n",
    "        nchanges = commit.stats.total\n",
    "        if commitdt not in summary: summary += f\"_Committed: {commitdt}_\\n\"\n",
    "        overview = f\"* [{commit.hexsha[:8]}]: {formatmessage(msg=commit.message)}\"\n",
    "        overview += f\" // Involves {nchanges['files']} file(s), {nchanges['lines']} lines\\n\"\n",
    "        summary += overview\n",
    "    return summary\n",
    "\n",
    "\n",
    "def summarizerecent(repos):\n",
    "    fullsummary = \"\"\n",
    "    for reponame, repoinfo in repos.items():\n",
    "        if not ((any(repoinfo['recent'])) | ('n_other_recent' in repoinfo.keys())): continue\n",
    "        summary = formatreponame(reponame=f\"`{reponame}`\", fixedwidth=30)\n",
    "        if any(repoinfo['recent']):\n",
    "            recent = summarize(reponame=reponame, commits=repoinfo['recent'])\n",
    "            summary += recent\n",
    "        if 'n_other_recent' in repoinfo.keys():\n",
    "            if repoinfo['n_other_recent'] > 0:\n",
    "                summary += f\"* {repoinfo['n_other_recent']} commits by other users.\\n\"\n",
    "        summary += f\"* {len(repoinfo['untracked'])} untracked files.\\n\"\n",
    "        fullsummary = fullsummary + \"\\n\" + summary\n",
    "    return fullsummary"
   ]
  },
  {
   "cell_type": "code",
   "execution_count": 3,
   "id": "0973aac0-4ef1-41cf-8355-1e8834108b1c",
   "metadata": {},
   "outputs": [],
   "source": [
    "# main\n",
    "base = findrepos(gitdir=\"~/git\")\n",
    "base = checkrepos(info=base)\n",
    "today = datetime.now()\n",
    "aweekago = today - relativedelta(days=+7)\n",
    "repos = recentcommits(info=base, sdate=aweekago, edate=today, author=\"bailey\")\n",
    "summary = summarizerecent(repos)"
   ]
  },
  {
   "cell_type": "markdown",
   "id": "ee9c63b1-67b8-42bb-b055-55b665780b75",
   "metadata": {},
   "source": [
    "## preview"
   ]
  },
  {
   "cell_type": "code",
   "execution_count": 4,
   "id": "56427e6a-6ce2-4693-a351-50bbb544b461",
   "metadata": {},
   "outputs": [],
   "source": [
    "reponame = 'Chi-MP-data-story'\n",
    "repo = git.Repo(repos[reponame]['path'])\n",
    "recent = repos[reponame]['recent']\n",
    "commit = recent[0]"
   ]
  },
  {
   "cell_type": "code",
   "execution_count": 5,
   "id": "1368e753-4a0a-4ff2-afb8-cb623fe10d94",
   "metadata": {},
   "outputs": [
    {
     "data": {
      "text/plain": [
       "<git.Commit \"ed746774c471ae3c64de57fb29997f286643f7a6\">"
      ]
     },
     "execution_count": 5,
     "metadata": {},
     "output_type": "execute_result"
    }
   ],
   "source": [
    "commit"
   ]
  },
  {
   "cell_type": "code",
   "execution_count": 6,
   "id": "e53c094d-d506-41b8-955b-cabd29cc1da3",
   "metadata": {},
   "outputs": [
    {
     "data": {
      "text/plain": [
       "('Bailey', 'bailey@hrdag.org')"
      ]
     },
     "execution_count": 6,
     "metadata": {},
     "output_type": "execute_result"
    }
   ],
   "source": [
    "repo.commit().author.name, repo.commit().author.email"
   ]
  },
  {
   "cell_type": "code",
   "execution_count": 7,
   "id": "c9cbdaf3-9284-493c-a664-c74b418a3ff7",
   "metadata": {},
   "outputs": [
    {
     "data": {
      "text/plain": [
       "'pulled one more small section and re-ran notebook\\n'"
      ]
     },
     "execution_count": 7,
     "metadata": {},
     "output_type": "execute_result"
    }
   ],
   "source": [
    "commit.message"
   ]
  },
  {
   "cell_type": "code",
   "execution_count": 8,
   "id": "9dbea238-05f7-457c-8756-1990c5baf5ef",
   "metadata": {},
   "outputs": [
    {
     "data": {
      "text/plain": [
       "{'path': '/Users/home/git/PR-Km0',\n",
       " 'dirty': False,\n",
       " 'untracked': [],\n",
       " 'n_other_recent': 2,\n",
       " 'recent': []}"
      ]
     },
     "execution_count": 8,
     "metadata": {},
     "output_type": "execute_result"
    }
   ],
   "source": [
    "base['PR-Km0']"
   ]
  },
  {
   "cell_type": "markdown",
   "id": "14ffc200-94c2-4ca8-806a-93954de5059a",
   "metadata": {},
   "source": [
    "# meetings +/- 1 week\n",
    "\n",
    "- Using code from the [TODO-helper `compose`](https://github.com/baileyb0t/TODO-helper/tree/main/compose) task: https://github.com/baileyb0t/TODO-helper/tree/main/compose\n",
    "- The TODO-helper repo has a `calendar` task that handles downloading the google calendar as an .ics file for use in building this note file. I'm not going to copy or cover that code, just use the .ics file here since I will be incorporating this routine into TODO-helper once polished."
   ]
  },
  {
   "cell_type": "code",
   "execution_count": 9,
   "id": "442d60a7-549d-45bb-80fa-7b1f4e02e869",
   "metadata": {},
   "outputs": [],
   "source": [
    "import yaml\n",
    "from zoneinfo import ZoneInfo\n",
    "from datetime import datetime\n",
    "import holidays\n",
    "from modules.doc import Doc\n",
    "\n",
    "\n",
    "def read_yaml(fname):\n",
    "    with open(fname, 'r') as f:\n",
    "        rules = yaml.safe_load(f)\n",
    "        f.close()\n",
    "    return rules\n",
    "\n",
    "\n",
    "def format_date(from_arg, date=datetime.now()):\n",
    "    if not from_arg:\n",
    "        return date.replace(tzinfo=ZoneInfo('US/Pacific'))\n",
    "    if '-' in date: form = datetime.strptime(date, '%Y-%m-%d')\n",
    "    else: form = datetime.strptime(date, '%Y%m%d')\n",
    "    return form.astimezone(ZoneInfo('US/Pacific'))\n",
    "\n",
    "\n",
    "def prep_out(givendate, outdir):\n",
    "    if not givendate: today = format_date(from_arg=False)\n",
    "    else: today = format_date(from_arg=True, date=givendate)\n",
    "    path = f\"{outdir}/{today.strftime('%Y-%m-%d')}\"\n",
    "    today = today\n",
    "    return path, today\n",
    "\n",
    "\n",
    "def check_holidays():\n",
    "    by_county = {holidays.country_holidays(country).get(today)\n",
    "                 for country in countries}\n",
    "    by_market = {holidays.financial_holidays(market).get(today)\n",
    "                 for market in markets}\n",
    "    found = {v for v in by_county.union(by_market) if v}\n",
    "    if not any(found): return None\n",
    "    return found\n",
    "\n",
    "\n",
    "def add_holidays(notes):\n",
    "    found = check_holidays()\n",
    "    label = 'National or financial holiday(s)'\n",
    "    notes.insert(prefix=formats['notes'], text=f'{label}:\\t{found}')\n",
    "    notes.insert(prefix='', text='')\n",
    "    return notes"
   ]
  },
  {
   "cell_type": "code",
   "execution_count": 10,
   "id": "4163a56f-6ef4-49c9-9c83-4e21f709072e",
   "metadata": {},
   "outputs": [],
   "source": [
    "from datetime import date\n",
    "from icalendar import Calendar\n",
    "import recurring_ical_events\n",
    "from modules import doc\n",
    "\n",
    "\n",
    "def load_cal(icsname):\n",
    "    with open(icsname, 'rb') as f:\n",
    "        ecal = Calendar.from_ical(f.read())\n",
    "    f.close()\n",
    "    return ecal\n",
    "\n",
    "\n",
    "def get_event_info(event):\n",
    "    return {\n",
    "        'title': str(event['SUMMARY']),\n",
    "        'timestamp': event.decoded('DTSTART'),\n",
    "        'date': event.decoded('DTSTART').strftime('%Y-%m-%d'),\n",
    "        'time': event.decoded('DTSTART').strftime('%H:%M'),\n",
    "        'weekday': event.decoded('DTSTART').strftime('%a'),\n",
    "    }\n",
    "\n",
    "\n",
    "def find_events(ecal, caldate):\n",
    "    events = []\n",
    "    for event in recurring_ical_events.of(ecal).at(caldate):\n",
    "        if (event.decoded('DTSTART').hour < 9) | (event.decoded('DTSTART').hour > 17): continue\n",
    "        if event.decoded('DTSTART').isoweekday() > 5: continue\n",
    "        if 'SUMMARY' in event:\n",
    "            if ' appt' in str(event['SUMMARY']): continue\n",
    "            info = get_event_info(event)\n",
    "            if 'LOCATION' in event: info['location'] = str(event['LOCATION'])\n",
    "            events.append(info)\n",
    "    return events\n",
    "\n",
    "\n",
    "def get_events(ecal, caldate):\n",
    "    events = find_events(ecal, caldate)\n",
    "    out = []\n",
    "    for event in events:\n",
    "        if 'location' in event:\n",
    "            if 'https' in event['location'].lower(): meet_type='virtual'\n",
    "            else: meet_type='in person'\n",
    "        else:\n",
    "            meet_type='no location set'\n",
    "        text = f\"{event['weekday']} {event['time']}: {event['title']} ({meet_type})\"\n",
    "        out.append(text)\n",
    "    return sorted(out)\n",
    "\n",
    "\n",
    "def add_events(notes, events, prefix):\n",
    "    if not any(events): return notes\n",
    "    for text in events:\n",
    "        notes.insert(prefix=prefix,\n",
    "                     text=text)\n",
    "    return notes"
   ]
  },
  {
   "cell_type": "code",
   "execution_count": 11,
   "id": "128b8843-ce9f-4e78-be0b-0e4f08533bf2",
   "metadata": {},
   "outputs": [
    {
     "data": {
      "text/plain": [
       "'./notes.json written successfully'"
      ]
     },
     "execution_count": 11,
     "metadata": {},
     "output_type": "execute_result"
    }
   ],
   "source": [
    "ecal = load_cal(\"../../TODO-helper/calendar/output/mpb.ics\")\n",
    "rules = read_yaml(\"hand/rules.yml\")\n",
    "outdir = \".\"\n",
    "notesjson = f\"{outdir}/notes.json\"\n",
    "\n",
    "formats = rules['format']\n",
    "countries = rules['countries'].split()\n",
    "markets = rules['markets'].split()\n",
    "\n",
    "path, today = prep_out(givendate=date.today().strftime(\"%Y%m%d\"), outdir=\"./\")\n",
    "notes = Doc(prefix='# ',\n",
    "          text=today.strftime('%A, %d %B %Y'),\n",
    "          path=path,\n",
    "          dailyday=today.strftime('%Y-%m-%d'))\n",
    "notes = add_holidays(notes)\n",
    "notes.insert(prefix=formats['text'], text='')\n",
    "\n",
    "notes.insert(prefix=formats['header'], text='On my plate')\n",
    "notes.insert(prefix=formats['subheader'], text='Priorities this week')\n",
    "notes.insert(prefix=formats['notes'], text='\\n')\n",
    "notes.insert(prefix=formats['subheader'], text='Back-burner this week')\n",
    "notes.insert(prefix=formats['notes'], text='\\n')\n",
    "notes.insert(prefix=formats['subheader'], text='Back-back-burner')\n",
    "notes.insert(prefix=formats['notes'], text='\\n\\n')\n",
    "\n",
    "notes.to_json(notesjson)"
   ]
  },
  {
   "cell_type": "code",
   "execution_count": 12,
   "id": "7c6ca924-6ed2-48e2-922e-76c283596480",
   "metadata": {},
   "outputs": [
    {
     "data": {
      "text/plain": [
       "1"
      ]
     },
     "execution_count": 12,
     "metadata": {},
     "output_type": "execute_result"
    }
   ],
   "source": [
    "notes = doc.from_json(notesjson)\n",
    "outdir = \".\"\n",
    "notesmd = f\"{outdir}/notes.md\"\n",
    "\n",
    "today = datetime.now()\n",
    "aweekago = today - relativedelta(days=+7)\n",
    "\n",
    "notes.insert(prefix=formats['header'], text='On the calendar')\n",
    "notes.insert(prefix=formats['subheader'], text='Last week')\n",
    "for i in range(0, 7):\n",
    "    caldate = (aweekago + relativedelta(days=+i)).strftime(\"%Y%m%d\")\n",
    "    events = get_events(ecal, caldate)\n",
    "    notes = add_events(notes, events, prefix=formats['meeting_done'])\n",
    "notes.insert(prefix=formats['text'], text='')\n",
    "\n",
    "notes.insert(prefix=formats['subheader'], text='This week')\n",
    "for i in range(0, 7):\n",
    "    caldate = (today + relativedelta(days=+i)).strftime(\"%Y%m%d\")\n",
    "    events = get_events(ecal, caldate)\n",
    "    notes = add_events(notes, events, prefix=formats['meeting'])\n",
    "notes.insert(prefix=formats['text'], text='\\n')\n",
    "\n",
    "notes.insert(prefix=formats['header'], text='Repo activity')\n",
    "notes.insert(prefix=formats['text'], text=summary)\n",
    "\n",
    "notes.to_json(notesjson)\n",
    "notes.to_md(notesmd)"
   ]
  },
  {
   "cell_type": "code",
   "execution_count": 13,
   "id": "f939a08e-9eeb-409c-8da4-deb7a3675ca9",
   "metadata": {},
   "outputs": [
    {
     "data": {
      "text/plain": [
       "# Sunday, 12 January 2025\n",
       "- National or financial holiday(s):\tNone\n",
       "\n",
       "\n",
       "# On my plate\n",
       "### Priorities this week\n",
       "- \n",
       "\n",
       "### Back-burner this week\n",
       "- \n",
       "\n",
       "### Back-back-burner\n",
       "- \n",
       "\n",
       "\n",
       "# On the calendar\n",
       "### Last week\n",
       "- [x] Mon 09:00: Monday Office Hours (virtual)\n",
       "- [x] Wed 09:00: TS + BP standing (virtual)\n",
       "- [x] Thu 14:30: chat w/ MEP (virtual)\n",
       "- [x] Fri 12:30: testing (in person)\n",
       "\n",
       "### This week\n",
       "- [ ] Mon 09:00: Monday Office Hours (virtual)\n",
       "- [ ] Tue 10:00: ACCESS project sync (virtual)\n",
       "- [ ] Tue 11:00: team mtg (virtual)\n",
       "- [ ] Wed 09:00: TS + BP standing (virtual)\n",
       "- [ ] Wed 11:00: HRDAG, SFPDO, and friends (virtual)\n",
       "- [ ] Fri 13:00: Code Review (no location set)\n",
       "\n",
       "\n",
       "# Repo activity\n",
       "\n",
       "+--------------------------------+\n",
       "|            `PR-Km0`            |\n",
       "+--------------------------------+\n",
       "* 2 commits by other users.\n",
       "* 0 untracked files.\n",
       "\n",
       "+--------------------------------+\n",
       "|      `Chi-MP-data-story`       |\n",
       "+--------------------------------+\n",
       "_Committed: Thu 09 Jan_\n",
       "* [ed746774]: Pulled one more small section and re-ran notebook. // Involves 1 file(s), 383 lines\n",
       "* [bdbfc9b9]: Finished incorporating feedback from TS and MEP; need to work on 2 titles otherwise ready to pass to II. // Involves 2 file(s), 1507 lines\n",
       "* 0 untracked files.\n",
       "\n",
       "+--------------------------------+\n",
       "|        `US-Ventura-RJA`        |\n",
       "+--------------------------------+\n",
       "_Committed: Mon 06 Jan_\n",
       "* [0a795b58]: Added other sequence fields that can be used to identify a particular version of a case against a defendant. // Involves 1 file(s), 7 lines\n",
       "* 0 untracked files.\n"
      ]
     },
     "execution_count": 13,
     "metadata": {},
     "output_type": "execute_result"
    }
   ],
   "source": [
    "notes"
   ]
  }
 ],
 "metadata": {
  "kernelspec": {
   "display_name": "Python 3 (ipykernel)",
   "language": "python",
   "name": "python3"
  },
  "language_info": {
   "codemirror_mode": {
    "name": "ipython",
    "version": 3
   },
   "file_extension": ".py",
   "mimetype": "text/x-python",
   "name": "python",
   "nbconvert_exporter": "python",
   "pygments_lexer": "ipython3",
   "version": "3.12.7"
  }
 },
 "nbformat": 4,
 "nbformat_minor": 5
}
