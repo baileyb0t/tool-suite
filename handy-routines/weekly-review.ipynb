{
 "cells": [
  {
   "cell_type": "markdown",
   "id": "f899c8b6-e193-456d-ab78-a16b2802414b",
   "metadata": {},
   "source": [
    "# Goal\n",
    "\n",
    "- [ ] review `git` activity from the past `x` days/weeks/months (my main goal is weekly but I want the program to be flexible to use for quarterly and annual review) ('last week done' and 'repo activity' sections)\n",
    "- [ ] review Apple notes changes?? this is my primary notetaking program but I've tried to access the data before and wasn't able to. It would be great to track changes in pinned notes and flag unchecked tasks without having to enter them ('last week done', 'carryover from last week', capture free text notes that might be worth briefing others about)\n",
    "- [ ] process a preview weekly for incomplete tasks and prompt user to mark completion as Yes/No/Progress for each task ('last week done' and 'carryover from last week' sections)\n",
    "\n",
    "I think I already have a way to\n",
    "- [ ] import this week's meetings from calendar (filter out holiday calendar, events outside of 9am-5pm PT)"
   ]
  },
  {
   "cell_type": "markdown",
   "id": "8f56fd61-84f9-4c15-ae01-98a1ffcc5b72",
   "metadata": {},
   "source": [
    "# `git` activity review\n",
    "\n",
    "- probably best to use the [`gitpython`](https://gitpython.readthedocs.io/en/stable/tutorial.html#tutorial-label) module"
   ]
  },
  {
   "cell_type": "markdown",
   "id": "fd4cfa33-c55d-4fba-8eb1-7cf555458553",
   "metadata": {},
   "source": [
    "## setup"
   ]
  },
  {
   "cell_type": "code",
   "execution_count": 1,
   "id": "a9997ab2-6d55-44d6-ab6a-126b549454e5",
   "metadata": {},
   "outputs": [],
   "source": [
    "# dependencies\n",
    "from os import listdir, path\n",
    "from pathlib import Path\n",
    "from datetime import date, datetime\n",
    "from dateutil.relativedelta import *\n",
    "import git\n",
    "import re"
   ]
  },
  {
   "cell_type": "code",
   "execution_count": 2,
   "id": "19735b3b-2f71-4281-83b2-a280e5246220",
   "metadata": {},
   "outputs": [],
   "source": [
    "# support methods\n",
    "def findrepos(gitdir):\n",
    "    gitdir = path.expanduser(gitdir)\n",
    "    info = {}\n",
    "    for dirname in listdir(gitdir):\n",
    "        dirpath = f\"{gitdir}/{dirname}\"\n",
    "        if Path(f\"{dirpath}/.git\").exists(): info[dirname] = {'path': dirpath}\n",
    "    assert info\n",
    "    return info\n",
    "\n",
    "\n",
    "def checkrepos(info):\n",
    "    newinfo = info\n",
    "    for reponame, repoinfo in info.items():\n",
    "        repo = git.Repo(repoinfo['path'])\n",
    "        newinfo[reponame]['dirty'] = repo.is_dirty()\n",
    "        newinfo[reponame]['untracked'] = [\n",
    "            f for f in repo.untracked_files if 'checkpoint' not in f]\n",
    "    assert newinfo\n",
    "    return newinfo\n",
    "\n",
    "\n",
    "def recentcommits(info, sdate, edate, author=None):\n",
    "    \"\"\"Authored datetime is preserved on rebase, and\n",
    "    we want to include commits from this week that might have been rebasing an earlier commit.\"\"\"\n",
    "    newinfo = info\n",
    "    for reponame, repoinfo in info.items():\n",
    "        repo = git.Repo(repoinfo['path'])\n",
    "        if author: newinfo[reponame]['n_other_recent'] = 0\n",
    "        commits = []\n",
    "        nother = 0\n",
    "        for commit in repo.iter_commits():\n",
    "            tzaware = commit.committed_date + commit.committer_tz_offset\n",
    "            committed = datetime.fromtimestamp(tzaware)\n",
    "            if (committed < edate) & (committed >= sdate):\n",
    "                if author:\n",
    "                    if author.lower() in commit.author.name.lower(): commits.append(commit)\n",
    "                    else: newinfo[reponame]['n_other_recent'] += 1\n",
    "                else: commits.append(commit)\n",
    "        newinfo[reponame]['recent'] = commits\n",
    "        if newinfo[reponame]['n_other_recent'] == 0: newinfo[reponame].pop('n_other_recent')\n",
    "    assert newinfo\n",
    "    return newinfo\n",
    "\n",
    "\n",
    "def formatmessage(msg):\n",
    "    \"\"\"I want the first work of the commit message to be title-cased, but not the rest of the message.\"\"\"\n",
    "    chunks = msg.strip().split()\n",
    "    titled = chunks[0].title() + ' ' + ' '.join(chunks[1:])\n",
    "    if titled[-1] != \".\": titled += \".\"\n",
    "    return titled\n",
    "\n",
    "\n",
    "def summarize(reponame, commits):\n",
    "    if not any(commits): return \"\"\n",
    "    summary = \"\"\n",
    "    for commit in commits:\n",
    "        commitdt = datetime.fromtimestamp(commit.committed_date + commit.committer_tz_offset).strftime(\"%a %d %b\")\n",
    "        nchanges = commit.stats.total\n",
    "        overview = f\"- [{commit.hexsha[:8]}]:\\t{formatmessage(msg=commit.message)}\"\n",
    "        overview += f\"\\n\\t\\t// Involves {nchanges['files']} file(s), {nchanges['lines']} lines // \"\n",
    "        overview += f\"Committed: {commitdt}\\n\"\n",
    "        summary += overview\n",
    "    summary += \"\\n\"\n",
    "    return summary\n",
    "\n",
    "\n",
    "def summarizerecent(repos):\n",
    "    fullsummary = \"\"\n",
    "    for reponame, repoinfo in repos.items():\n",
    "        if not ((any(repoinfo['recent'])) | ('n_other_recent' in repoinfo.keys())): continue\n",
    "        summary = f\"Commits in `{reponame}`:\\n\"\n",
    "        if any(repoinfo['recent']):\n",
    "            recent = summarize(reponame=reponame, commits=repoinfo['recent'])\n",
    "            summary += recent\n",
    "        if 'n_other_recent' in repoinfo.keys():\n",
    "            if repoinfo['n_other_recent'] > 0:\n",
    "                summary += f\"- {repoinfo['n_other_recent']} commits by other users.\\n\"\n",
    "        fullsummary = fullsummary + \"\\n\" + summary\n",
    "    return fullsummary"
   ]
  },
  {
   "cell_type": "code",
   "execution_count": 3,
   "id": "0973aac0-4ef1-41cf-8355-1e8834108b1c",
   "metadata": {},
   "outputs": [],
   "source": [
    "# main\n",
    "base = findrepos(gitdir=\"~/git\")\n",
    "base = checkrepos(info=base)\n",
    "today = datetime.now()\n",
    "aweekago = today - relativedelta(days=+7)\n",
    "repos = recentcommits(info=base, sdate=aweekago, edate=today, author=\"bailey\")\n",
    "summary = summarizerecent(repos)"
   ]
  },
  {
   "cell_type": "markdown",
   "id": "ee9c63b1-67b8-42bb-b055-55b665780b75",
   "metadata": {},
   "source": [
    "## preview"
   ]
  },
  {
   "cell_type": "code",
   "execution_count": 4,
   "id": "56427e6a-6ce2-4693-a351-50bbb544b461",
   "metadata": {},
   "outputs": [],
   "source": [
    "reponame = 'Chi-MP-data-story'\n",
    "repo = git.Repo(repos[reponame]['path'])\n",
    "recent = repos[reponame]['recent']\n",
    "commit = recent[0]"
   ]
  },
  {
   "cell_type": "code",
   "execution_count": 5,
   "id": "1368e753-4a0a-4ff2-afb8-cb623fe10d94",
   "metadata": {},
   "outputs": [
    {
     "data": {
      "text/plain": [
       "<git.Commit \"ed746774c471ae3c64de57fb29997f286643f7a6\">"
      ]
     },
     "execution_count": 5,
     "metadata": {},
     "output_type": "execute_result"
    }
   ],
   "source": [
    "commit"
   ]
  },
  {
   "cell_type": "code",
   "execution_count": 6,
   "id": "e53c094d-d506-41b8-955b-cabd29cc1da3",
   "metadata": {},
   "outputs": [
    {
     "data": {
      "text/plain": [
       "'Bailey'"
      ]
     },
     "execution_count": 6,
     "metadata": {},
     "output_type": "execute_result"
    }
   ],
   "source": [
    "repo.commit().author.name"
   ]
  },
  {
   "cell_type": "code",
   "execution_count": 7,
   "id": "c9cbdaf3-9284-493c-a664-c74b418a3ff7",
   "metadata": {},
   "outputs": [
    {
     "data": {
      "text/plain": [
       "'pulled one more small section and re-ran notebook\\n'"
      ]
     },
     "execution_count": 7,
     "metadata": {},
     "output_type": "execute_result"
    }
   ],
   "source": [
    "commit.message"
   ]
  },
  {
   "cell_type": "code",
   "execution_count": 8,
   "id": "bd8ba0b9-0f33-47ad-8a09-57cdf6004776",
   "metadata": {},
   "outputs": [
    {
     "name": "stdout",
     "output_type": "stream",
     "text": [
      "\n",
      "Commits in `Chi-MP-data-story`:\n",
      "- [ed746774]:\tPulled one more small section and re-ran notebook.\n",
      "\t\t// Involves 1 file(s), 383 lines // Committed: Thu 09 Jan\n",
      "- [bdbfc9b9]:\tFinished incorporating feedback from TS and MEP; need to work on 2 titles otherwise ready to pass to II.\n",
      "\t\t// Involves 2 file(s), 1507 lines // Committed: Thu 09 Jan\n",
      "\n",
      "\n",
      "Commits in `US-Ventura-RJA`:\n",
      "- [0a795b58]:\tAdded other sequence fields that can be used to identify a particular version of a case against a defendant.\n",
      "\t\t// Involves 1 file(s), 7 lines // Committed: Mon 06 Jan\n",
      "\n",
      "\n"
     ]
    }
   ],
   "source": [
    "print(summary)"
   ]
  },
  {
   "cell_type": "code",
   "execution_count": null,
   "id": "4163a56f-6ef4-49c9-9c83-4e21f709072e",
   "metadata": {},
   "outputs": [],
   "source": []
  }
 ],
 "metadata": {
  "kernelspec": {
   "display_name": "Python 3 (ipykernel)",
   "language": "python",
   "name": "python3"
  },
  "language_info": {
   "codemirror_mode": {
    "name": "ipython",
    "version": 3
   },
   "file_extension": ".py",
   "mimetype": "text/x-python",
   "name": "python",
   "nbconvert_exporter": "python",
   "pygments_lexer": "ipython3",
   "version": "3.12.7"
  }
 },
 "nbformat": 4,
 "nbformat_minor": 5
}
