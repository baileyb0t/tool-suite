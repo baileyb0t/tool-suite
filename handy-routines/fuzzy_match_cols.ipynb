{
 "cells": [
  {
   "cell_type": "code",
   "execution_count": 1,
   "id": "1bb0e135",
   "metadata": {},
   "outputs": [],
   "source": [
    "import pyarrow.parquet as pq\n",
    "from fuzzywuzzy import fuzz"
   ]
  },
  {
   "cell_type": "code",
   "execution_count": 2,
   "id": "0db71d7b",
   "metadata": {},
   "outputs": [],
   "source": [
    "def get_cols_only(f):\n",
    "    table = pq.read_table(f)\n",
    "    return table.schema.names\n",
    "\n",
    "\n",
    "def get_all_cols(data_ref):\n",
    "    assert pd.notnull(data_ref)\n",
    "    out = {}\n",
    "    for k,v in data_ref.items():\n",
    "        out[k] = get_cols_only(v)\n",
    "    return out\n",
    "\n",
    "\n",
    "def fuzzy_match(l, r, thresh):\n",
    "    return fuzz.ratio(l, r) >= thresh\n",
    "\n",
    "\n",
    "def comp_col_list(col_list, col, thresh):\n",
    "    for v in col_list:\n",
    "        if fuzzy_match(col, v, thresh):\n",
    "            return v\n",
    "    return None\n",
    "\n",
    "\n",
    "def make_fuzzy_cols(data_ref, thresh=70):\n",
    "    groups = get_all_cols(data_ref)\n",
    "    core_cols = groups['orig']\n",
    "    groups.pop('orig')\n",
    "    out = {col:[] for col in core_cols}\n",
    "    for label,other_col_list in groups.items():\n",
    "        for col in other_col_list:\n",
    "            # if no exact match for col name, compare col name to known existing\n",
    "            if col not in out:\n",
    "                similar = comp_col_list(core_cols, col, thresh)\n",
    "                if similar:\n",
    "                    if col not in out[similar]:\n",
    "                        out[similar].append(col)\n",
    "                else:\n",
    "                    out[col] = []\n",
    "    return out"
   ]
  },
  {
   "cell_type": "code",
   "execution_count": null,
   "id": "78b5c458",
   "metadata": {},
   "outputs": [],
   "source": []
  }
 ],
 "metadata": {
  "kernelspec": {
   "display_name": "Python 3 (ipykernel)",
   "language": "python",
   "name": "python3"
  },
  "language_info": {
   "codemirror_mode": {
    "name": "ipython",
    "version": 3
   },
   "file_extension": ".py",
   "mimetype": "text/x-python",
   "name": "python",
   "nbconvert_exporter": "python",
   "pygments_lexer": "ipython3",
   "version": "3.9.10"
  }
 },
 "nbformat": 4,
 "nbformat_minor": 5
}
