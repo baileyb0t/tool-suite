{
 "cells": [
  {
   "cell_type": "code",
   "execution_count": 1,
   "id": "ac97a6a8",
   "metadata": {
    "code_folding": [
     0
    ],
    "run_control": {
     "marked": true
    }
   },
   "outputs": [],
   "source": [
    "# dependencies\n",
    "from os.path import isdir\n",
    "from pathlib import Path"
   ]
  },
  {
   "cell_type": "code",
   "execution_count": 10,
   "id": "6ed3a536",
   "metadata": {
    "run_control": {
     "marked": true
    }
   },
   "outputs": [],
   "source": [
    "# support methods\n",
    "def scandir(arg):\n",
    "    assert isdir(arg)\n",
    "    out = {\n",
    "        'py': [path for path in Path(arg).rglob('*.py')],\n",
    "        'R': [path for path in Path(arg).rglob('*.R')],\n",
    "    }\n",
    "    if not out.values: return none\n",
    "    return out\n",
    "\n",
    "\n",
    "def getpylibs(fname):\n",
    "    pykw = 'import '\n",
    "    with open(fname, 'r') as f: \n",
    "        lines = [line.strip() for line in f.readlines() \n",
    "                 if (line[0] != '#') & (pykw in line)]\n",
    "    libs = [line.split()[1] for line in lines]\n",
    "    if not libs: return None\n",
    "    return libs\n",
    "\n",
    "\n",
    "def scanRlines(fname):\n",
    "    Rkws = ('library(','install')\n",
    "    with open(fname, 'r') as f: \n",
    "        lines = f.readlines()\n",
    "        \n",
    "        lines = [line.strip() for line in  \n",
    "                 if any([kw in line for kw in Rkws])]\n",
    "    if not lines: return None\n",
    "    return lines\n",
    "\n",
    "\n",
    "def scanscripts(fs):\n",
    "    out = {}\n",
    "    for lang,flist in scripts.items():\n",
    "        if lang == 'py':\n",
    "            # this assumes we always import something (scanpylines is never None)\n",
    "            lib = [lib for f in flist for lib in getpylibs(f)]\n",
    "        elif lang == 'R':\n",
    "            lines = [line for f in flist for line in scanRlines(f)]\n",
    "            libs = Rlibs(lines)\n",
    "        if libs: out[lang] = libs\n",
    "    return out"
   ]
  },
  {
   "cell_type": "code",
   "execution_count": 11,
   "id": "96fbbd67",
   "metadata": {
    "run_control": {
     "marked": true
    }
   },
   "outputs": [
    {
     "ename": "IndexError",
     "evalue": "list index out of range",
     "output_type": "error",
     "traceback": [
      "\u001b[0;31m---------------------------------------------------------------------------\u001b[0m",
      "\u001b[0;31mIndexError\u001b[0m                                Traceback (most recent call last)",
      "Cell \u001b[0;32mIn[11], line 4\u001b[0m\n\u001b[1;32m      2\u001b[0m repodir \u001b[38;5;241m=\u001b[39m \u001b[38;5;124m\"\u001b[39m\u001b[38;5;124m../../../US-BCW/\u001b[39m\u001b[38;5;124m\"\u001b[39m\n\u001b[1;32m      3\u001b[0m scripts \u001b[38;5;241m=\u001b[39m scandir(repodir)\n\u001b[0;32m----> 4\u001b[0m imports \u001b[38;5;241m=\u001b[39m \u001b[43mscanscripts\u001b[49m\u001b[43m(\u001b[49m\u001b[43mscripts\u001b[49m\u001b[43m)\u001b[49m\n",
      "Cell \u001b[0;32mIn[10], line 51\u001b[0m, in \u001b[0;36mscanscripts\u001b[0;34m(fs)\u001b[0m\n\u001b[1;32m     49\u001b[0m     \u001b[38;5;28;01melif\u001b[39;00m lang \u001b[38;5;241m==\u001b[39m \u001b[38;5;124m'\u001b[39m\u001b[38;5;124mR\u001b[39m\u001b[38;5;124m'\u001b[39m:\n\u001b[1;32m     50\u001b[0m         lines \u001b[38;5;241m=\u001b[39m [line \u001b[38;5;28;01mfor\u001b[39;00m f \u001b[38;5;129;01min\u001b[39;00m flist \u001b[38;5;28;01mfor\u001b[39;00m line \u001b[38;5;129;01min\u001b[39;00m scanRlines(f)]\n\u001b[0;32m---> 51\u001b[0m         libs \u001b[38;5;241m=\u001b[39m \u001b[43mRlibs\u001b[49m\u001b[43m(\u001b[49m\u001b[43mlines\u001b[49m\u001b[43m)\u001b[49m\n\u001b[1;32m     52\u001b[0m     \u001b[38;5;28;01mif\u001b[39;00m libs: out[lang] \u001b[38;5;241m=\u001b[39m libs\n\u001b[1;32m     53\u001b[0m \u001b[38;5;28;01mreturn\u001b[39;00m out\n",
      "Cell \u001b[0;32mIn[10], line 37\u001b[0m, in \u001b[0;36mRlibs\u001b[0;34m(lines)\u001b[0m\n\u001b[1;32m     36\u001b[0m \u001b[38;5;28;01mdef\u001b[39;00m \u001b[38;5;21mRlibs\u001b[39m(lines):\n\u001b[0;32m---> 37\u001b[0m     libs \u001b[38;5;241m=\u001b[39m \u001b[43m[\u001b[49m\u001b[43mline\u001b[49m\u001b[38;5;241;43m.\u001b[39;49m\u001b[43msplit\u001b[49m\u001b[43m(\u001b[49m\u001b[43m)\u001b[49m\u001b[43m[\u001b[49m\u001b[38;5;241;43m1\u001b[39;49m\u001b[43m]\u001b[49m\u001b[43m \u001b[49m\u001b[38;5;28;43;01mfor\u001b[39;49;00m\u001b[43m \u001b[49m\u001b[43mline\u001b[49m\u001b[43m \u001b[49m\u001b[38;5;129;43;01min\u001b[39;49;00m\u001b[43m \u001b[49m\u001b[43mlines\u001b[49m\u001b[43m]\u001b[49m\n\u001b[1;32m     38\u001b[0m     \u001b[38;5;28;01mif\u001b[39;00m \u001b[38;5;129;01mnot\u001b[39;00m libs: \u001b[38;5;28;01mreturn\u001b[39;00m \u001b[38;5;28;01mNone\u001b[39;00m\n\u001b[1;32m     39\u001b[0m     \u001b[38;5;28;01mreturn\u001b[39;00m libs\n",
      "Cell \u001b[0;32mIn[10], line 37\u001b[0m, in \u001b[0;36m<listcomp>\u001b[0;34m(.0)\u001b[0m\n\u001b[1;32m     36\u001b[0m \u001b[38;5;28;01mdef\u001b[39;00m \u001b[38;5;21mRlibs\u001b[39m(lines):\n\u001b[0;32m---> 37\u001b[0m     libs \u001b[38;5;241m=\u001b[39m [\u001b[43mline\u001b[49m\u001b[38;5;241;43m.\u001b[39;49m\u001b[43msplit\u001b[49m\u001b[43m(\u001b[49m\u001b[43m)\u001b[49m\u001b[43m[\u001b[49m\u001b[38;5;241;43m1\u001b[39;49m\u001b[43m]\u001b[49m \u001b[38;5;28;01mfor\u001b[39;00m line \u001b[38;5;129;01min\u001b[39;00m lines]\n\u001b[1;32m     38\u001b[0m     \u001b[38;5;28;01mif\u001b[39;00m \u001b[38;5;129;01mnot\u001b[39;00m libs: \u001b[38;5;28;01mreturn\u001b[39;00m \u001b[38;5;28;01mNone\u001b[39;00m\n\u001b[1;32m     39\u001b[0m     \u001b[38;5;28;01mreturn\u001b[39;00m libs\n",
      "\u001b[0;31mIndexError\u001b[0m: list index out of range"
     ]
    }
   ],
   "source": [
    "# main\n",
    "repodir = \"../../../US-BCW/\"\n",
    "scripts = scandir(repodir)\n",
    "imports = scanscripts(scripts)"
   ]
  },
  {
   "cell_type": "code",
   "execution_count": null,
   "id": "94ac1349",
   "metadata": {},
   "outputs": [],
   "source": [
    "scripts['R']"
   ]
  },
  {
   "cell_type": "code",
   "execution_count": null,
   "id": "31e363db",
   "metadata": {},
   "outputs": [],
   "source": [
    "test = imports[0]"
   ]
  },
  {
   "cell_type": "code",
   "execution_count": null,
   "id": "719c6e9a",
   "metadata": {},
   "outputs": [],
   "source": [
    "test"
   ]
  },
  {
   "cell_type": "code",
   "execution_count": null,
   "id": "5d493521",
   "metadata": {},
   "outputs": [],
   "source": [
    "imports"
   ]
  },
  {
   "cell_type": "code",
   "execution_count": null,
   "id": "3b4bcc72",
   "metadata": {},
   "outputs": [],
   "source": []
  }
 ],
 "metadata": {
  "kernelspec": {
   "display_name": "Python 3 (ipykernel)",
   "language": "python",
   "name": "python3"
  },
  "language_info": {
   "codemirror_mode": {
    "name": "ipython",
    "version": 3
   },
   "file_extension": ".py",
   "mimetype": "text/x-python",
   "name": "python",
   "nbconvert_exporter": "python",
   "pygments_lexer": "ipython3",
   "version": "3.11.6"
  },
  "toc": {
   "base_numbering": 1,
   "nav_menu": {},
   "number_sections": true,
   "sideBar": true,
   "skip_h1_title": false,
   "title_cell": "Table of Contents",
   "title_sidebar": "Contents",
   "toc_cell": false,
   "toc_position": {},
   "toc_section_display": true,
   "toc_window_display": false
  },
  "varInspector": {
   "cols": {
    "lenName": 16,
    "lenType": 16,
    "lenVar": 40
   },
   "kernels_config": {
    "python": {
     "delete_cmd_postfix": "",
     "delete_cmd_prefix": "del ",
     "library": "var_list.py",
     "varRefreshCmd": "print(var_dic_list())"
    },
    "r": {
     "delete_cmd_postfix": ") ",
     "delete_cmd_prefix": "rm(",
     "library": "var_list.r",
     "varRefreshCmd": "cat(var_dic_list()) "
    }
   },
   "types_to_exclude": [
    "module",
    "function",
    "builtin_function_or_method",
    "instance",
    "_Feature"
   ],
   "window_display": false
  }
 },
 "nbformat": 4,
 "nbformat_minor": 5
}
