{
 "cells": [
  {
   "cell_type": "markdown",
   "id": "bc8a5fb9-7264-42ce-9e46-d96f0c5ae066",
   "metadata": {},
   "source": [
    "# note about using R kernels\n",
    "\n",
    "See [this post](https://github.com/IRkernel/IRkernel/issues/163#issuecomment-118106005) for quick notes on setting up an R kernel in a jupyter notebook if you want to run this notebook and haven't done so before."
   ]
  },
  {
   "cell_type": "markdown",
   "id": "9dd4dde3-79ab-4ff1-8374-a308fc8d2472",
   "metadata": {},
   "source": [
    "# setup"
   ]
  },
  {
   "cell_type": "code",
   "execution_count": 7,
   "id": "938cd0c9",
   "metadata": {},
   "outputs": [
    {
     "name": "stderr",
     "output_type": "stream",
     "text": [
      "\n",
      "Attaching package: ‘arrow’\n",
      "\n",
      "\n",
      "The following object is masked from ‘package:utils’:\n",
      "\n",
      "    timestamp\n",
      "\n",
      "\n"
     ]
    }
   ],
   "source": [
    "library(arrow)\n",
    "library(tidyverse)"
   ]
  },
  {
   "cell_type": "code",
   "execution_count": 11,
   "id": "f0536e2c",
   "metadata": {},
   "outputs": [],
   "source": [
    "fib <- c(1, 1, 2, 3, 5)\n",
    "fib_squ <- c(1, 1, 4, 9, 25)"
   ]
  },
  {
   "cell_type": "code",
   "execution_count": 12,
   "id": "af188e8a",
   "metadata": {},
   "outputs": [],
   "source": [
    "df <- data.frame(fib, fib_squ)"
   ]
  },
  {
   "cell_type": "code",
   "execution_count": 13,
   "id": "09c55923",
   "metadata": {},
   "outputs": [
    {
     "data": {
      "text/html": [
       "<table class=\"dataframe\">\n",
       "<caption>A data.frame: 5 × 2</caption>\n",
       "<thead>\n",
       "\t<tr><th scope=col>fib</th><th scope=col>fib_squ</th></tr>\n",
       "\t<tr><th scope=col>&lt;dbl&gt;</th><th scope=col>&lt;dbl&gt;</th></tr>\n",
       "</thead>\n",
       "<tbody>\n",
       "\t<tr><td>1</td><td> 1</td></tr>\n",
       "\t<tr><td>1</td><td> 1</td></tr>\n",
       "\t<tr><td>2</td><td> 4</td></tr>\n",
       "\t<tr><td>3</td><td> 9</td></tr>\n",
       "\t<tr><td>5</td><td>25</td></tr>\n",
       "</tbody>\n",
       "</table>\n"
      ],
      "text/latex": [
       "A data.frame: 5 × 2\n",
       "\\begin{tabular}{ll}\n",
       " fib & fib\\_squ\\\\\n",
       " <dbl> & <dbl>\\\\\n",
       "\\hline\n",
       "\t 1 &  1\\\\\n",
       "\t 1 &  1\\\\\n",
       "\t 2 &  4\\\\\n",
       "\t 3 &  9\\\\\n",
       "\t 5 & 25\\\\\n",
       "\\end{tabular}\n"
      ],
      "text/markdown": [
       "\n",
       "A data.frame: 5 × 2\n",
       "\n",
       "| fib &lt;dbl&gt; | fib_squ &lt;dbl&gt; |\n",
       "|---|---|\n",
       "| 1 |  1 |\n",
       "| 1 |  1 |\n",
       "| 2 |  4 |\n",
       "| 3 |  9 |\n",
       "| 5 | 25 |\n",
       "\n"
      ],
      "text/plain": [
       "  fib fib_squ\n",
       "1 1    1     \n",
       "2 1    1     \n",
       "3 2    4     \n",
       "4 3    9     \n",
       "5 5   25     "
      ]
     },
     "metadata": {},
     "output_type": "display_data"
    }
   ],
   "source": [
    "df"
   ]
  },
  {
   "cell_type": "code",
   "execution_count": 15,
   "id": "ec3b4bb9",
   "metadata": {},
   "outputs": [
    {
     "data": {
      "text/html": [
       "<style>\n",
       ".list-inline {list-style: none; margin:0; padding: 0}\n",
       ".list-inline>li {display: inline-block}\n",
       ".list-inline>li:not(:last-child)::after {content: \"\\00b7\"; padding: 0 .5ex}\n",
       "</style>\n",
       "<ol class=list-inline><li>1</li><li>1</li><li>2</li><li>3</li><li>5</li></ol>\n"
      ],
      "text/latex": [
       "\\begin{enumerate*}\n",
       "\\item 1\n",
       "\\item 1\n",
       "\\item 2\n",
       "\\item 3\n",
       "\\item 5\n",
       "\\end{enumerate*}\n"
      ],
      "text/markdown": [
       "1. 1\n",
       "2. 1\n",
       "3. 2\n",
       "4. 3\n",
       "5. 5\n",
       "\n",
       "\n"
      ],
      "text/plain": [
       "[1] 1 1 2 3 5"
      ]
     },
     "metadata": {},
     "output_type": "display_data"
    }
   ],
   "source": [
    "df$fib"
   ]
  },
  {
   "cell_type": "code",
   "execution_count": 24,
   "id": "57725b00",
   "metadata": {},
   "outputs": [
    {
     "data": {
      "text/html": [
       "1"
      ],
      "text/latex": [
       "1"
      ],
      "text/markdown": [
       "1"
      ],
      "text/plain": [
       "[1] 1"
      ]
     },
     "metadata": {},
     "output_type": "display_data"
    }
   ],
   "source": [
    "sample <- df$fib_squ[1]\n",
    "sample"
   ]
  },
  {
   "cell_type": "code",
   "execution_count": 25,
   "id": "6f024249",
   "metadata": {},
   "outputs": [
    {
     "data": {
      "text/plain": [
       "   fib_squ\n",
       "fib 1 4 9 25\n",
       "  1 2 0 0  0\n",
       "  2 0 1 0  0\n",
       "  3 0 0 1  0\n",
       "  5 0 0 0  1"
      ]
     },
     "metadata": {},
     "output_type": "display_data"
    }
   ],
   "source": [
    "table(df)"
   ]
  },
  {
   "cell_type": "code",
   "execution_count": null,
   "id": "a3e2ea62",
   "metadata": {},
   "outputs": [],
   "source": []
  }
 ],
 "metadata": {
  "kernelspec": {
   "display_name": "R",
   "language": "R",
   "name": "ir"
  },
  "language_info": {
   "codemirror_mode": "r",
   "file_extension": ".r",
   "mimetype": "text/x-r-source",
   "name": "R",
   "pygments_lexer": "r",
   "version": "4.5.0"
  }
 },
 "nbformat": 4,
 "nbformat_minor": 5
}
