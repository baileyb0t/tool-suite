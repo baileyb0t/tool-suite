{
 "cells": [
  {
   "cell_type": "markdown",
   "id": "d7fe3d6b-7d22-434a-8bd9-a19b7ebfe449",
   "metadata": {},
   "source": [
    "# Python `holidays` package\n",
    "\n",
    "- [holidays](https://pypi.org/project/holidays/) is a Python library for generating country- and subdivision- (e.g. state or province) specific sets of government-designated holidays.\n",
    "    - I've had it in my environment for awhile but am a bit rusty on how it works / why you might use it."
   ]
  },
  {
   "cell_type": "code",
   "execution_count": 1,
   "id": "bdb70fd4-13d7-4947-bcf7-36cd142781b3",
   "metadata": {},
   "outputs": [],
   "source": [
    "# dependencies\n",
    "from datetime import date\n",
    "import holidays"
   ]
  },
  {
   "cell_type": "code",
   "execution_count": 2,
   "id": "1daa571a-abfd-4481-a1d5-41516c880f50",
   "metadata": {},
   "outputs": [],
   "source": [
    "# support methods"
   ]
  },
  {
   "cell_type": "code",
   "execution_count": 3,
   "id": "39f41d0e-5fe0-4716-8b16-125aef1c686e",
   "metadata": {},
   "outputs": [],
   "source": [
    "# main"
   ]
  },
  {
   "cell_type": "markdown",
   "id": "506a32e9-5337-462b-96c4-9261cebee0d7",
   "metadata": {},
   "source": [
    "## testing autocomplete\n",
    "\\\n",
    "I'm just going to do `holidays.<TAB>` until I find stuff that gives me information about the package."
   ]
  },
  {
   "cell_type": "code",
   "execution_count": 4,
   "id": "32da9036-eb89-4a8e-8889-9d42c46f3225",
   "metadata": {},
   "outputs": [
    {
     "data": {
      "text/plain": [
       "\u001b[0;31mType:\u001b[0m        module\n",
       "\u001b[0;31mString form:\u001b[0m <module 'holidays' from '/Users/home/opt/miniconda3/lib/python3.12/site-packages/holidays/__init__.py'>\n",
       "\u001b[0;31mFile:\u001b[0m        ~/opt/miniconda3/lib/python3.12/site-packages/holidays/__init__.py\n",
       "\u001b[0;31mDocstring:\u001b[0m   <no docstring>"
      ]
     },
     "metadata": {},
     "output_type": "display_data"
    }
   ],
   "source": [
    "holidays?"
   ]
  },
  {
   "cell_type": "code",
   "execution_count": 5,
   "id": "f50b433b-4fac-4896-b00b-8997aeac943f",
   "metadata": {},
   "outputs": [
    {
     "data": {
      "text/plain": [
       "{'afghanistan': ('Afghanistan', 'AF', 'AFG'),\n",
       " 'albania': ('Albania', 'AL', 'ALB'),\n",
       " 'algeria': ('Algeria', 'DZ', 'DZA'),\n",
       " 'american_samoa': ('AmericanSamoa', 'AS', 'ASM', 'HolidaysAS'),\n",
       " 'andorra': ('Andorra', 'AD', 'AND'),\n",
       " 'angola': ('Angola', 'AO', 'AGO'),\n",
       " 'argentina': ('Argentina', 'AR', 'ARG'),\n",
       " 'armenia': ('Armenia', 'AM', 'ARM'),\n",
       " 'aruba': ('Aruba', 'AW', 'ABW'),\n",
       " 'australia': ('Australia', 'AU', 'AUS'),\n",
       " 'austria': ('Austria', 'AT', 'AUT'),\n",
       " 'azerbaijan': ('Azerbaijan', 'AZ', 'AZE'),\n",
       " 'bahamas': ('Bahamas', 'BS', 'BHS'),\n",
       " 'bahrain': ('Bahrain', 'BH', 'BAH'),\n",
       " 'bangladesh': ('Bangladesh', 'BD', 'BGD'),\n",
       " 'barbados': ('Barbados', 'BB', 'BRB'),\n",
       " 'belarus': ('Belarus', 'BY', 'BLR'),\n",
       " 'belgium': ('Belgium', 'BE', 'BEL'),\n",
       " 'belize': ('Belize', 'BZ', 'BLZ'),\n",
       " 'bolivia': ('Bolivia', 'BO', 'BOL'),\n",
       " 'bosnia_and_herzegovina': ('BosniaAndHerzegovina', 'BA', 'BIH'),\n",
       " 'botswana': ('Botswana', 'BW', 'BWA'),\n",
       " 'brazil': ('Brazil', 'BR', 'BRA'),\n",
       " 'brunei': ('Brunei', 'BN', 'BRN'),\n",
       " 'bulgaria': ('Bulgaria', 'BG', 'BLG'),\n",
       " 'burkina_faso': ('BurkinaFaso', 'BF', 'BFA'),\n",
       " 'burundi': ('Burundi', 'BI', 'BDI'),\n",
       " 'cambodia': ('Cambodia', 'KH', 'KHM'),\n",
       " 'cameroon': ('Cameroon', 'CM', 'CMR'),\n",
       " 'canada': ('Canada', 'CA', 'CAN'),\n",
       " 'chad': ('Chad', 'TD', 'TCD'),\n",
       " 'chile': ('Chile', 'CL', 'CHL'),\n",
       " 'china': ('China', 'CN', 'CHN'),\n",
       " 'colombia': ('Colombia', 'CO', 'COL'),\n",
       " 'congo': ('Congo', 'CG', 'COG'),\n",
       " 'costa_rica': ('CostaRica', 'CR', 'CRI'),\n",
       " 'croatia': ('Croatia', 'HR', 'HRV'),\n",
       " 'cuba': ('Cuba', 'CU', 'CUB'),\n",
       " 'curacao': ('Curacao', 'CW', 'CUW'),\n",
       " 'cyprus': ('Cyprus', 'CY', 'CYP'),\n",
       " 'czechia': ('Czechia', 'CZ', 'CZE'),\n",
       " 'denmark': ('Denmark', 'DK', 'DNK'),\n",
       " 'djibouti': ('Djibouti', 'DJ', 'DJI'),\n",
       " 'dominica': ('Dominica', 'DM', 'DMA'),\n",
       " 'dominican_republic': ('DominicanRepublic', 'DO', 'DOM'),\n",
       " 'ecuador': ('Ecuador', 'EC', 'ECU'),\n",
       " 'egypt': ('Egypt', 'EG', 'EGY'),\n",
       " 'jordan': ('Jordan', 'JO', 'JOR'),\n",
       " 'el_salvador': ('ElSalvador', 'SV', 'SLV'),\n",
       " 'estonia': ('Estonia', 'EE', 'EST'),\n",
       " 'eswatini': ('Eswatini', 'SZ', 'SZW', 'Swaziland'),\n",
       " 'ethiopia': ('Ethiopia', 'ET', 'ETH'),\n",
       " 'finland': ('Finland', 'FI', 'FIN'),\n",
       " 'france': ('France', 'FR', 'FRA'),\n",
       " 'gabon': ('Gabon', 'GA', 'GAB'),\n",
       " 'georgia': ('Georgia', 'GE', 'GEO'),\n",
       " 'germany': ('Germany', 'DE', 'DEU'),\n",
       " 'ghana': ('Ghana', 'GH', 'GHA'),\n",
       " 'greece': ('Greece', 'GR', 'GRC'),\n",
       " 'greenland': ('Greenland', 'GL', 'GRL'),\n",
       " 'guam': ('Guam', 'GU', 'GUM', 'HolidaysGU'),\n",
       " 'guatemala': ('Guatemala', 'GT', 'GUA'),\n",
       " 'guernsey': ('Guernsey', 'GG', 'GGY'),\n",
       " 'haiti': ('Haiti', 'HT', 'HTI'),\n",
       " 'honduras': ('Honduras', 'HN', 'HND'),\n",
       " 'hongkong': ('HongKong', 'HK', 'HKG'),\n",
       " 'hungary': ('Hungary', 'HU', 'HUN'),\n",
       " 'iceland': ('Iceland', 'IS', 'ISL'),\n",
       " 'india': ('India', 'IN', 'IND'),\n",
       " 'indonesia': ('Indonesia', 'ID', 'IDN'),\n",
       " 'iran': ('Iran', 'IR', 'IRN'),\n",
       " 'ireland': ('Ireland', 'IE', 'IRL'),\n",
       " 'isle_of_man': ('IsleOfMan', 'IM', 'IMN'),\n",
       " 'israel': ('Israel', 'IL', 'ISR'),\n",
       " 'italy': ('Italy', 'IT', 'ITA'),\n",
       " 'jamaica': ('Jamaica', 'JM', 'JAM'),\n",
       " 'japan': ('Japan', 'JP', 'JPN'),\n",
       " 'jersey': ('Jersey', 'JE', 'JEY'),\n",
       " 'kazakhstan': ('Kazakhstan', 'KZ', 'KAZ'),\n",
       " 'kenya': ('Kenya', 'KE', 'KEN'),\n",
       " 'kuwait': ('Kuwait', 'KW', 'KWT'),\n",
       " 'kyrgyzstan': ('Kyrgyzstan', 'KG', 'KGZ'),\n",
       " 'laos': ('Laos', 'LA', 'LAO'),\n",
       " 'latvia': ('Latvia', 'LV', 'LVA'),\n",
       " 'lesotho': ('Lesotho', 'LS', 'LSO'),\n",
       " 'liechtenstein': ('Liechtenstein', 'LI', 'LIE'),\n",
       " 'lithuania': ('Lithuania', 'LT', 'LTU'),\n",
       " 'luxembourg': ('Luxembourg', 'LU', 'LUX'),\n",
       " 'madagascar': ('Madagascar', 'MG', 'MDG'),\n",
       " 'malawi': ('Malawi', 'MW', 'MWI'),\n",
       " 'malaysia': ('Malaysia', 'MY', 'MYS'),\n",
       " 'maldives': ('Maldives', 'MV', 'MDV'),\n",
       " 'malta': ('Malta', 'MT', 'MLT'),\n",
       " 'marshall_islands': ('MarshallIslands', 'MH', 'MHL', 'HolidaysMH'),\n",
       " 'mauritania': ('Mauritania', 'MR', 'MRT'),\n",
       " 'mexico': ('Mexico', 'MX', 'MEX'),\n",
       " 'moldova': ('Moldova', 'MD', 'MDA'),\n",
       " 'monaco': ('Monaco', 'MC', 'MCO'),\n",
       " 'montenegro': ('Montenegro', 'ME', 'MNE'),\n",
       " 'morocco': ('Morocco', 'MA', 'MOR'),\n",
       " 'mozambique': ('Mozambique', 'MZ', 'MOZ'),\n",
       " 'namibia': ('Namibia', 'NA', 'NAM'),\n",
       " 'netherlands': ('Netherlands', 'NL', 'NLD'),\n",
       " 'new_zealand': ('NewZealand', 'NZ', 'NZL'),\n",
       " 'nicaragua': ('Nicaragua', 'NI', 'NIC'),\n",
       " 'nigeria': ('Nigeria', 'NG', 'NGA'),\n",
       " 'north_macedonia': ('NorthMacedonia', 'MK', 'MKD'),\n",
       " 'northern_mariana_islands': ('NorthernMarianaIslands',\n",
       "  'MP',\n",
       "  'MNP',\n",
       "  'HolidaysMP'),\n",
       " 'norway': ('Norway', 'NO', 'NOR'),\n",
       " 'pakistan': ('Pakistan', 'PK', 'PAK'),\n",
       " 'palau': ('Palau', 'PW', 'PLW'),\n",
       " 'panama': ('Panama', 'PA', 'PAN'),\n",
       " 'papua_new_guinea': ('PapuaNewGuinea', 'PG', 'PNG'),\n",
       " 'paraguay': ('Paraguay', 'PY', 'PRY'),\n",
       " 'peru': ('Peru', 'PE', 'PER'),\n",
       " 'philippines': ('Philippines', 'PH', 'PHL'),\n",
       " 'poland': ('Poland', 'PL', 'POL'),\n",
       " 'portugal': ('Portugal', 'PT', 'PRT'),\n",
       " 'puerto_rico': ('PuertoRico', 'PR', 'PRI', 'HolidaysPR'),\n",
       " 'romania': ('Romania', 'RO', 'ROU'),\n",
       " 'russia': ('Russia', 'RU', 'RUS'),\n",
       " 'saint_kitts_and_nevis': ('SaintKittsAndNevis', 'KN', 'KNA'),\n",
       " 'samoa': ('Samoa', 'WS', 'WSM'),\n",
       " 'san_marino': ('SanMarino', 'SM', 'SMR'),\n",
       " 'saudi_arabia': ('SaudiArabia', 'SA', 'SAU'),\n",
       " 'serbia': ('Serbia', 'RS', 'SRB'),\n",
       " 'seychelles': ('Seychelles', 'SC', 'SYC'),\n",
       " 'singapore': ('Singapore', 'SG', 'SGP'),\n",
       " 'slovakia': ('Slovakia', 'SK', 'SVK'),\n",
       " 'slovenia': ('Slovenia', 'SI', 'SVN'),\n",
       " 'south_africa': ('SouthAfrica', 'ZA', 'ZAF'),\n",
       " 'south_korea': ('SouthKorea', 'KR', 'KOR', 'Korea'),\n",
       " 'spain': ('Spain', 'ES', 'ESP'),\n",
       " 'sweden': ('Sweden', 'SE', 'SWE'),\n",
       " 'switzerland': ('Switzerland', 'CH', 'CHE'),\n",
       " 'taiwan': ('Taiwan', 'TW', 'TWN'),\n",
       " 'tanzania': ('Tanzania', 'TZ', 'TZA'),\n",
       " 'thailand': ('Thailand', 'TH', 'THA'),\n",
       " 'timor_leste': ('TimorLeste', 'TL', 'TLS'),\n",
       " 'tonga': ('Tonga', 'TO', 'TON'),\n",
       " 'tunisia': ('Tunisia', 'TN', 'TUN'),\n",
       " 'turkey': ('Turkey', 'TR', 'TUR'),\n",
       " 'ukraine': ('Ukraine', 'UA', 'UKR'),\n",
       " 'united_arab_emirates': ('UnitedArabEmirates', 'AE', 'ARE'),\n",
       " 'united_kingdom': ('UnitedKingdom', 'GB', 'GBR', 'UK'),\n",
       " 'united_states_minor_outlying_islands': ('UnitedStatesMinorOutlyingIslands',\n",
       "  'UM',\n",
       "  'UMI',\n",
       "  'HolidaysUM'),\n",
       " 'united_states_virgin_islands': ('UnitedStatesVirginIslands',\n",
       "  'VI',\n",
       "  'VIR',\n",
       "  'HolidaysVI'),\n",
       " 'united_states': ('UnitedStates', 'US', 'USA'),\n",
       " 'uruguay': ('Uruguay', 'UY', 'URY'),\n",
       " 'uzbekistan': ('Uzbekistan', 'UZ', 'UZB'),\n",
       " 'vanuatu': ('Vanuatu', 'VU', 'VTU'),\n",
       " 'vatican_city': ('VaticanCity', 'VA', 'VAT'),\n",
       " 'venezuela': ('Venezuela', 'VE', 'VEN'),\n",
       " 'vietnam': ('Vietnam', 'VN', 'VNM'),\n",
       " 'zambia': ('Zambia', 'ZM', 'ZMB'),\n",
       " 'zimbabwe': ('Zimbabwe', 'ZW', 'ZWE')}"
      ]
     },
     "execution_count": 5,
     "metadata": {},
     "output_type": "execute_result"
    }
   ],
   "source": [
    "holidays.registry.COUNTRIES"
   ]
  },
  {
   "cell_type": "code",
   "execution_count": 6,
   "id": "8a0a7fa5-183a-416c-82a0-06f074cf2a16",
   "metadata": {},
   "outputs": [
    {
     "data": {
      "text/plain": [
       "{'european_central_bank': ('EuropeanCentralBank', 'XECB', 'ECB', 'TAR'),\n",
       " 'ice_futures_europe': ('ICEFuturesEurope', 'IFEU'),\n",
       " 'ny_stock_exchange': ('NewYorkStockExchange', 'XNYS', 'NYSE'),\n",
       " 'brasil_bolsa_balcao': ('BrasilBolsaBalcao', 'BVMF', 'B3')}"
      ]
     },
     "execution_count": 6,
     "metadata": {},
     "output_type": "execute_result"
    }
   ],
   "source": [
    "holidays.registry.FINANCIAL"
   ]
  },
  {
   "cell_type": "code",
   "execution_count": 7,
   "id": "95fa7ae3-bc28-4375-aac8-921afb369bf9",
   "metadata": {},
   "outputs": [
    {
     "data": {
      "text/plain": [
       "1901"
      ]
     },
     "execution_count": 7,
     "metadata": {},
     "output_type": "execute_result"
    }
   ],
   "source": [
    "holidays.DEFAULT_START_YEAR"
   ]
  },
  {
   "cell_type": "code",
   "execution_count": 8,
   "id": "6d24221b-42e7-4536-a455-0a4d9a02de76",
   "metadata": {},
   "outputs": [
    {
     "data": {
      "text/plain": [
       "2100"
      ]
     },
     "execution_count": 8,
     "metadata": {},
     "output_type": "execute_result"
    }
   ],
   "source": [
    "holidays.DEFAULT_END_YEAR"
   ]
  },
  {
   "cell_type": "code",
   "execution_count": 9,
   "id": "7d9e2043-002b-4f2c-846e-ceac6ddbfb5d",
   "metadata": {},
   "outputs": [
    {
     "name": "stdout",
     "output_type": "stream",
     "text": [
      "\n",
      "\n",
      "This is a future version incompatibility warning from Holidays v{version}\n",
      "to inform you about an upcoming change in our API versioning strategy that may affect your\n",
      "project's dependencies. Starting from version 1.0 onwards, we will be following a loose form of\n",
      "Semantic Versioning (SemVer, https://semver.org) to provide clearer communication regarding any\n",
      "potential breaking changes.\n",
      "\n",
      "This means that while we strive to maintain backward compatibility, there might be occasional\n",
      "updates that introduce breaking changes to our API. To ensure the stability of your projects,\n",
      "we highly recommend pinning the version of our API that you rely on. You can pin your current\n",
      "holidays v0.x dependency (e.g., holidays=={version}) or limit it (e.g., holidays<1.0) in order to\n",
      "avoid potentially unwanted upgrade to the version 1.0 when it's released (ETA 2025Q1-Q2).\n",
      "\n",
      "If you have any questions or concerns regarding this change, please don't hesitate to reach out\n",
      "to us via https://github.com/vacanza/holidays/discussions/1800.\n",
      "\n"
     ]
    }
   ],
   "source": [
    "print(holidays.FUTURE_INCOMPATIBILITY_WARNING_TEMPLATE)"
   ]
  },
  {
   "cell_type": "markdown",
   "id": "1202e94a-fb0b-4cf4-bc6f-8e145a4a6cc4",
   "metadata": {},
   "source": [
    "## Thoughts\n",
    "\n",
    "- This is probably all information that you could also find in the documentation, but nevertheless it's nice to know you can access the possible calendars by loading the package."
   ]
  },
  {
   "cell_type": "markdown",
   "id": "f5d91ab0-371f-4747-b0b9-e320de77a6cb",
   "metadata": {},
   "source": [
    "## reading the README\n",
    "\n",
    "These cells are copy-pasted from the [`holidays` documentation](https://pypi.org/project/holidays/), but have been broken up for the interactive format."
   ]
  },
  {
   "cell_type": "code",
   "execution_count": 10,
   "id": "1c9df645-aa37-4b82-b17b-f73bc18fe17c",
   "metadata": {},
   "outputs": [],
   "source": [
    "us_holidays = holidays.US()  # this is a dict-like object\n",
    "# the below is the same, but takes a string:\n",
    "us_holidays = holidays.country_holidays('US')  # this is a dict-like object\n",
    "\n",
    "nyse_holidays = holidays.NYSE()  # this is a dict-like object\n",
    "# the below is the same, but takes a string:\n",
    "nyse_holidays = holidays.financial_holidays('NYSE')  # this is a dict-like object"
   ]
  },
  {
   "cell_type": "code",
   "execution_count": 11,
   "id": "c5542a95-763c-4836-aaa5-8dfd780f2293",
   "metadata": {},
   "outputs": [
    {
     "data": {
      "text/plain": [
       "True"
      ]
     },
     "execution_count": 11,
     "metadata": {},
     "output_type": "execute_result"
    }
   ],
   "source": [
    "date(2015, 1, 1) in us_holidays  # True"
   ]
  },
  {
   "cell_type": "code",
   "execution_count": 12,
   "id": "ec348ed8-69b1-412a-8c20-2ea75f749b6b",
   "metadata": {},
   "outputs": [
    {
     "data": {
      "text/plain": [
       "False"
      ]
     },
     "execution_count": 12,
     "metadata": {},
     "output_type": "execute_result"
    }
   ],
   "source": [
    "date(2015, 1, 2) in us_holidays  # False"
   ]
  },
  {
   "cell_type": "code",
   "execution_count": 13,
   "id": "14e4b4d8-ceab-4801-8003-4883e41caa5c",
   "metadata": {},
   "outputs": [
    {
     "data": {
      "text/plain": [
       "\"New Year's Day\""
      ]
     },
     "execution_count": 13,
     "metadata": {},
     "output_type": "execute_result"
    }
   ],
   "source": [
    "us_holidays.get('2014-01-01')  # \"New Year's Day\""
   ]
  },
  {
   "cell_type": "code",
   "execution_count": 14,
   "id": "952929f3-876a-4829-bba0-8b59062c734c",
   "metadata": {},
   "outputs": [
    {
     "data": {
      "text/plain": [
       "True"
      ]
     },
     "execution_count": 14,
     "metadata": {},
     "output_type": "execute_result"
    }
   ],
   "source": [
    "'2014-01-01' in us_holidays  # True"
   ]
  },
  {
   "cell_type": "code",
   "execution_count": 15,
   "id": "46806bf9-5a52-4217-92fe-eee0665390e9",
   "metadata": {},
   "outputs": [
    {
     "data": {
      "text/plain": [
       "True"
      ]
     },
     "execution_count": 15,
     "metadata": {},
     "output_type": "execute_result"
    }
   ],
   "source": [
    "'1/1/2014' in us_holidays    # True"
   ]
  },
  {
   "cell_type": "code",
   "execution_count": 16,
   "id": "64412d8c-2e10-46b6-b533-af8f4c44a9dd",
   "metadata": {},
   "outputs": [
    {
     "data": {
      "text/plain": [
       "True"
      ]
     },
     "execution_count": 16,
     "metadata": {},
     "output_type": "execute_result"
    }
   ],
   "source": [
    "1388597445 in us_holidays    # True"
   ]
  },
  {
   "cell_type": "code",
   "execution_count": 17,
   "id": "96a84a19-9f24-4b3f-b9ef-c1ba15903912",
   "metadata": {},
   "outputs": [],
   "source": [
    "us_pr_holidays = holidays.country_holidays('US', subdiv='PR')"
   ]
  },
  {
   "cell_type": "code",
   "execution_count": 18,
   "id": "005aa170-d21d-427b-a3e1-e6479fd92777",
   "metadata": {},
   "outputs": [
    {
     "data": {
      "text/plain": [
       "False"
      ]
     },
     "execution_count": 18,
     "metadata": {},
     "output_type": "execute_result"
    }
   ],
   "source": [
    "'2018-01-06' in us_holidays     # False"
   ]
  },
  {
   "cell_type": "code",
   "execution_count": 19,
   "id": "af61ec17-aa0c-49de-bb9a-1a367dc5e2a2",
   "metadata": {},
   "outputs": [
    {
     "data": {
      "text/plain": [
       "True"
      ]
     },
     "execution_count": 19,
     "metadata": {},
     "output_type": "execute_result"
    }
   ],
   "source": [
    "'2018-01-06' in us_pr_holidays  # True"
   ]
  },
  {
   "cell_type": "markdown",
   "id": "1b623938-dbef-4223-b1ca-73663feb48f6",
   "metadata": {},
   "source": [
    "## Thoughts\n",
    "\n",
    "- Can work with countries or financial markets\n",
    "- Can access country or financial holidays either with `holidays.[type]_holidays('[spec]')` where '[type]' is country or financial and '[spec]' is the specific holiday or financial market code of interest.\n",
    "    - the docs have the full list of countries and markets available (and they're available to list from `holidays.registry`)\n",
    "- The result of `holidays.[type]_holidays('[spec]')` is a dict-like object that you can lookup a specific date in, where multiple formats for the date are accepted (ie. `date(2014, 1, 1)`, '2014-01-01', 1388597445), where the statement returns True if date has a holiday associated with it and False if not.\n",
    "- You can also run `[spec_dict].get([date])` to get the string-like value of the holiday associated with the given date, where the method returns None if there are no associated holidays."
   ]
  },
  {
   "cell_type": "markdown",
   "id": "f8c9fd1f-aea3-4b2a-8a12-b15c0b800152",
   "metadata": {},
   "source": [
    "# Building on the examples in the docs\n",
    "\n",
    "Let's say I'd like to take a 4 day trip in the next 6 months, ideally by taking advantage of a 3-day weekend and just taking off Friday.\n",
    "\n",
    "I could track down the list of payroll holidays from HR or flip through the google calendar, but this is more fun, and could allow me to generate a more exhaustive list of options now and anytime in the future when this comes up again.\n",
    "\n",
    "I work in the US, so we can look for all the options in the next 6 months from today using the `us_holidays` dict we loaded from the documentation examples."
   ]
  },
  {
   "cell_type": "code",
   "execution_count": 20,
   "id": "5c2108c3-58de-438a-8537-85e57a658fd7",
   "metadata": {},
   "outputs": [],
   "source": [
    "# found `relativedelta` in this [SO thread](https://stackoverflow.com/questions/546321/how-do-i-calculate-the-date-six-months-from-the-current-date-using-the-datetime)\n",
    "from dateutil.relativedelta import *"
   ]
  },
  {
   "cell_type": "code",
   "execution_count": 21,
   "id": "dcfdfa37-ff30-47e9-aa00-114950a6c61f",
   "metadata": {},
   "outputs": [],
   "source": [
    "today = date.today()\n",
    "tomorrow = today + relativedelta(days=1)\n",
    "six_months = today + relativedelta(months=+6)\n",
    "ndays = (six_months - today).days"
   ]
  },
  {
   "cell_type": "code",
   "execution_count": 22,
   "id": "b8ec0e2e-c639-4243-b0f8-ef574946c159",
   "metadata": {},
   "outputs": [
    {
     "data": {
      "text/plain": [
       "datetime.date(2025, 1, 12)"
      ]
     },
     "execution_count": 22,
     "metadata": {},
     "output_type": "execute_result"
    }
   ],
   "source": [
    "today"
   ]
  },
  {
   "cell_type": "code",
   "execution_count": 23,
   "id": "1a2681b5-5818-4b3c-b776-65ba7c87d927",
   "metadata": {},
   "outputs": [
    {
     "data": {
      "text/plain": [
       "datetime.date(2025, 1, 13)"
      ]
     },
     "execution_count": 23,
     "metadata": {},
     "output_type": "execute_result"
    }
   ],
   "source": [
    "tomorrow"
   ]
  },
  {
   "cell_type": "code",
   "execution_count": 24,
   "id": "7115d990-50fd-470e-916c-3bbfaa7b7950",
   "metadata": {},
   "outputs": [
    {
     "data": {
      "text/plain": [
       "datetime.date(2025, 7, 12)"
      ]
     },
     "execution_count": 24,
     "metadata": {},
     "output_type": "execute_result"
    }
   ],
   "source": [
    "six_months"
   ]
  },
  {
   "cell_type": "code",
   "execution_count": 25,
   "id": "582565d7-b17f-4769-abb3-dd5cd373211d",
   "metadata": {},
   "outputs": [
    {
     "data": {
      "text/plain": [
       "181"
      ]
     },
     "execution_count": 25,
     "metadata": {},
     "output_type": "execute_result"
    }
   ],
   "source": [
    "ndays"
   ]
  },
  {
   "cell_type": "code",
   "execution_count": 26,
   "id": "daca9a23-c0db-44af-b40e-d441477cb332",
   "metadata": {},
   "outputs": [],
   "source": [
    "options = {}\n",
    "for x in range(ndays+1):\n",
    "    date = today + relativedelta(days=x)\n",
    "    if date in us_holidays:\n",
    "        options[date] = us_holidays.get(date)"
   ]
  },
  {
   "cell_type": "code",
   "execution_count": 27,
   "id": "1c491d12-a2b0-4ac8-94b0-0124edc6774f",
   "metadata": {},
   "outputs": [
    {
     "data": {
      "text/plain": [
       "{datetime.date(2025, 1, 20): 'Martin Luther King Jr. Day',\n",
       " datetime.date(2025, 2, 17): \"Washington's Birthday\",\n",
       " datetime.date(2025, 5, 26): 'Memorial Day',\n",
       " datetime.date(2025, 6, 19): 'Juneteenth National Independence Day',\n",
       " datetime.date(2025, 7, 4): 'Independence Day'}"
      ]
     },
     "execution_count": 27,
     "metadata": {},
     "output_type": "execute_result"
    }
   ],
   "source": [
    "options"
   ]
  },
  {
   "cell_type": "markdown",
   "id": "f0839b2c-1c95-4e63-9872-31d781b302b6",
   "metadata": {},
   "source": [
    "### Cool, now make it a function"
   ]
  },
  {
   "cell_type": "code",
   "execution_count": 28,
   "id": "3079feca-6b84-4466-b7fc-8dcba5f9f8be",
   "metadata": {},
   "outputs": [],
   "source": [
    "def find_3day_inrange(start, ndays, possible_holidays):\n",
    "    \"\"\"Scans the timeline for holidays.\"\"\"\n",
    "    options = {}\n",
    "    for x in range(ndays+1):\n",
    "        date = start + relativedelta(days=x)\n",
    "        if date in possible_holidays: options[date] = possible_holidays.get(date)\n",
    "    return options\n",
    "\n",
    "\n",
    "def find_3day(start, nmonths, possible_holidays):\n",
    "    \"\"\"Defines the timeline based on the parameters, today and nmonths from today.\"\"\"\n",
    "    six_months = start + relativedelta(months=+nmonths)\n",
    "    ndays = (six_months - start).days\n",
    "    options = find_3day_inrange(start=start, ndays=ndays,\n",
    "                                possible_holidays=possible_holidays)\n",
    "    if not any(options): return None\n",
    "    return options"
   ]
  },
  {
   "cell_type": "code",
   "execution_count": 29,
   "id": "fd146861-9b4e-4d1f-93f1-4fc71eda69bb",
   "metadata": {},
   "outputs": [],
   "source": [
    "in_3mos = find_3day(start=date.today(), nmonths=3, possible_holidays=us_holidays)"
   ]
  },
  {
   "cell_type": "code",
   "execution_count": 30,
   "id": "969bae42-a724-40d7-a6b0-39ea7ad9ea36",
   "metadata": {},
   "outputs": [
    {
     "data": {
      "text/plain": [
       "{datetime.date(2025, 1, 20): 'Martin Luther King Jr. Day',\n",
       " datetime.date(2025, 2, 17): \"Washington's Birthday\"}"
      ]
     },
     "execution_count": 30,
     "metadata": {},
     "output_type": "execute_result"
    }
   ],
   "source": [
    "in_3mos"
   ]
  },
  {
   "cell_type": "markdown",
   "id": "b78b0940-ca40-4767-858d-e40e9bfc5346",
   "metadata": {},
   "source": [
    "### Is there a better way to do this?\n",
    "\n",
    "Probably, but this works as expected and runs quickly."
   ]
  },
  {
   "cell_type": "markdown",
   "id": "e279fb1b-7eee-463c-80fb-4a1dfe11a13f",
   "metadata": {},
   "source": [
    "# Crossing projects: Emergency events in Chicago\n",
    "\n",
    "I'm curious about when I might want to check if a given date is a holiday in other work, such as looking for potential peaks in some emergency events surrounding a holiday.\n",
    "\n",
    "The Office of Emergency Management & Communication's 911 and emergency event records are available in the public `Chi-MP-data-story` repo, let's pull those and look at trends in firework or fire-related events on a holiday like 4th of July or New Years Eve when fireworks are most often deployed.\n",
    "\n",
    "Note that OEMC data can be the result of both 911 calls and other emergency management systems, such as ShotSpotter. I'll stick to \"events\" as much as possible but note that there is no way to know which one led to a given record, so for all intents and purposes the terms \"event\" and \"call\" will be used interchangeably."
   ]
  },
  {
   "cell_type": "markdown",
   "id": "2caf59cd-fb74-40a4-8178-bd590ee2328d",
   "metadata": {},
   "source": [
    "## setup data"
   ]
  },
  {
   "cell_type": "code",
   "execution_count": 31,
   "id": "b06e7d5e-13a8-4704-944d-3deaefab3a9f",
   "metadata": {},
   "outputs": [],
   "source": [
    "import re\n",
    "import numpy as np\n",
    "import pandas as pd\n",
    "import matplotlib.pyplot as plt"
   ]
  },
  {
   "cell_type": "code",
   "execution_count": 32,
   "id": "3bb8b197-574d-4c1d-ae03-9d7e380ca30a",
   "metadata": {},
   "outputs": [],
   "source": [
    "oemc = pd.read_parquet(\"~/git/Chi-MP-data-story/data/oemc_dispatch.parquet\")\n",
    "assert not oemc.call_date.isna().any()"
   ]
  },
  {
   "cell_type": "code",
   "execution_count": 33,
   "id": "aa58661c-6b0a-406b-916a-0643d3947a0c",
   "metadata": {},
   "outputs": [],
   "source": [
    "oemc.init_type = oemc.init_type.fillna('none reported')\n",
    "oemc['call_moday'] = oemc.call_date.dt.month.apply(lambda x: f\"{x:02}\") + \"-\" \\\n",
    "    + oemc.call_date.dt.day.apply(lambda x: f\"{x:02}\")\n",
    "oemc['holiday'] = oemc.call_date.dt.date.apply(lambda x: x in us_holidays)\n",
    "oemc['holiday_str'] = oemc.call_date.dt.date.apply(lambda x: us_holidays.get(x))\n",
    "oemc['july_4th'] = (oemc.call_date.dt.month == 7) & (oemc.call_date.dt.day == 4)\n",
    "oemc['nye'] = (oemc.call_date.dt.month == 12) & (oemc.call_date.dt.day == 31)\n",
    "oemc['init_fireworks'] = oemc.init_type.str.contains('fireworks', flags=re.I)\n",
    "oemc['init_fire'] = oemc.init_type.str.contains('fire[^worksd]', flags=re.I)\n",
    "oemc['init_explosion'] = oemc.init_type.str.contains('explosion', flags=re.I)"
   ]
  },
  {
   "cell_type": "markdown",
   "id": "766b6dc8-392a-4838-b838-d6b0baaa10a3",
   "metadata": {},
   "source": [
    "## preview data"
   ]
  },
  {
   "cell_type": "code",
   "execution_count": 34,
   "id": "fa8f3573-961f-4f22-b19e-c5e8af7b09d6",
   "metadata": {},
   "outputs": [
    {
     "data": {
      "text/plain": [
       "Index(['event_no', 'district', 'call_date', 'disp_date', 'on_date',\n",
       "       'clear_date', 'close_date', 'init_priority', 'init_type', 'fin_type',\n",
       "       'call_moday', 'holiday', 'holiday_str', 'july_4th', 'nye',\n",
       "       'init_fireworks', 'init_fire', 'init_explosion'],\n",
       "      dtype='object')"
      ]
     },
     "execution_count": 34,
     "metadata": {},
     "output_type": "execute_result"
    }
   ],
   "source": [
    "oemc.columns"
   ]
  },
  {
   "cell_type": "code",
   "execution_count": 35,
   "id": "a18c1299-6095-48bb-8173-8aea4f031825",
   "metadata": {},
   "outputs": [
    {
     "data": {
      "text/html": [
       "<div>\n",
       "<style scoped>\n",
       "    .dataframe tbody tr th:only-of-type {\n",
       "        vertical-align: middle;\n",
       "    }\n",
       "\n",
       "    .dataframe tbody tr th {\n",
       "        vertical-align: top;\n",
       "    }\n",
       "\n",
       "    .dataframe thead th {\n",
       "        text-align: right;\n",
       "    }\n",
       "</style>\n",
       "<table border=\"1\" class=\"dataframe\">\n",
       "  <thead>\n",
       "    <tr style=\"text-align: right;\">\n",
       "      <th></th>\n",
       "      <th>10978773</th>\n",
       "    </tr>\n",
       "  </thead>\n",
       "  <tbody>\n",
       "    <tr>\n",
       "      <th>event_no</th>\n",
       "      <td>2121810563</td>\n",
       "    </tr>\n",
       "    <tr>\n",
       "      <th>district</th>\n",
       "      <td>005</td>\n",
       "    </tr>\n",
       "    <tr>\n",
       "      <th>call_date</th>\n",
       "      <td>2021-08-06 17:00:00</td>\n",
       "    </tr>\n",
       "    <tr>\n",
       "      <th>disp_date</th>\n",
       "      <td>2021-08-06 17:09:00</td>\n",
       "    </tr>\n",
       "    <tr>\n",
       "      <th>on_date</th>\n",
       "      <td>2021-08-06 17:18:00</td>\n",
       "    </tr>\n",
       "    <tr>\n",
       "      <th>clear_date</th>\n",
       "      <td>2021-08-06 22:29:00</td>\n",
       "    </tr>\n",
       "    <tr>\n",
       "      <th>close_date</th>\n",
       "      <td>2021-08-06 22:29:00</td>\n",
       "    </tr>\n",
       "    <tr>\n",
       "      <th>init_priority</th>\n",
       "      <td>1A</td>\n",
       "    </tr>\n",
       "    <tr>\n",
       "      <th>init_type</th>\n",
       "      <td>DOMESTIC DISTURBANCE</td>\n",
       "    </tr>\n",
       "    <tr>\n",
       "      <th>fin_type</th>\n",
       "      <td>DOMESTIC DISTURBANCE</td>\n",
       "    </tr>\n",
       "    <tr>\n",
       "      <th>call_moday</th>\n",
       "      <td>08-06</td>\n",
       "    </tr>\n",
       "    <tr>\n",
       "      <th>holiday</th>\n",
       "      <td>False</td>\n",
       "    </tr>\n",
       "    <tr>\n",
       "      <th>holiday_str</th>\n",
       "      <td>None</td>\n",
       "    </tr>\n",
       "    <tr>\n",
       "      <th>july_4th</th>\n",
       "      <td>False</td>\n",
       "    </tr>\n",
       "    <tr>\n",
       "      <th>nye</th>\n",
       "      <td>False</td>\n",
       "    </tr>\n",
       "    <tr>\n",
       "      <th>init_fireworks</th>\n",
       "      <td>False</td>\n",
       "    </tr>\n",
       "    <tr>\n",
       "      <th>init_fire</th>\n",
       "      <td>False</td>\n",
       "    </tr>\n",
       "    <tr>\n",
       "      <th>init_explosion</th>\n",
       "      <td>False</td>\n",
       "    </tr>\n",
       "  </tbody>\n",
       "</table>\n",
       "</div>"
      ],
      "text/plain": [
       "                            10978773\n",
       "event_no                  2121810563\n",
       "district                         005\n",
       "call_date        2021-08-06 17:00:00\n",
       "disp_date        2021-08-06 17:09:00\n",
       "on_date          2021-08-06 17:18:00\n",
       "clear_date       2021-08-06 22:29:00\n",
       "close_date       2021-08-06 22:29:00\n",
       "init_priority                     1A\n",
       "init_type       DOMESTIC DISTURBANCE\n",
       "fin_type        DOMESTIC DISTURBANCE\n",
       "call_moday                     08-06\n",
       "holiday                        False\n",
       "holiday_str                     None\n",
       "july_4th                       False\n",
       "nye                            False\n",
       "init_fireworks                 False\n",
       "init_fire                      False\n",
       "init_explosion                 False"
      ]
     },
     "execution_count": 35,
     "metadata": {},
     "output_type": "execute_result"
    }
   ],
   "source": [
    "oemc.sample().T"
   ]
  },
  {
   "cell_type": "markdown",
   "id": "c68eebf9-9762-406d-8171-a48168402ed4",
   "metadata": {},
   "source": [
    "## general trends"
   ]
  },
  {
   "cell_type": "code",
   "execution_count": 36,
   "id": "44e58959-74bb-49ef-815b-13834a2ea3a7",
   "metadata": {},
   "outputs": [
    {
     "data": {
      "text/plain": [
       "count                         12159582\n",
       "mean     2019-12-17 23:36:37.666096384\n",
       "min                2018-01-01 00:00:00\n",
       "25%                2018-12-20 22:14:00\n",
       "50%                2019-11-20 09:53:00\n",
       "75%                2020-12-30 16:09:00\n",
       "max                2021-12-31 23:59:00\n",
       "Name: call_date, dtype: object"
      ]
     },
     "execution_count": 36,
     "metadata": {},
     "output_type": "execute_result"
    }
   ],
   "source": [
    "oemc.call_date.describe()"
   ]
  },
  {
   "cell_type": "code",
   "execution_count": 37,
   "id": "278a0635-c574-4bca-948d-159e248ef753",
   "metadata": {},
   "outputs": [
    {
     "data": {
      "text/plain": [
       "init_type\n",
       "TRAFFIC STOP (OV)        2628028\n",
       "Community Interaction     783816\n",
       "DISTURBANCE               550446\n",
       "AUTO ACCIDENT PD          455412\n",
       "DOMESTIC DISTURBANCE      416915\n",
       "MISSION                   337449\n",
       "ALARM BURGLAR             299204\n",
       "EL CHECK [OV]             281068\n",
       "PARKING VIOL. 1           251685\n",
       "CHECK WELL BEING          251537\n",
       "Name: count, dtype: int64"
      ]
     },
     "execution_count": 37,
     "metadata": {},
     "output_type": "execute_result"
    }
   ],
   "source": [
    "oemc.init_type.value_counts().head(10)"
   ]
  },
  {
   "cell_type": "markdown",
   "id": "2d11e47f-a420-455f-873c-b7afb4aa3081",
   "metadata": {},
   "source": [
    "## trends in firework-related calls overtime"
   ]
  },
  {
   "cell_type": "code",
   "execution_count": 38,
   "id": "76b5d53f-93a0-4ead-9149-665f8147acb3",
   "metadata": {},
   "outputs": [],
   "source": [
    "events_gb = oemc[['call_moday', 'init_fireworks']].groupby('call_moday')\n",
    "counts = events_gb.value_counts().to_frame().reset_index()\n",
    "props = events_gb.value_counts(normalize=True).to_frame().reset_index()\n",
    "\n",
    "x_mo = props.loc[props.init_fireworks, 'call_moday'].str[:2].values\n",
    "x_moday = props.loc[props.init_fireworks, 'call_moday'].values\n",
    "y_counts = counts.loc[counts.init_fireworks, 'count'].values\n",
    "y_percs = props.loc[props.init_fireworks, 'proportion'].apply(\n",
    "    lambda x: round(x*100,1)).values"
   ]
  },
  {
   "cell_type": "markdown",
   "id": "fc6d6533-1083-49fb-8567-464b81cf3662",
   "metadata": {},
   "source": [
    "### preview"
   ]
  },
  {
   "cell_type": "code",
   "execution_count": 39,
   "id": "ea9aaa69-ff74-459c-b19a-bebccf99a7f1",
   "metadata": {},
   "outputs": [
    {
     "data": {
      "text/html": [
       "<div>\n",
       "<style scoped>\n",
       "    .dataframe tbody tr th:only-of-type {\n",
       "        vertical-align: middle;\n",
       "    }\n",
       "\n",
       "    .dataframe tbody tr th {\n",
       "        vertical-align: top;\n",
       "    }\n",
       "\n",
       "    .dataframe thead th {\n",
       "        text-align: right;\n",
       "    }\n",
       "</style>\n",
       "<table border=\"1\" class=\"dataframe\">\n",
       "  <thead>\n",
       "    <tr style=\"text-align: right;\">\n",
       "      <th></th>\n",
       "      <th>call_moday</th>\n",
       "      <th>init_fireworks</th>\n",
       "      <th>count</th>\n",
       "    </tr>\n",
       "  </thead>\n",
       "  <tbody>\n",
       "    <tr>\n",
       "      <th>0</th>\n",
       "      <td>01-01</td>\n",
       "      <td>False</td>\n",
       "      <td>32130</td>\n",
       "    </tr>\n",
       "    <tr>\n",
       "      <th>1</th>\n",
       "      <td>01-01</td>\n",
       "      <td>True</td>\n",
       "      <td>79</td>\n",
       "    </tr>\n",
       "    <tr>\n",
       "      <th>2</th>\n",
       "      <td>01-02</td>\n",
       "      <td>False</td>\n",
       "      <td>30124</td>\n",
       "    </tr>\n",
       "    <tr>\n",
       "      <th>3</th>\n",
       "      <td>01-02</td>\n",
       "      <td>True</td>\n",
       "      <td>13</td>\n",
       "    </tr>\n",
       "    <tr>\n",
       "      <th>4</th>\n",
       "      <td>01-03</td>\n",
       "      <td>False</td>\n",
       "      <td>30876</td>\n",
       "    </tr>\n",
       "    <tr>\n",
       "      <th>...</th>\n",
       "      <td>...</td>\n",
       "      <td>...</td>\n",
       "      <td>...</td>\n",
       "    </tr>\n",
       "    <tr>\n",
       "      <th>710</th>\n",
       "      <td>12-29</td>\n",
       "      <td>True</td>\n",
       "      <td>5</td>\n",
       "    </tr>\n",
       "    <tr>\n",
       "      <th>711</th>\n",
       "      <td>12-30</td>\n",
       "      <td>False</td>\n",
       "      <td>28569</td>\n",
       "    </tr>\n",
       "    <tr>\n",
       "      <th>712</th>\n",
       "      <td>12-30</td>\n",
       "      <td>True</td>\n",
       "      <td>3</td>\n",
       "    </tr>\n",
       "    <tr>\n",
       "      <th>713</th>\n",
       "      <td>12-31</td>\n",
       "      <td>False</td>\n",
       "      <td>28004</td>\n",
       "    </tr>\n",
       "    <tr>\n",
       "      <th>714</th>\n",
       "      <td>12-31</td>\n",
       "      <td>True</td>\n",
       "      <td>55</td>\n",
       "    </tr>\n",
       "  </tbody>\n",
       "</table>\n",
       "<p>715 rows × 3 columns</p>\n",
       "</div>"
      ],
      "text/plain": [
       "    call_moday  init_fireworks  count\n",
       "0        01-01           False  32130\n",
       "1        01-01            True     79\n",
       "2        01-02           False  30124\n",
       "3        01-02            True     13\n",
       "4        01-03           False  30876\n",
       "..         ...             ...    ...\n",
       "710      12-29            True      5\n",
       "711      12-30           False  28569\n",
       "712      12-30            True      3\n",
       "713      12-31           False  28004\n",
       "714      12-31            True     55\n",
       "\n",
       "[715 rows x 3 columns]"
      ]
     },
     "execution_count": 39,
     "metadata": {},
     "output_type": "execute_result"
    }
   ],
   "source": [
    "counts"
   ]
  },
  {
   "cell_type": "code",
   "execution_count": 40,
   "id": "7abbec89-5c28-4325-a9c8-a97d951afa22",
   "metadata": {},
   "outputs": [
    {
     "data": {
      "text/html": [
       "<div>\n",
       "<style scoped>\n",
       "    .dataframe tbody tr th:only-of-type {\n",
       "        vertical-align: middle;\n",
       "    }\n",
       "\n",
       "    .dataframe tbody tr th {\n",
       "        vertical-align: top;\n",
       "    }\n",
       "\n",
       "    .dataframe thead th {\n",
       "        text-align: right;\n",
       "    }\n",
       "</style>\n",
       "<table border=\"1\" class=\"dataframe\">\n",
       "  <thead>\n",
       "    <tr style=\"text-align: right;\">\n",
       "      <th></th>\n",
       "      <th>call_moday</th>\n",
       "      <th>init_fireworks</th>\n",
       "      <th>proportion</th>\n",
       "    </tr>\n",
       "  </thead>\n",
       "  <tbody>\n",
       "    <tr>\n",
       "      <th>1</th>\n",
       "      <td>01-01</td>\n",
       "      <td>True</td>\n",
       "      <td>0.002453</td>\n",
       "    </tr>\n",
       "    <tr>\n",
       "      <th>3</th>\n",
       "      <td>01-02</td>\n",
       "      <td>True</td>\n",
       "      <td>0.000431</td>\n",
       "    </tr>\n",
       "    <tr>\n",
       "      <th>5</th>\n",
       "      <td>01-03</td>\n",
       "      <td>True</td>\n",
       "      <td>0.000097</td>\n",
       "    </tr>\n",
       "    <tr>\n",
       "      <th>7</th>\n",
       "      <td>01-04</td>\n",
       "      <td>True</td>\n",
       "      <td>0.000032</td>\n",
       "    </tr>\n",
       "    <tr>\n",
       "      <th>9</th>\n",
       "      <td>01-05</td>\n",
       "      <td>True</td>\n",
       "      <td>0.000127</td>\n",
       "    </tr>\n",
       "    <tr>\n",
       "      <th>...</th>\n",
       "      <td>...</td>\n",
       "      <td>...</td>\n",
       "      <td>...</td>\n",
       "    </tr>\n",
       "    <tr>\n",
       "      <th>706</th>\n",
       "      <td>12-27</td>\n",
       "      <td>True</td>\n",
       "      <td>0.000180</td>\n",
       "    </tr>\n",
       "    <tr>\n",
       "      <th>708</th>\n",
       "      <td>12-28</td>\n",
       "      <td>True</td>\n",
       "      <td>0.000176</td>\n",
       "    </tr>\n",
       "    <tr>\n",
       "      <th>710</th>\n",
       "      <td>12-29</td>\n",
       "      <td>True</td>\n",
       "      <td>0.000179</td>\n",
       "    </tr>\n",
       "    <tr>\n",
       "      <th>712</th>\n",
       "      <td>12-30</td>\n",
       "      <td>True</td>\n",
       "      <td>0.000105</td>\n",
       "    </tr>\n",
       "    <tr>\n",
       "      <th>714</th>\n",
       "      <td>12-31</td>\n",
       "      <td>True</td>\n",
       "      <td>0.001960</td>\n",
       "    </tr>\n",
       "  </tbody>\n",
       "</table>\n",
       "<p>349 rows × 3 columns</p>\n",
       "</div>"
      ],
      "text/plain": [
       "    call_moday  init_fireworks  proportion\n",
       "1        01-01            True    0.002453\n",
       "3        01-02            True    0.000431\n",
       "5        01-03            True    0.000097\n",
       "7        01-04            True    0.000032\n",
       "9        01-05            True    0.000127\n",
       "..         ...             ...         ...\n",
       "706      12-27            True    0.000180\n",
       "708      12-28            True    0.000176\n",
       "710      12-29            True    0.000179\n",
       "712      12-30            True    0.000105\n",
       "714      12-31            True    0.001960\n",
       "\n",
       "[349 rows x 3 columns]"
      ]
     },
     "execution_count": 40,
     "metadata": {},
     "output_type": "execute_result"
    }
   ],
   "source": [
    "props.loc[props.init_fireworks]"
   ]
  },
  {
   "cell_type": "markdown",
   "id": "9c61ff57-fd9c-4c44-9e71-ef1ab80ba028",
   "metadata": {},
   "source": [
    "### rough visual of proportion"
   ]
  },
  {
   "cell_type": "code",
   "execution_count": 41,
   "id": "85bfac51-8fa2-45c3-954e-fa275e9d0f94",
   "metadata": {},
   "outputs": [
    {
     "data": {
      "text/plain": [
       "[<matplotlib.lines.Line2D at 0x16c8553d0>]"
      ]
     },
     "execution_count": 41,
     "metadata": {},
     "output_type": "execute_result"
    },
    {
     "data": {
      "image/png": "[encoded data removed]",
      "text/plain": [
       "<Figure size 640x480 with 1 Axes>"
      ]
     },
     "metadata": {},
     "output_type": "display_data"
    }
   ],
   "source": [
    "plt.plot(x_mo, y_percs)"
   ]
  },
  {
   "cell_type": "code",
   "execution_count": 42,
   "id": "72af90d3-c63e-4beb-a21b-e551f6e12658",
   "metadata": {},
   "outputs": [
    {
     "data": {
      "text/plain": [
       "[<matplotlib.lines.Line2D at 0x3ae4df050>]"
      ]
     },
     "execution_count": 42,
     "metadata": {},
     "output_type": "execute_result"
    },
    {
     "data": {
      "image/png": "[encoded data removed]",
      "text/plain": [
       "<Figure size 640x480 with 1 Axes>"
      ]
     },
     "metadata": {},
     "output_type": "display_data"
    }
   ],
   "source": [
    "plt.plot(x_moday, y_percs)"
   ]
  },
  {
   "cell_type": "markdown",
   "id": "d2901236-0642-47fc-86df-4f6302923a07",
   "metadata": {},
   "source": [
    "### Thoughts\n",
    "\n",
    "- There actually doesn't appear to be an obvious uptick in firework-related calls around NYE as expected, but the trend around July 4th appears to start increasing as early as the beginning of May and returns to normal around the beginning of August. I wonder if looking closer and labeling the holidays on the xaxis would help elaborate."
   ]
  },
  {
   "cell_type": "markdown",
   "id": "d48848b2-c226-4e7e-aa7e-a86ee633287d",
   "metadata": {},
   "source": [
    "### Trends by US holiday\n",
    "\n",
    "I think the `holidays` package would be a great tool to help refine the daily trend analysis and clarify any additional holidays associated with upticks in emergency events."
   ]
  },
  {
   "cell_type": "markdown",
   "id": "35ccfd2d-82b3-4aad-b2e2-4709e124e218",
   "metadata": {},
   "source": [
    "#### looking closer at `holidays` coverage?\n",
    "\n",
    "Looking at the keys in the `us_holidays` dict, it seems like the package might be missing holidays. This could have implications for using it to explore holiday-related trends in these data."
   ]
  },
  {
   "cell_type": "code",
   "execution_count": 43,
   "id": "8ae5d5a2-2f81-4fe2-b91a-768142a13db8",
   "metadata": {},
   "outputs": [
    {
     "data": {
      "text/plain": [
       "{2014, 2015, 2018, 2019, 2020, 2021, 2025}"
      ]
     },
     "execution_count": 43,
     "metadata": {},
     "output_type": "execute_result"
    }
   ],
   "source": [
    "{date.year for date in us_holidays}"
   ]
  },
  {
   "cell_type": "markdown",
   "id": "a25ea849-fcf3-4695-aa20-903b53d872b0",
   "metadata": {},
   "source": [
    "- Shoot, does that mean the package doesn't cover holidays in other years? 2016, 2017, 2022, 2023, 2024?"
   ]
  },
  {
   "cell_type": "code",
   "execution_count": 44,
   "id": "4e5ec03b-11cc-4c5e-a16c-885a84147a02",
   "metadata": {},
   "outputs": [
    {
     "data": {
      "text/plain": [
       "array([2018, 2019, 2020, 2021], dtype=int32)"
      ]
     },
     "execution_count": 44,
     "metadata": {},
     "output_type": "execute_result"
    }
   ],
   "source": [
    "oemc.call_date.dt.year.unique()"
   ]
  },
  {
   "cell_type": "markdown",
   "id": "8ed29066-062e-4638-af72-c613793ef48f",
   "metadata": {},
   "source": [
    "#### Thoughts\n",
    "\n",
    "- I can't tell from this data if the package is missing holidays in other years because the timeline of this data happens to be fully covered by the package.\n",
    "- However, the [pypi page](https://pypi.org/project/holidays/) shows an update in January 2025, so it appears to be actively maintained, and this might be mentioned in the rest of the [documentation](https://holidays.readthedocs.io/en/latest/examples.html)."
   ]
  },
  {
   "cell_type": "markdown",
   "id": "b2490b43-4811-4639-913e-dd8d0eac257f",
   "metadata": {},
   "source": [
    "#### setting up holidays"
   ]
  },
  {
   "cell_type": "code",
   "execution_count": 45,
   "id": "0024e1ff-6f91-4298-b279-a9793ef79928",
   "metadata": {},
   "outputs": [],
   "source": [
    "def dedupe_holidays(spec):\n",
    "    \"\"\"\n",
    "    Holidays may be observed on a different date year-to-year, such as\n",
    "    - when a holiday lands on a weekend\n",
    "    - when a holiday is not a specific month-day, ie) Thanksgiving\n",
    "\n",
    "    \"observed\" sometimes appears in the labels, but not always.\n",
    "    We need to clean up the list of observed holidays to remove these variations,\n",
    "    so the axis is more readable. Shouldn't have a big effect on the axis labels.\n",
    "    \"\"\"\n",
    "    holiday_moday = {\n",
    "        f\"{key.month:02}-{key.day:02}\": spec.get(key)\n",
    "        for key in spec.keys()\n",
    "    }\n",
    "    holiday_moday = {\n",
    "        k:v for k,v in holiday_moday.items()\n",
    "        if 'observed' not in v}\n",
    "    onlyfirst = {}\n",
    "    for k,v in holiday_moday.items():\n",
    "        if v not in onlyfirst.values(): onlyfirst[k] = v\n",
    "    return onlyfirst"
   ]
  },
  {
   "cell_type": "code",
   "execution_count": 46,
   "id": "5e069a95-fb2f-4fd3-912a-31ccb8383429",
   "metadata": {},
   "outputs": [],
   "source": [
    "# potential alternative from the docs\n",
    "us_holidays.observed = False"
   ]
  },
  {
   "cell_type": "code",
   "execution_count": 47,
   "id": "7b2c477e-ae38-4052-a8a2-add73c8d4ceb",
   "metadata": {},
   "outputs": [],
   "source": [
    "holiday_moday = dedupe_holidays(spec=us_holidays)"
   ]
  },
  {
   "cell_type": "code",
   "execution_count": 48,
   "id": "43d938f1-f441-470d-899e-927e87f457e7",
   "metadata": {},
   "outputs": [
    {
     "data": {
      "text/plain": [
       "{'01-01': \"New Year's Day\",\n",
       " '05-28': 'Memorial Day',\n",
       " '07-04': 'Independence Day',\n",
       " '09-03': 'Labor Day',\n",
       " '11-11': 'Veterans Day',\n",
       " '11-22': 'Thanksgiving',\n",
       " '12-25': 'Christmas Day',\n",
       " '01-15': 'Martin Luther King Jr. Day',\n",
       " '02-19': \"Washington's Birthday\",\n",
       " '10-08': 'Columbus Day',\n",
       " '06-19': 'Juneteenth National Independence Day'}"
      ]
     },
     "execution_count": 48,
     "metadata": {},
     "output_type": "execute_result"
    }
   ],
   "source": [
    "holiday_moday"
   ]
  },
  {
   "cell_type": "markdown",
   "id": "36bc6d7c-a491-476c-b233-6235eb2ea9c9",
   "metadata": {},
   "source": [
    "#### count &  proportion of daily events"
   ]
  },
  {
   "cell_type": "code",
   "execution_count": 49,
   "id": "53957bfe-7bbd-4460-9145-27a7b0a29fab",
   "metadata": {},
   "outputs": [
    {
     "data": {
      "text/plain": [
       "[]"
      ]
     },
     "execution_count": 49,
     "metadata": {},
     "output_type": "execute_result"
    },
    {
     "data": {
      "image/png": "[encoded data removed]",
      "text/plain": [
       "<Figure size 1300x500 with 1 Axes>"
      ]
     },
     "metadata": {},
     "output_type": "display_data"
    }
   ],
   "source": [
    "fig, ax = plt.subplots()\n",
    "\n",
    "fig.set_size_inches(13, 5)\n",
    "ax.plot(x_moday, y_counts, color='black')\n",
    "ax.xaxis.grid(color='lightblue', linestyle='-', linewidth=2)\n",
    "ax.yaxis.grid(True)\n",
    "ax.set_xticks(\n",
    "    sorted(holiday_moday.keys()),\n",
    "    labels=[f\"({k}), {holiday_moday[k]}\" for k in sorted(holiday_moday.keys())],\n",
    "    rotation=90) # text rotates from the center w/o anchoring to axis, so other degrees may be confusing to interpret\n",
    "plt.title('Firework-related emergency events by day of the year')\n",
    "plt.xlabel('US Holidays')\n",
    "plt.ylabel('Raw count')\n",
    "plt.plot()"
   ]
  },
  {
   "cell_type": "code",
   "execution_count": 50,
   "id": "daca0aa5-cf00-4474-af3c-047a82b8ec4e",
   "metadata": {},
   "outputs": [
    {
     "data": {
      "text/plain": [
       "[]"
      ]
     },
     "execution_count": 50,
     "metadata": {},
     "output_type": "execute_result"
    },
    {
     "data": {
      "image/png": "[encoded data removed]",
      "text/plain": [
       "<Figure size 1300x500 with 1 Axes>"
      ]
     },
     "metadata": {},
     "output_type": "display_data"
    }
   ],
   "source": [
    "fig, ax = plt.subplots()\n",
    "\n",
    "fig.set_size_inches(13, 5)\n",
    "ax.plot(x_moday, y_percs, color='black')\n",
    "ax.xaxis.grid(color='pink', linestyle='-', linewidth=2)\n",
    "ax.yaxis.grid(True)\n",
    "ax.set_xticks(\n",
    "    sorted(holiday_moday.keys()),\n",
    "    labels=[f\"({k}), {holiday_moday[k]}\" for k in sorted(holiday_moday.keys())],\n",
    "    rotation=90) # text rotates from the center w/o anchoring to axis, so other degrees may be confusing to interpret\n",
    "plt.title('Firework-related emergency events by day of the year')\n",
    "plt.xlabel('US Holidays')\n",
    "plt.ylabel('Percent of daily total')\n",
    "plt.plot()"
   ]
  },
  {
   "cell_type": "markdown",
   "id": "a74a3436-f52a-4dfd-a2a5-dc1f159ca2fe",
   "metadata": {},
   "source": [
    "#### Thoughts\n",
    "\n",
    "- Juneteenth and 4th of July are the biggest days for firework-related calls. The rate of firework-related calls on 4th of July is more than 3x the rate of calls for Juneteenth.\n",
    "- A handful of other holidays have comparatively small but observable increases in the proportion of firework-related emergency events for the day, such as New Year's Even and Memorial Day.\n",
    "- The periods between 1) Memorial Day and Juneteenth and 2) Juneteenth and 4th of July see rising rates of firework-related calls, while the cool-off period is roughly the 1 month following 4th of July."
   ]
  },
  {
   "cell_type": "markdown",
   "id": "2b550667-0332-40cc-a478-df86714f8739",
   "metadata": {},
   "source": [
    "## Trends regardless of emergency type"
   ]
  },
  {
   "cell_type": "markdown",
   "id": "e87ca99b-af3e-4df1-9520-3f7d889a9e2d",
   "metadata": {},
   "source": [
    "### quantity of events"
   ]
  },
  {
   "cell_type": "code",
   "execution_count": 51,
   "id": "25627337-d913-463d-a120-7d031f0b9644",
   "metadata": {},
   "outputs": [],
   "source": [
    "# if you count month-day, either account or acknowledge covering 4 years of data\n",
    "desc = oemc.call_moday.value_counts().describe()"
   ]
  },
  {
   "cell_type": "code",
   "execution_count": 52,
   "id": "8dce9647-8e79-4a75-bfa6-9e69da5a2246",
   "metadata": {},
   "outputs": [
    {
     "data": {
      "text/plain": [
       "count      366.000000\n",
       "mean     33222.901639\n",
       "std       3136.133362\n",
       "min       9611.000000\n",
       "25%      31497.500000\n",
       "50%      33164.000000\n",
       "75%      34888.750000\n",
       "max      48620.000000\n",
       "Name: count, dtype: float64"
      ]
     },
     "execution_count": 52,
     "metadata": {},
     "output_type": "execute_result"
    }
   ],
   "source": [
    "desc"
   ]
  },
  {
   "cell_type": "code",
   "execution_count": 53,
   "id": "c0a9e5f9-de7f-470c-af7b-016ec81246fd",
   "metadata": {},
   "outputs": [
    {
     "data": {
      "text/plain": [
       "'33,223 calls per day on average, with a range between 9,611 to 48,620 and a standard deviation of 3,136.'"
      ]
     },
     "execution_count": 53,
     "metadata": {},
     "output_type": "execute_result"
    }
   ],
   "source": [
    "f\"{desc['mean']:,.0f} calls per day on average, with a \\\n",
    "range between {desc['min']:,.0f} to {desc['max']:,.0f} and a standard deviation of {desc['std']:,.0f}.\""
   ]
  },
  {
   "cell_type": "code",
   "execution_count": 54,
   "id": "00ff7341-2b14-4b79-a336-d5b9594601c5",
   "metadata": {},
   "outputs": [],
   "source": [
    "highest_count = oemc.call_moday.value_counts().max()\n",
    "highest_day = {moday for moday, count in oemc.call_moday.value_counts().items() if count == highest_count}"
   ]
  },
  {
   "cell_type": "code",
   "execution_count": 55,
   "id": "5ecf566e-ba12-488d-b65a-d79d2d726d68",
   "metadata": {},
   "outputs": [
    {
     "data": {
      "text/plain": [
       "({'07-04'}, np.int64(48620))"
      ]
     },
     "execution_count": 55,
     "metadata": {},
     "output_type": "execute_result"
    }
   ],
   "source": [
    "highest_day, highest_count"
   ]
  },
  {
   "cell_type": "code",
   "execution_count": 56,
   "id": "7efbbc74-dd23-4376-9f48-ea495eade24b",
   "metadata": {},
   "outputs": [
    {
     "data": {
      "text/plain": [
       "'12,155 calls per year on average for July 4th'"
      ]
     },
     "execution_count": 56,
     "metadata": {},
     "output_type": "execute_result"
    }
   ],
   "source": [
    "f\"{oemc.loc[oemc.july_4th].call_date.dt.year.value_counts().mean():,.0f} calls per year on average for July 4th\""
   ]
  },
  {
   "cell_type": "code",
   "execution_count": 57,
   "id": "2cbf22a4-b4ff-4ca3-90a6-4242635ca414",
   "metadata": {},
   "outputs": [
    {
     "data": {
      "text/plain": [
       "'1,013,298 calls per month on average'"
      ]
     },
     "execution_count": 57,
     "metadata": {},
     "output_type": "execute_result"
    }
   ],
   "source": [
    "f\"{oemc.call_date.dt.month.value_counts().mean():,.0f} calls per month on average\""
   ]
  },
  {
   "cell_type": "code",
   "execution_count": 58,
   "id": "f600b593-ea64-426b-8706-d43b15d7dc0c",
   "metadata": {},
   "outputs": [
    {
     "data": {
      "text/plain": [
       "'3,039,896 calls per year on average'"
      ]
     },
     "execution_count": 58,
     "metadata": {},
     "output_type": "execute_result"
    }
   ],
   "source": [
    "f\"{oemc.call_date.dt.year.value_counts().mean():,.0f} calls per year on average\""
   ]
  },
  {
   "cell_type": "code",
   "execution_count": 59,
   "id": "45ffccf3-ea02-4aee-9343-40b91925b1d9",
   "metadata": {},
   "outputs": [
    {
     "data": {
      "text/plain": [
       "<Axes: title={'center': 'total emergency events by year'}, xlabel='year', ylabel='count (in millions)'>"
      ]
     },
     "execution_count": 59,
     "metadata": {},
     "output_type": "execute_result"
    },
    {
     "data": {
      "image/png": "[encoded data removed]",
      "text/plain": [
       "<Figure size 640x480 with 1 Axes>"
      ]
     },
     "metadata": {},
     "output_type": "display_data"
    }
   ],
   "source": [
    "oemc.call_date.dt.year.astype(str).value_counts().plot(\n",
    "    kind='bar', ylim=(0,4000000), color='#B4A7D6',\n",
    "    title='total emergency events by year', xlabel='year', ylabel='count (in millions)')"
   ]
  },
  {
   "cell_type": "markdown",
   "id": "d37068a1-19d0-4bc7-8e72-03eaa0de0821",
   "metadata": {},
   "source": [
    "### How do US holidays intersect with daily trends?"
   ]
  },
  {
   "cell_type": "code",
   "execution_count": 60,
   "id": "e28586a1-7967-4b2d-a850-442fa8b1678d",
   "metadata": {},
   "outputs": [
    {
     "data": {
      "text/plain": [
       "[]"
      ]
     },
     "execution_count": 60,
     "metadata": {},
     "output_type": "execute_result"
    },
    {
     "data": {
      "image/png": "[encoded data removed]",
      "text/plain": [
       "<Figure size 1300x500 with 1 Axes>"
      ]
     },
     "metadata": {},
     "output_type": "display_data"
    }
   ],
   "source": [
    "x_moday = oemc.call_moday.value_counts().sort_index().index\n",
    "y_total = oemc.call_moday.value_counts().sort_index().values\n",
    "\n",
    "fig, ax = plt.subplots()\n",
    "fig.set_size_inches(13, 5)\n",
    "ax.plot(x_moday, y_total, color='black')\n",
    "ax.xaxis.grid(color='#A3F088', linestyle='-', linewidth=2)\n",
    "ax.yaxis.grid(True)\n",
    "ax.set_xticks(\n",
    "    sorted(holiday_moday.keys()),\n",
    "    labels=[f\"({k}), {holiday_moday[k]}\" for k in sorted(holiday_moday.keys())],\n",
    "    rotation=90) # text rotates from the center w/o anchoring to axis, so other degrees may be confusing to interpret\n",
    "plt.title('Emergency events by day of the year')\n",
    "plt.xlabel('US Holidays')\n",
    "plt.ylabel('Raw count')\n",
    "plt.plot()"
   ]
  },
  {
   "cell_type": "markdown",
   "id": "534b26bb-6f80-48ea-a9c3-5031bbdf7b8b",
   "metadata": {},
   "source": [
    "### I'm curious if the some of the smaller peaks are non-US holidays?\n",
    "\n",
    "From the docs:\n",
    "> Holiday objects can be added together and the resulting object will generate the holidays from all of the initial objects:"
   ]
  },
  {
   "cell_type": "code",
   "execution_count": 61,
   "id": "9b5445ab-5c28-4cb5-8802-0f08799cdcf5",
   "metadata": {},
   "outputs": [
    {
     "data": {
      "text/plain": [
       "'Independence Day'"
      ]
     },
     "execution_count": 61,
     "metadata": {},
     "output_type": "execute_result"
    }
   ],
   "source": [
    "north_america = holidays.CA() + holidays.US() + holidays.MX()\n",
    "north_america.get('2014-07-01') # \"Canada Day\"\n",
    "north_america.get('2014-07-04') # \"Independence Day\""
   ]
  },
  {
   "cell_type": "code",
   "execution_count": 62,
   "id": "447dc6e5-0e1d-4422-8f28-bd49adf58f62",
   "metadata": {},
   "outputs": [
    {
     "data": {
      "text/plain": [
       "['CA', 'US', 'MX']"
      ]
     },
     "execution_count": 62,
     "metadata": {},
     "output_type": "execute_result"
    }
   ],
   "source": [
    "north_america.country"
   ]
  },
  {
   "cell_type": "markdown",
   "id": "2a44b1e4-cc1a-4898-8314-565e88b78aaf",
   "metadata": {},
   "source": [
    "#### Can I use the the key method tho?"
   ]
  },
  {
   "cell_type": "code",
   "execution_count": 63,
   "id": "d8a75b91-53ac-48d0-8f42-bd93573343ae",
   "metadata": {},
   "outputs": [],
   "source": [
    "canada = holidays.country_holidays(country='CA')\n",
    "usa = holidays.country_holidays(country='US')\n",
    "mexico = holidays.country_holidays(country='MX')\n",
    "north_america = canada + usa + mexico"
   ]
  },
  {
   "cell_type": "code",
   "execution_count": 64,
   "id": "7abfc483-b54f-48e4-b2fb-ed02f2628288",
   "metadata": {},
   "outputs": [
    {
     "data": {
      "text/plain": [
       "'Canada Day'"
      ]
     },
     "execution_count": 64,
     "metadata": {},
     "output_type": "execute_result"
    }
   ],
   "source": [
    "north_america.get('2014-07-01') # \"Canada Day\""
   ]
  },
  {
   "cell_type": "markdown",
   "id": "75d66bb3-2103-473e-a72e-301cb1d57df1",
   "metadata": {},
   "source": [
    "#### all countries"
   ]
  },
  {
   "cell_type": "code",
   "execution_count": 65,
   "id": "9153cc59-a218-4a7b-8b78-b5a39b3223ef",
   "metadata": {},
   "outputs": [],
   "source": [
    "countries = {\n",
    "    label: tup[0]\n",
    "    for label, tup in holidays.registry.COUNTRIES.items()}"
   ]
  },
  {
   "cell_type": "code",
   "execution_count": 66,
   "id": "30928dcc-7233-4438-88c8-33e78cdce847",
   "metadata": {},
   "outputs": [
    {
     "name": "stderr",
     "output_type": "stream",
     "text": [
      "/Users/home/opt/miniconda3/lib/python3.12/site-packages/holidays/countries/marshall_islands.py:38: Warning: Years before 2020 are not available for the Marshall Islands (MH).\n",
      "  warnings.warn(\n"
     ]
    },
    {
     "name": "stdout",
     "output_type": "stream",
     "text": [
      "error processing holidays for vietnam\n"
     ]
    }
   ],
   "source": [
    "none_found = []\n",
    "mega_holiday_moday = None\n",
    "for label, countrycode in countries.items():\n",
    "    found = holidays.country_holidays(\n",
    "        country=countrycode, years=range(2018, 2022))\n",
    "    if not any(found):\n",
    "        none_found.append(label)\n",
    "        continue\n",
    "    if mega_holiday_moday:\n",
    "        try: mega_holiday_moday += found\n",
    "        except:\n",
    "            print(f'error processing holidays for {label}')\n",
    "            continue\n",
    "    else: mega_holiday_moday = found"
   ]
  },
  {
   "cell_type": "code",
   "execution_count": 67,
   "id": "ec680d08-c0e3-4e05-b47f-99696c8ed474",
   "metadata": {},
   "outputs": [],
   "source": [
    "assert mega_holiday_moday"
   ]
  },
  {
   "cell_type": "code",
   "execution_count": 68,
   "id": "5d559674-6ddf-4435-9769-30ff40223c7c",
   "metadata": {},
   "outputs": [
    {
     "data": {
      "text/plain": [
       "155"
      ]
     },
     "execution_count": 68,
     "metadata": {},
     "output_type": "execute_result"
    }
   ],
   "source": [
    "len(mega_holiday_moday.country)"
   ]
  },
  {
   "cell_type": "code",
   "execution_count": 69,
   "id": "4d22ece9-762f-4795-b792-cbc870068175",
   "metadata": {},
   "outputs": [],
   "source": [
    "mega_holiday_moday = dedupe_holidays(spec=mega_holiday_moday)"
   ]
  },
  {
   "cell_type": "code",
   "execution_count": 70,
   "id": "e685cad1-aa4c-472e-ba20-40071a950e49",
   "metadata": {},
   "outputs": [],
   "source": [
    "# Un-comment if you want to find out\n",
    "\n",
    "#x_moday = oemc.call_moday.value_counts().sort_index().index\n",
    "#y_total = oemc.call_moday.value_counts().sort_index().values\n",
    "#\n",
    "#fig, ax = plt.subplots()\n",
    "#fig.set_size_inches(13, 5)\n",
    "#ax.plot(x_moday, y_total, color='black')\n",
    "#ax.xaxis.grid(color='lightblue', linestyle='-', linewidth=2)\n",
    "#ax.yaxis.grid(True)\n",
    "#ax.set_xticks(\n",
    "#    sorted(mega_holiday_moday.keys()),\n",
    "#    labels=[f\"({k}), {mega_holiday_moday[k]}\"\n",
    "#            for k in sorted(mega_holiday_moday.keys())],\n",
    "#    rotation=90) # text rotates from the center w/o anchoring to axis, so other degrees may be confusing to interpret\n",
    "#plt.title('Emergency events by day of the year')\n",
    "#plt.xlabel('All Country Holidays in `holidays` Python package')\n",
    "#plt.ylabel('Raw count')\n",
    "#plt.plot()"
   ]
  },
  {
   "cell_type": "markdown",
   "id": "1b2c9d8d-2189-4391-9d0c-9f761c262bf9",
   "metadata": {},
   "source": [
    "### re-thinking that approach\n",
    "\n",
    "Let's suppose a holiday is a factor in the quantity of emergency events if the difference between that day and the day before is an increase of more than 2 standard deviations from the mean."
   ]
  },
  {
   "cell_type": "code",
   "execution_count": 71,
   "id": "ac03581d-f2e1-43d3-9fe9-a3228580ecdf",
   "metadata": {},
   "outputs": [],
   "source": [
    "vc = oemc.call_moday.value_counts().sort_index().to_frame().reset_index()"
   ]
  },
  {
   "cell_type": "code",
   "execution_count": 72,
   "id": "53a40124-d5aa-4bd5-8248-9d8c105f691c",
   "metadata": {},
   "outputs": [
    {
     "data": {
      "text/plain": [
       "0      32209\n",
       "1      30137\n",
       "2      30879\n",
       "3      30870\n",
       "4      31457\n",
       "       ...  \n",
       "361    27750\n",
       "362    28379\n",
       "363    27974\n",
       "364    28572\n",
       "365    28059\n",
       "Name: count, Length: 366, dtype: int64"
      ]
     },
     "execution_count": 72,
     "metadata": {},
     "output_type": "execute_result"
    }
   ],
   "source": [
    "vc['count']"
   ]
  },
  {
   "cell_type": "code",
   "execution_count": 73,
   "id": "2c207f60-7391-4d59-a9e5-31c8f6772344",
   "metadata": {},
   "outputs": [],
   "source": [
    "def daily_increase(x):\n",
    "    \"\"\"Note that this does disregard decreases.\"\"\"\n",
    "    if x.iloc[1] <= x.iloc[0]: return np.nan\n",
    "    return x.iloc[1] - x.iloc[0]"
   ]
  },
  {
   "cell_type": "code",
   "execution_count": 74,
   "id": "65107ed8-e617-4cfa-a477-512d4a34883e",
   "metadata": {},
   "outputs": [
    {
     "data": {
      "text/plain": [
       "0      32209\n",
       "1      30137\n",
       "2      30879\n",
       "3      30870\n",
       "4      31457\n",
       "       ...  \n",
       "361    27750\n",
       "362    28379\n",
       "363    27974\n",
       "364    28572\n",
       "365    28059\n",
       "Name: count, Length: 366, dtype: int64"
      ]
     },
     "execution_count": 74,
     "metadata": {},
     "output_type": "execute_result"
    }
   ],
   "source": [
    "vc['count']"
   ]
  },
  {
   "cell_type": "code",
   "execution_count": 75,
   "id": "31a5bd46-c661-4abe-b35c-a5c8b39b0bd3",
   "metadata": {},
   "outputs": [],
   "source": [
    "vc['daily_change'] = vc['count'].rolling(window=2).apply(lambda x: x.iloc[1] - x.iloc[0])\n",
    "vc['daily_increase'] = vc['count'].rolling(window=2).apply(daily_increase)"
   ]
  },
  {
   "cell_type": "code",
   "execution_count": 76,
   "id": "889e85a8-6a71-4191-b550-f19ee1974f25",
   "metadata": {},
   "outputs": [],
   "source": [
    "normal = round(desc['std']*2)\n",
    "lowerlim = round(desc['mean'] - normal)\n",
    "upperlim = round(desc['mean'] + normal)"
   ]
  },
  {
   "cell_type": "code",
   "execution_count": 77,
   "id": "0fe1b3c2-3da3-4201-a52e-3d047c72da8d",
   "metadata": {},
   "outputs": [
    {
     "data": {
      "text/plain": [
       "(26951, 39495)"
      ]
     },
     "execution_count": 77,
     "metadata": {},
     "output_type": "execute_result"
    }
   ],
   "source": [
    "lowerlim, upperlim"
   ]
  },
  {
   "cell_type": "code",
   "execution_count": 78,
   "id": "bdbc1c7b-b0cd-443d-ad2e-849b776ecb61",
   "metadata": {},
   "outputs": [],
   "source": [
    "vc['lefttail'] = vc['count'] < lowerlim\n",
    "vc['righttail'] = vc['count'] > upperlim\n",
    "vc['eithertail'] = vc.lefttail | vc.righttail"
   ]
  },
  {
   "cell_type": "code",
   "execution_count": 79,
   "id": "579125ff-c124-4217-8441-019e795f47f2",
   "metadata": {},
   "outputs": [
    {
     "data": {
      "text/html": [
       "<div>\n",
       "<style scoped>\n",
       "    .dataframe tbody tr th:only-of-type {\n",
       "        vertical-align: middle;\n",
       "    }\n",
       "\n",
       "    .dataframe tbody tr th {\n",
       "        vertical-align: top;\n",
       "    }\n",
       "\n",
       "    .dataframe thead th {\n",
       "        text-align: right;\n",
       "    }\n",
       "</style>\n",
       "<table border=\"1\" class=\"dataframe\">\n",
       "  <thead>\n",
       "    <tr style=\"text-align: right;\">\n",
       "      <th></th>\n",
       "      <th>call_moday</th>\n",
       "      <th>count</th>\n",
       "      <th>daily_increase</th>\n",
       "      <th>lefttail</th>\n",
       "      <th>righttail</th>\n",
       "    </tr>\n",
       "  </thead>\n",
       "  <tbody>\n",
       "    <tr>\n",
       "      <th>59</th>\n",
       "      <td>02-29</td>\n",
       "      <td>9611</td>\n",
       "      <td>NaN</td>\n",
       "      <td>True</td>\n",
       "      <td>False</td>\n",
       "    </tr>\n",
       "    <tr>\n",
       "      <th>144</th>\n",
       "      <td>05-24</td>\n",
       "      <td>41178</td>\n",
       "      <td>2391.0</td>\n",
       "      <td>False</td>\n",
       "      <td>True</td>\n",
       "    </tr>\n",
       "    <tr>\n",
       "      <th>145</th>\n",
       "      <td>05-25</td>\n",
       "      <td>43857</td>\n",
       "      <td>2679.0</td>\n",
       "      <td>False</td>\n",
       "      <td>True</td>\n",
       "    </tr>\n",
       "    <tr>\n",
       "      <th>146</th>\n",
       "      <td>05-26</td>\n",
       "      <td>40600</td>\n",
       "      <td>NaN</td>\n",
       "      <td>False</td>\n",
       "      <td>True</td>\n",
       "    </tr>\n",
       "    <tr>\n",
       "      <th>151</th>\n",
       "      <td>05-31</td>\n",
       "      <td>40302</td>\n",
       "      <td>2474.0</td>\n",
       "      <td>False</td>\n",
       "      <td>True</td>\n",
       "    </tr>\n",
       "    <tr>\n",
       "      <th>152</th>\n",
       "      <td>06-01</td>\n",
       "      <td>40165</td>\n",
       "      <td>NaN</td>\n",
       "      <td>False</td>\n",
       "      <td>True</td>\n",
       "    </tr>\n",
       "    <tr>\n",
       "      <th>170</th>\n",
       "      <td>06-19</td>\n",
       "      <td>40114</td>\n",
       "      <td>1574.0</td>\n",
       "      <td>False</td>\n",
       "      <td>True</td>\n",
       "    </tr>\n",
       "    <tr>\n",
       "      <th>183</th>\n",
       "      <td>07-02</td>\n",
       "      <td>40040</td>\n",
       "      <td>1913.0</td>\n",
       "      <td>False</td>\n",
       "      <td>True</td>\n",
       "    </tr>\n",
       "    <tr>\n",
       "      <th>184</th>\n",
       "      <td>07-03</td>\n",
       "      <td>44440</td>\n",
       "      <td>4400.0</td>\n",
       "      <td>False</td>\n",
       "      <td>True</td>\n",
       "    </tr>\n",
       "    <tr>\n",
       "      <th>185</th>\n",
       "      <td>07-04</td>\n",
       "      <td>48620</td>\n",
       "      <td>4180.0</td>\n",
       "      <td>False</td>\n",
       "      <td>True</td>\n",
       "    </tr>\n",
       "    <tr>\n",
       "      <th>186</th>\n",
       "      <td>07-05</td>\n",
       "      <td>43829</td>\n",
       "      <td>NaN</td>\n",
       "      <td>False</td>\n",
       "      <td>True</td>\n",
       "    </tr>\n",
       "    <tr>\n",
       "      <th>329</th>\n",
       "      <td>11-25</td>\n",
       "      <td>26796</td>\n",
       "      <td>NaN</td>\n",
       "      <td>True</td>\n",
       "      <td>False</td>\n",
       "    </tr>\n",
       "    <tr>\n",
       "      <th>358</th>\n",
       "      <td>12-24</td>\n",
       "      <td>24910</td>\n",
       "      <td>NaN</td>\n",
       "      <td>True</td>\n",
       "      <td>False</td>\n",
       "    </tr>\n",
       "    <tr>\n",
       "      <th>359</th>\n",
       "      <td>12-25</td>\n",
       "      <td>20772</td>\n",
       "      <td>NaN</td>\n",
       "      <td>True</td>\n",
       "      <td>False</td>\n",
       "    </tr>\n",
       "    <tr>\n",
       "      <th>360</th>\n",
       "      <td>12-26</td>\n",
       "      <td>26455</td>\n",
       "      <td>5683.0</td>\n",
       "      <td>True</td>\n",
       "      <td>False</td>\n",
       "    </tr>\n",
       "  </tbody>\n",
       "</table>\n",
       "</div>"
      ],
      "text/plain": [
       "    call_moday  count  daily_increase  lefttail  righttail\n",
       "59       02-29   9611             NaN      True      False\n",
       "144      05-24  41178          2391.0     False       True\n",
       "145      05-25  43857          2679.0     False       True\n",
       "146      05-26  40600             NaN     False       True\n",
       "151      05-31  40302          2474.0     False       True\n",
       "152      06-01  40165             NaN     False       True\n",
       "170      06-19  40114          1574.0     False       True\n",
       "183      07-02  40040          1913.0     False       True\n",
       "184      07-03  44440          4400.0     False       True\n",
       "185      07-04  48620          4180.0     False       True\n",
       "186      07-05  43829             NaN     False       True\n",
       "329      11-25  26796             NaN      True      False\n",
       "358      12-24  24910             NaN      True      False\n",
       "359      12-25  20772             NaN      True      False\n",
       "360      12-26  26455          5683.0      True      False"
      ]
     },
     "execution_count": 79,
     "metadata": {},
     "output_type": "execute_result"
    }
   ],
   "source": [
    "vc.loc[vc.eithertail, ['call_moday', 'count', 'daily_increase', 'lefttail', 'righttail']]"
   ]
  },
  {
   "cell_type": "code",
   "execution_count": null,
   "id": "7afc1ba0-56d4-48be-b278-9a7747cf814d",
   "metadata": {},
   "outputs": [],
   "source": [
    "ax.sca"
   ]
  },
  {
   "cell_type": "code",
   "execution_count": 80,
   "id": "b5921cc6-97e5-44d9-b6bd-da2278021f6d",
   "metadata": {},
   "outputs": [],
   "source": [
    "#x_moday = oemc.call_moday.value_counts().sort_index().index\n",
    "#y_norm = oemc.loc[~oemc.eithertail].call_moday.value_counts().sort_index().values\n",
    "#y_tail = oemc.loc[oemc.eithertail].call_moday.value_counts().sort_index().values\n",
    "#\n",
    "#fig, ax = plt.subplots()\n",
    "#fig.set_size_inches(13, 5)\n",
    "#ax.plot(x_moday, y_norm, color='black')\n",
    "#ax.plot(x_moday, y_tail, color='black')\n",
    "#ax.xaxis.grid(color='lightblue', linestyle='-', linewidth=2)\n",
    "#ax.yaxis.grid(True)\n",
    "#ax.set_xticks(\n",
    "#    sorted(mega_holiday_moday.keys()),\n",
    "#    labels=[f\"({k}), {mega_holiday_moday[k]}\"\n",
    "#            for k in sorted(mega_holiday_moday.keys())],\n",
    "#    rotation=90) # text rotates from the center w/o anchoring to axis, so other degrees may be confusing to interpret\n",
    "#plt.title('Emergency events by day of the year')\n",
    "#plt.xlabel('All Country Holidays in `holidays` Python package')\n",
    "#plt.ylabel('Raw count')\n",
    "#plt.plot()"
   ]
  }
 ],
 "metadata": {
  "kernelspec": {
   "display_name": "Python 3 (ipykernel)",
   "language": "python",
   "name": "python3"
  },
  "language_info": {
   "codemirror_mode": {
    "name": "ipython",
    "version": 3
   },
   "file_extension": ".py",
   "mimetype": "text/x-python",
   "name": "python",
   "nbconvert_exporter": "python",
   "pygments_lexer": "ipython3",
   "version": "3.12.7"
  }
 },
 "nbformat": 4,
 "nbformat_minor": 5
}
