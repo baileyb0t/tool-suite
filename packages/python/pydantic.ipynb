{
 "cells": [
  {
   "cell_type": "markdown",
   "id": "28c17942-a040-42db-a3e4-9ea5f08cdf35",
   "metadata": {},
   "source": [
    "# goal\n",
    "\\\n",
    "As part of the [**D**ata **S**yncing **G**izmo](https://github.com/HRDAG/dsg) development, we'll be using [Pydantic](https://docs.pydantic.dev/2.10/) objects to standardize the objects and associated testing.\n",
    "\n",
    "I'm new to `pydantic`, so I'm following a [guide](https://www.geeksforgeeks.org/introduction-to-python-pydantic-library/) that has some organized examples I read through and borrowed the initial object structure from before diving further into the [docs](https://docs.pydantic.dev/2.10/).\n",
    "\n",
    "The first two applications that come to mind and I'd like to explore are:\n",
    "1. Excel file model (for initial processing of input data)\n",
    "2. Entity model (for light standardization / de-duplication / entity resolution)"
   ]
  },
  {
   "cell_type": "markdown",
   "id": "6b2ed0df-01c6-4b88-ae57-5280c3d20947",
   "metadata": {},
   "source": [
    "# setup"
   ]
  },
  {
   "cell_type": "code",
   "execution_count": 1,
   "id": "10d90aed-f201-4dbc-9164-a1bb2ae5e3c9",
   "metadata": {},
   "outputs": [],
   "source": [
    "# dependencies\n",
    "from pathlib import PosixPath\n",
    "import pandas as pd\n",
    "from pydantic import BaseModel, field_validator"
   ]
  },
  {
   "cell_type": "code",
   "execution_count": 2,
   "id": "4a671217-8d52-440b-ad18-65f7d6477fda",
   "metadata": {},
   "outputs": [],
   "source": [
    "# support methods\n",
    "def cleanname(colname):\n",
    "    form = colname.lower()\n",
    "    swap = '.: '\n",
    "    for char in swap: form = form.replace(char, '_')\n",
    "    return form\n",
    "\n",
    "\n",
    "class xlsx(BaseModel):\n",
    "    filename: PosixPath | str\n",
    "    sheets: None | list\n",
    "    sheet: None | str\n",
    "\n",
    "    @field_validator('filename')\n",
    "    def checkpath(cls, value):\n",
    "        if not PosixPath(value).exists():\n",
    "            raise ValueError(f'Cannot find file with path {value}')\n",
    "        return value\n",
    "\n",
    "    def setsheets(self):\n",
    "        known = pd.ExcelFile(self.filename).sheet_names\n",
    "        if not len(known) >= 1:\n",
    "            raise ValueError(f'Expected {self.filename} to have at least one read-able sheet of data.')\n",
    "        if not self.sheets: self.sheets = known\n",
    "        if sorted(known) != sorted(self.sheets):\n",
    "            raise ValueError(f'Expected {self.filename} to have sheets {self.sheets} but found {known}.')\n",
    "        return self\n",
    "\n",
    "    def setsheet(self):\n",
    "        if not self.sheet: self.sheet = self.sheets[0]\n",
    "        if self.sheet not in self.sheets: raise ValueError(f'\\\n",
    "            {self.sheet} not found in {self.filename} with sheets {self.sheets}')\n",
    "        return self\n",
    "\n",
    "    def toframe(self):\n",
    "        self.setsheets()\n",
    "        self.setsheet()\n",
    "        df = pd.read_excel(io=self.filename, sheet_name=self.sheet)\n",
    "        df.rename(columns={c: cleanname(colname=c) for c in df.columns}, inplace=True)\n",
    "        return df\n",
    "\n",
    "\n",
    "def loadxl(xlfile, sheets=None, sheet=None):\n",
    "    file = xlsx(filename=xlfile, sheets=sheets, sheet=sheet)\n",
    "    df = file.toframe()\n",
    "    return df"
   ]
  },
  {
   "cell_type": "code",
   "execution_count": 3,
   "id": "0cc102bf-790f-430e-abb9-496c416437ca",
   "metadata": {},
   "outputs": [],
   "source": [
    "# main\n",
    "xlf = \"/Users/home/Downloads/211 and 212.5 cases with strike priors.xlsx\""
   ]
  },
  {
   "cell_type": "markdown",
   "id": "954940e1-a1dc-4e60-b1cc-66a989620124",
   "metadata": {},
   "source": [
    "# testing stuff we expect to pass"
   ]
  },
  {
   "cell_type": "markdown",
   "id": "df471065-c420-4a7b-80b8-ea771ca52ba5",
   "metadata": {},
   "source": [
    "## real file, no other args"
   ]
  },
  {
   "cell_type": "code",
   "execution_count": 4,
   "id": "21aa416c-a23e-4e11-bd94-5b8a228100f4",
   "metadata": {},
   "outputs": [],
   "source": [
    "justfile = loadxl(xlfile=xlf)"
   ]
  },
  {
   "cell_type": "markdown",
   "id": "f00966ef-96af-45a2-ba58-1b47910c0386",
   "metadata": {},
   "source": [
    "## real file and sheet"
   ]
  },
  {
   "cell_type": "code",
   "execution_count": 5,
   "id": "fb03f4ed-63a8-41b3-9855-8968e42fbe25",
   "metadata": {},
   "outputs": [],
   "source": [
    "wsheet = loadxl(xlfile=xlf, sheet='Sheet1')"
   ]
  },
  {
   "cell_type": "markdown",
   "id": "38ce4fc4-e4df-434f-89cc-183d71b42174",
   "metadata": {},
   "source": [
    "## real file, no args == real file, real sheet"
   ]
  },
  {
   "cell_type": "code",
   "execution_count": 6,
   "id": "563c4c1a-efad-4002-bf9a-3b0a83c9391e",
   "metadata": {},
   "outputs": [],
   "source": [
    "assert justfile.equals(wsheet)"
   ]
  },
  {
   "cell_type": "markdown",
   "id": "7135243c-bc8e-45c8-8f8c-8c97f5708742",
   "metadata": {},
   "source": [
    "# testing stuff we expect to fail"
   ]
  },
  {
   "cell_type": "markdown",
   "id": "32d20cbb-fb03-4c17-9581-953d4ee6433d",
   "metadata": {},
   "source": [
    "## fake file"
   ]
  },
  {
   "cell_type": "code",
   "execution_count": 7,
   "id": "5879b10f-54ce-42a4-8606-0dd23f215e29",
   "metadata": {},
   "outputs": [
    {
     "ename": "ValidationError",
     "evalue": "1 validation error for xlsx\nfilename\n  Value error, Cannot find file with path ~/Downloads/fake.xlsx [type=value_error, input_value='~/Downloads/fake.xlsx', input_type=str]\n    For further information visit https://errors.pydantic.dev/2.11/v/value_error",
     "output_type": "error",
     "traceback": [
      "\u001b[31m---------------------------------------------------------------------------\u001b[39m",
      "\u001b[31mValidationError\u001b[39m                           Traceback (most recent call last)",
      "\u001b[36mCell\u001b[39m\u001b[36m \u001b[39m\u001b[32mIn[7]\u001b[39m\u001b[32m, line 1\u001b[39m\n\u001b[32m----> \u001b[39m\u001b[32m1\u001b[39m \u001b[43mloadxl\u001b[49m\u001b[43m(\u001b[49m\u001b[43mxlfile\u001b[49m\u001b[43m=\u001b[49m\u001b[33;43m\"\u001b[39;49m\u001b[33;43m~/Downloads/fake.xlsx\u001b[39;49m\u001b[33;43m\"\u001b[39;49m\u001b[43m)\u001b[49m\n",
      "\u001b[36mCell\u001b[39m\u001b[36m \u001b[39m\u001b[32mIn[2]\u001b[39m\u001b[32m, line 44\u001b[39m, in \u001b[36mloadxl\u001b[39m\u001b[34m(xlfile, sheets, sheet)\u001b[39m\n\u001b[32m     43\u001b[39m \u001b[38;5;28;01mdef\u001b[39;00m\u001b[38;5;250m \u001b[39m\u001b[34mloadxl\u001b[39m(xlfile, sheets=\u001b[38;5;28;01mNone\u001b[39;00m, sheet=\u001b[38;5;28;01mNone\u001b[39;00m):\n\u001b[32m---> \u001b[39m\u001b[32m44\u001b[39m     file = \u001b[43mxlsx\u001b[49m\u001b[43m(\u001b[49m\u001b[43mfilename\u001b[49m\u001b[43m=\u001b[49m\u001b[43mxlfile\u001b[49m\u001b[43m,\u001b[49m\u001b[43m \u001b[49m\u001b[43msheets\u001b[49m\u001b[43m=\u001b[49m\u001b[43msheets\u001b[49m\u001b[43m,\u001b[49m\u001b[43m \u001b[49m\u001b[43msheet\u001b[49m\u001b[43m=\u001b[49m\u001b[43msheet\u001b[49m\u001b[43m)\u001b[49m\n\u001b[32m     45\u001b[39m     df = file.toframe()\n\u001b[32m     46\u001b[39m     \u001b[38;5;28;01mreturn\u001b[39;00m df\n",
      "\u001b[36mFile \u001b[39m\u001b[32m~/opt/miniconda3/lib/python3.12/site-packages/pydantic/main.py:253\u001b[39m, in \u001b[36mBaseModel.__init__\u001b[39m\u001b[34m(self, **data)\u001b[39m\n\u001b[32m    251\u001b[39m \u001b[38;5;66;03m# `__tracebackhide__` tells pytest and some other tools to omit this function from tracebacks\u001b[39;00m\n\u001b[32m    252\u001b[39m __tracebackhide__ = \u001b[38;5;28;01mTrue\u001b[39;00m\n\u001b[32m--> \u001b[39m\u001b[32m253\u001b[39m validated_self = \u001b[38;5;28;43mself\u001b[39;49m\u001b[43m.\u001b[49m\u001b[43m__pydantic_validator__\u001b[49m\u001b[43m.\u001b[49m\u001b[43mvalidate_python\u001b[49m\u001b[43m(\u001b[49m\u001b[43mdata\u001b[49m\u001b[43m,\u001b[49m\u001b[43m \u001b[49m\u001b[43mself_instance\u001b[49m\u001b[43m=\u001b[49m\u001b[38;5;28;43mself\u001b[39;49m\u001b[43m)\u001b[49m\n\u001b[32m    254\u001b[39m \u001b[38;5;28;01mif\u001b[39;00m \u001b[38;5;28mself\u001b[39m \u001b[38;5;129;01mis\u001b[39;00m \u001b[38;5;129;01mnot\u001b[39;00m validated_self:\n\u001b[32m    255\u001b[39m     warnings.warn(\n\u001b[32m    256\u001b[39m         \u001b[33m'\u001b[39m\u001b[33mA custom validator is returning a value other than `self`.\u001b[39m\u001b[38;5;130;01m\\n\u001b[39;00m\u001b[33m'\u001b[39m\n\u001b[32m    257\u001b[39m         \u001b[33m\"\u001b[39m\u001b[33mReturning anything other than `self` from a top level model validator isn\u001b[39m\u001b[33m'\u001b[39m\u001b[33mt supported when validating via `__init__`.\u001b[39m\u001b[38;5;130;01m\\n\u001b[39;00m\u001b[33m\"\u001b[39m\n\u001b[32m    258\u001b[39m         \u001b[33m'\u001b[39m\u001b[33mSee the `model_validator` docs (https://docs.pydantic.dev/latest/concepts/validators/#model-validators) for more details.\u001b[39m\u001b[33m'\u001b[39m,\n\u001b[32m    259\u001b[39m         stacklevel=\u001b[32m2\u001b[39m,\n\u001b[32m    260\u001b[39m     )\n",
      "\u001b[31mValidationError\u001b[39m: 1 validation error for xlsx\nfilename\n  Value error, Cannot find file with path ~/Downloads/fake.xlsx [type=value_error, input_value='~/Downloads/fake.xlsx', input_type=str]\n    For further information visit https://errors.pydantic.dev/2.11/v/value_error"
     ]
    }
   ],
   "source": [
    "loadxl(xlfile=\"~/Downloads/fake.xlsx\")"
   ]
  },
  {
   "cell_type": "markdown",
   "id": "105a4130-06c4-4428-874a-ebf09e1ff9be",
   "metadata": {},
   "source": [
    "## real file but fake sheet"
   ]
  },
  {
   "cell_type": "code",
   "execution_count": 8,
   "id": "b14fa9ca-8761-4e61-9f3a-a2aa730efe08",
   "metadata": {},
   "outputs": [
    {
     "ename": "ValueError",
     "evalue": "            FakeSheetName not found in /Users/home/Downloads/211 and 212.5 cases with strike priors.xlsx with sheets ['Sheet1']",
     "output_type": "error",
     "traceback": [
      "\u001b[31m---------------------------------------------------------------------------\u001b[39m",
      "\u001b[31mValueError\u001b[39m                                Traceback (most recent call last)",
      "\u001b[36mCell\u001b[39m\u001b[36m \u001b[39m\u001b[32mIn[8]\u001b[39m\u001b[32m, line 1\u001b[39m\n\u001b[32m----> \u001b[39m\u001b[32m1\u001b[39m \u001b[43mloadxl\u001b[49m\u001b[43m(\u001b[49m\u001b[43mxlfile\u001b[49m\u001b[43m=\u001b[49m\u001b[43mxlf\u001b[49m\u001b[43m,\u001b[49m\u001b[43m \u001b[49m\u001b[43msheet\u001b[49m\u001b[43m=\u001b[49m\u001b[33;43m'\u001b[39;49m\u001b[33;43mFakeSheetName\u001b[39;49m\u001b[33;43m'\u001b[39;49m\u001b[43m)\u001b[49m\n",
      "\u001b[36mCell\u001b[39m\u001b[36m \u001b[39m\u001b[32mIn[2]\u001b[39m\u001b[32m, line 45\u001b[39m, in \u001b[36mloadxl\u001b[39m\u001b[34m(xlfile, sheets, sheet)\u001b[39m\n\u001b[32m     43\u001b[39m \u001b[38;5;28;01mdef\u001b[39;00m\u001b[38;5;250m \u001b[39m\u001b[34mloadxl\u001b[39m(xlfile, sheets=\u001b[38;5;28;01mNone\u001b[39;00m, sheet=\u001b[38;5;28;01mNone\u001b[39;00m):\n\u001b[32m     44\u001b[39m     file = xlsx(filename=xlfile, sheets=sheets, sheet=sheet)\n\u001b[32m---> \u001b[39m\u001b[32m45\u001b[39m     df = \u001b[43mfile\u001b[49m\u001b[43m.\u001b[49m\u001b[43mtoframe\u001b[49m\u001b[43m(\u001b[49m\u001b[43m)\u001b[49m\n\u001b[32m     46\u001b[39m     \u001b[38;5;28;01mreturn\u001b[39;00m df\n",
      "\u001b[36mCell\u001b[39m\u001b[36m \u001b[39m\u001b[32mIn[2]\u001b[39m\u001b[32m, line 37\u001b[39m, in \u001b[36mxlsx.toframe\u001b[39m\u001b[34m(self)\u001b[39m\n\u001b[32m     35\u001b[39m \u001b[38;5;28;01mdef\u001b[39;00m\u001b[38;5;250m \u001b[39m\u001b[34mtoframe\u001b[39m(\u001b[38;5;28mself\u001b[39m):\n\u001b[32m     36\u001b[39m     \u001b[38;5;28mself\u001b[39m.setsheets()\n\u001b[32m---> \u001b[39m\u001b[32m37\u001b[39m     \u001b[38;5;28;43mself\u001b[39;49m\u001b[43m.\u001b[49m\u001b[43msetsheet\u001b[49m\u001b[43m(\u001b[49m\u001b[43m)\u001b[49m\n\u001b[32m     38\u001b[39m     df = pd.read_excel(io=\u001b[38;5;28mself\u001b[39m.filename, sheet_name=\u001b[38;5;28mself\u001b[39m.sheet)\n\u001b[32m     39\u001b[39m     df.rename(columns={c: cleanname(colname=c) \u001b[38;5;28;01mfor\u001b[39;00m c \u001b[38;5;129;01min\u001b[39;00m df.columns}, inplace=\u001b[38;5;28;01mTrue\u001b[39;00m)\n",
      "\u001b[36mCell\u001b[39m\u001b[36m \u001b[39m\u001b[32mIn[2]\u001b[39m\u001b[32m, line 31\u001b[39m, in \u001b[36mxlsx.setsheet\u001b[39m\u001b[34m(self)\u001b[39m\n\u001b[32m     29\u001b[39m \u001b[38;5;28;01mdef\u001b[39;00m\u001b[38;5;250m \u001b[39m\u001b[34msetsheet\u001b[39m(\u001b[38;5;28mself\u001b[39m):\n\u001b[32m     30\u001b[39m     \u001b[38;5;28;01mif\u001b[39;00m \u001b[38;5;129;01mnot\u001b[39;00m \u001b[38;5;28mself\u001b[39m.sheet: \u001b[38;5;28mself\u001b[39m.sheet = \u001b[38;5;28mself\u001b[39m.sheets[\u001b[32m0\u001b[39m]\n\u001b[32m---> \u001b[39m\u001b[32m31\u001b[39m     \u001b[38;5;28;01mif\u001b[39;00m \u001b[38;5;28mself\u001b[39m.sheet \u001b[38;5;129;01mnot\u001b[39;00m \u001b[38;5;129;01min\u001b[39;00m \u001b[38;5;28mself\u001b[39m.sheets: \u001b[38;5;28;01mraise\u001b[39;00m \u001b[38;5;167;01mValueError\u001b[39;00m(\u001b[33mf\u001b[39m\u001b[33m'\u001b[39m\u001b[38;5;130;01m\\\u001b[39;00m\n\u001b[32m     32\u001b[39m \u001b[33m        \u001b[39m\u001b[38;5;132;01m{\u001b[39;00m\u001b[38;5;28mself\u001b[39m.sheet\u001b[38;5;132;01m}\u001b[39;00m\u001b[33m not found in \u001b[39m\u001b[38;5;132;01m{\u001b[39;00m\u001b[38;5;28mself\u001b[39m.filename\u001b[38;5;132;01m}\u001b[39;00m\u001b[33m with sheets \u001b[39m\u001b[38;5;132;01m{\u001b[39;00m\u001b[38;5;28mself\u001b[39m.sheets\u001b[38;5;132;01m}\u001b[39;00m\u001b[33m'\u001b[39m)\n\u001b[32m     33\u001b[39m     \u001b[38;5;28;01mreturn\u001b[39;00m \u001b[38;5;28mself\u001b[39m\n",
      "\u001b[31mValueError\u001b[39m:             FakeSheetName not found in /Users/home/Downloads/211 and 212.5 cases with strike priors.xlsx with sheets ['Sheet1']"
     ]
    }
   ],
   "source": [
    "loadxl(xlfile=xlf, sheet='FakeSheetName')"
   ]
  },
  {
   "cell_type": "code",
   "execution_count": null,
   "id": "544c43d0-acb3-4efc-933e-19fa626c7693",
   "metadata": {},
   "outputs": [],
   "source": []
  }
 ],
 "metadata": {
  "kernelspec": {
   "display_name": "Python 3 (ipykernel)",
   "language": "python",
   "name": "python3"
  },
  "language_info": {
   "codemirror_mode": {
    "name": "ipython",
    "version": 3
   },
   "file_extension": ".py",
   "mimetype": "text/x-python",
   "name": "python",
   "nbconvert_exporter": "python",
   "pygments_lexer": "ipython3",
   "version": "3.12.7"
  }
 },
 "nbformat": 4,
 "nbformat_minor": 5
}
