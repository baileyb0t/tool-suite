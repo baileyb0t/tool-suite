{
 "cells": [
  {
   "cell_type": "code",
   "execution_count": 1,
   "id": "db2b9a89",
   "metadata": {},
   "outputs": [],
   "source": [
    "import numpy as np\n",
    "import tensorflow as tf\n",
    "from tensorflow.python.client import device_lib"
   ]
  },
  {
   "cell_type": "code",
   "execution_count": 2,
   "id": "390e8bee",
   "metadata": {},
   "outputs": [
    {
     "data": {
      "text/plain": [
       "'2.9.0'"
      ]
     },
     "execution_count": 2,
     "metadata": {},
     "output_type": "execute_result"
    }
   ],
   "source": [
    "tf.__version__"
   ]
  },
  {
   "cell_type": "code",
   "execution_count": 3,
   "id": "96a22fe6",
   "metadata": {},
   "outputs": [
    {
     "data": {
      "text/plain": [
       "[PhysicalDevice(name='/physical_device:CPU:0', device_type='CPU'),\n",
       " PhysicalDevice(name='/physical_device:GPU:0', device_type='GPU')]"
      ]
     },
     "execution_count": 3,
     "metadata": {},
     "output_type": "execute_result"
    }
   ],
   "source": [
    "tf.config.list_physical_devices()"
   ]
  },
  {
   "cell_type": "code",
   "execution_count": 4,
   "id": "f24fa68c",
   "metadata": {},
   "outputs": [
    {
     "name": "stdout",
     "output_type": "stream",
     "text": [
      "Metal device set to: Apple M1 Max\n"
     ]
    },
    {
     "name": "stderr",
     "output_type": "stream",
     "text": [
      "2022-05-23 11:47:22.878902: I tensorflow/core/common_runtime/pluggable_device/pluggable_device_factory.cc:305] Could not identify NUMA node of platform GPU ID 0, defaulting to 0. Your kernel may not have been built with NUMA support.\n",
      "2022-05-23 11:47:22.879036: I tensorflow/core/common_runtime/pluggable_device/pluggable_device_factory.cc:271] Created TensorFlow device (/device:GPU:0 with 0 MB memory) -> physical PluggableDevice (device: 0, name: METAL, pci bus id: <undefined>)\n"
     ]
    },
    {
     "data": {
      "text/plain": [
       "[name: \"/device:CPU:0\"\n",
       " device_type: \"CPU\"\n",
       " memory_limit: 268435456\n",
       " locality {\n",
       " }\n",
       " incarnation: 11602554532375976714\n",
       " xla_global_id: -1,\n",
       " name: \"/device:GPU:0\"\n",
       " device_type: \"GPU\"\n",
       " locality {\n",
       "   bus_id: 1\n",
       " }\n",
       " incarnation: 18137368908632011229\n",
       " physical_device_desc: \"device: 0, name: METAL, pci bus id: <undefined>\"\n",
       " xla_global_id: -1]"
      ]
     },
     "execution_count": 4,
     "metadata": {},
     "output_type": "execute_result"
    }
   ],
   "source": [
    "device_lib.list_local_devices()"
   ]
  },
  {
   "cell_type": "code",
   "execution_count": 5,
   "id": "8a7b4a15",
   "metadata": {},
   "outputs": [
    {
     "name": "stdout",
     "output_type": "stream",
     "text": [
      "Epoch 1/10\n"
     ]
    },
    {
     "name": "stderr",
     "output_type": "stream",
     "text": [
      "2022-05-23 11:47:23.118182: I tensorflow/core/common_runtime/pluggable_device/pluggable_device_factory.cc:305] Could not identify NUMA node of platform GPU ID 0, defaulting to 0. Your kernel may not have been built with NUMA support.\n",
      "2022-05-23 11:47:23.118204: I tensorflow/core/common_runtime/pluggable_device/pluggable_device_factory.cc:271] Created TensorFlow device (/job:localhost/replica:0/task:0/device:GPU:0 with 0 MB memory) -> physical PluggableDevice (device: 0, name: METAL, pci bus id: <undefined>)\n",
      "2022-05-23 11:47:23.241211: W tensorflow/core/platform/profile_utils/cpu_utils.cc:128] Failed to get CPU frequency: 0 Hz\n",
      "2022-05-23 11:47:23.387200: I tensorflow/core/grappler/optimizers/custom_graph_optimizer_registry.cc:113] Plugin optimizer for device_type GPU is enabled.\n"
     ]
    },
    {
     "name": "stdout",
     "output_type": "stream",
     "text": [
      "1875/1875 - 7s - loss: 0.2880 - accuracy: 0.9168 - 7s/epoch - 4ms/step\n",
      "Epoch 2/10\n",
      "1875/1875 - 7s - loss: 0.1341 - accuracy: 0.9606 - 7s/epoch - 4ms/step\n",
      "Epoch 3/10\n",
      "1875/1875 - 7s - loss: 0.0986 - accuracy: 0.9706 - 7s/epoch - 4ms/step\n",
      "Epoch 4/10\n",
      "1875/1875 - 7s - loss: 0.0819 - accuracy: 0.9751 - 7s/epoch - 4ms/step\n",
      "Epoch 5/10\n",
      "1875/1875 - 7s - loss: 0.0676 - accuracy: 0.9786 - 7s/epoch - 4ms/step\n",
      "Epoch 6/10\n",
      "1875/1875 - 7s - loss: 0.0596 - accuracy: 0.9813 - 7s/epoch - 4ms/step\n",
      "Epoch 7/10\n",
      "1875/1875 - 7s - loss: 0.0516 - accuracy: 0.9835 - 7s/epoch - 4ms/step\n",
      "Epoch 8/10\n",
      "1875/1875 - 7s - loss: 0.0448 - accuracy: 0.9858 - 7s/epoch - 4ms/step\n",
      "Epoch 9/10\n",
      "1875/1875 - 7s - loss: 0.0421 - accuracy: 0.9865 - 7s/epoch - 4ms/step\n",
      "Epoch 10/10\n",
      "1875/1875 - 7s - loss: 0.0361 - accuracy: 0.9879 - 7s/epoch - 4ms/step\n"
     ]
    },
    {
     "data": {
      "text/plain": [
       "<keras.callbacks.History at 0x14a453940>"
      ]
     },
     "execution_count": 5,
     "metadata": {},
     "output_type": "execute_result"
    }
   ],
   "source": [
    "# Source: https://betterprogramming.pub/installing-tensorflow-on-apple-m1-with-new-metal-plugin-6d3cb9cb00ca?gi=94e8cc65f610\n",
    "mnist = tf.keras.datasets.mnist\n",
    "\n",
    "(x_train, y_train), (x_test, y_test) = mnist.load_data()\n",
    "\n",
    "x_train, x_test = x_train / 255.0, x_test / 255.0\n",
    "\n",
    "model = tf.keras.models.Sequential([\n",
    "    tf.keras.layers.Flatten(input_shape=(28, 28)),\n",
    "    tf.keras.layers.Dense(128, activation='relu'),\n",
    "    tf.keras.layers.Dropout(0.2),\n",
    "    tf.keras.layers.Dense(10)\n",
    "])\n",
    "loss_fn = tf.keras.losses.SparseCategoricalCrossentropy(from_logits=True)\n",
    "model.compile(optimizer='adam',\n",
    "    loss=loss_fn,\n",
    "    metrics=['accuracy'])\n",
    "model.fit(x_train, y_train, epochs=10, verbose=2)"
   ]
  },
  {
   "cell_type": "code",
   "execution_count": 6,
   "id": "5c62cb29",
   "metadata": {},
   "outputs": [],
   "source": [
    "# Source: https://blog.tensorflow.org/2021/06/pluggabledevice-device-plugins-for-TensorFlow.html\n",
    "# changed device from tf.device('/APU:0')\n",
    "a = tf.random.normal(shape=[5], dtype=tf.float32)  # Runs on CPU\n",
    "b = tf.nn.relu(a)  # Runs on GPU\n",
    " \n",
    "with tf.device(\"gpu:0\"):  # Users can also use 'with tf.device' syntax\n",
    "    c = tf.nn.relu(a)  # Runs on GPU\n",
    " \n",
    "@tf.function  # Defining a tf.function\n",
    "def run():\n",
    "    d = tf.random.uniform(shape=[100], dtype=tf.float32)  # Runs on CPU\n",
    "    e = tf.nn.relu(d)  # Runs on GPU\n",
    "run()  # PluggableDevices also work with tf.function and graph mode."
   ]
  },
  {
   "cell_type": "code",
   "execution_count": 7,
   "id": "345525c5",
   "metadata": {},
   "outputs": [
    {
     "data": {
      "text/plain": [
       "<tensorflow.python.eager.context._EagerDeviceContext at 0x14a7cf2c0>"
      ]
     },
     "execution_count": 7,
     "metadata": {},
     "output_type": "execute_result"
    }
   ],
   "source": [
    "tf.device('mps')"
   ]
  },
  {
   "cell_type": "code",
   "execution_count": null,
   "id": "c4ea12c0",
   "metadata": {},
   "outputs": [],
   "source": []
  }
 ],
 "metadata": {
  "kernelspec": {
   "display_name": "Python 3 (ipykernel)",
   "language": "python",
   "name": "python3"
  },
  "language_info": {
   "codemirror_mode": {
    "name": "ipython",
    "version": 3
   },
   "file_extension": ".py",
   "mimetype": "text/x-python",
   "name": "python",
   "nbconvert_exporter": "python",
   "pygments_lexer": "ipython3",
   "version": "3.9.0"
  }
 },
 "nbformat": 4,
 "nbformat_minor": 5
}
