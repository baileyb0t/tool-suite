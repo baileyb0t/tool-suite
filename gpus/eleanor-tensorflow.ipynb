{
 "cells": [
  {
   "cell_type": "code",
   "execution_count": 1,
   "metadata": {},
   "outputs": [],
   "source": [
    "import numpy as np\n",
    "import tensorflow as tf\n",
    "from tensorflow.python.client import device_lib"
   ]
  },
  {
   "cell_type": "code",
   "execution_count": 2,
   "metadata": {},
   "outputs": [
    {
     "data": {
      "text/plain": [
       "'2.8.0'"
      ]
     },
     "execution_count": 2,
     "metadata": {},
     "output_type": "execute_result"
    }
   ],
   "source": [
    "tf.__version__"
   ]
  },
  {
   "cell_type": "code",
   "execution_count": 3,
   "metadata": {},
   "outputs": [
    {
     "data": {
      "text/plain": [
       "[PhysicalDevice(name='/physical_device:CPU:0', device_type='CPU')]"
      ]
     },
     "execution_count": 3,
     "metadata": {},
     "output_type": "execute_result"
    }
   ],
   "source": [
    "tf.config.list_physical_devices()"
   ]
  },
  {
   "cell_type": "code",
   "execution_count": 4,
   "metadata": {},
   "outputs": [
    {
     "data": {
      "text/plain": [
       "[name: \"/device:CPU:0\"\n",
       " device_type: \"CPU\"\n",
       " memory_limit: 268435456\n",
       " locality {\n",
       " }\n",
       " incarnation: 7949637532271172375\n",
       " xla_global_id: -1]"
      ]
     },
     "execution_count": 4,
     "metadata": {},
     "output_type": "execute_result"
    }
   ],
   "source": [
    "device_lib.list_local_devices()"
   ]
  },
  {
   "cell_type": "code",
   "execution_count": 5,
   "metadata": {},
   "outputs": [
    {
     "name": "stdout",
     "output_type": "stream",
     "text": [
      "Epoch 1/10\n",
      "1875/1875 - 4s - loss: 0.3004 - accuracy: 0.9129 - 4s/epoch - 2ms/step\n",
      "Epoch 2/10\n",
      "1875/1875 - 4s - loss: 0.1437 - accuracy: 0.9580 - 4s/epoch - 2ms/step\n",
      "Epoch 3/10\n",
      "1875/1875 - 4s - loss: 0.1073 - accuracy: 0.9673 - 4s/epoch - 2ms/step\n",
      "Epoch 4/10\n",
      "1875/1875 - 4s - loss: 0.0875 - accuracy: 0.9733 - 4s/epoch - 2ms/step\n",
      "Epoch 5/10\n",
      "1875/1875 - 4s - loss: 0.0737 - accuracy: 0.9768 - 4s/epoch - 2ms/step\n",
      "Epoch 6/10\n",
      "1875/1875 - 4s - loss: 0.0648 - accuracy: 0.9797 - 4s/epoch - 2ms/step\n",
      "Epoch 7/10\n",
      "1875/1875 - 3s - loss: 0.0571 - accuracy: 0.9816 - 3s/epoch - 2ms/step\n",
      "Epoch 8/10\n",
      "1875/1875 - 4s - loss: 0.0536 - accuracy: 0.9825 - 4s/epoch - 2ms/step\n",
      "Epoch 9/10\n",
      "1875/1875 - 4s - loss: 0.0462 - accuracy: 0.9841 - 4s/epoch - 2ms/step\n",
      "Epoch 10/10\n",
      "1875/1875 - 4s - loss: 0.0442 - accuracy: 0.9857 - 4s/epoch - 2ms/step\n"
     ]
    },
    {
     "data": {
      "text/plain": [
       "<keras.callbacks.History at 0x7fb8386329e8>"
      ]
     },
     "execution_count": 5,
     "metadata": {},
     "output_type": "execute_result"
    }
   ],
   "source": [
    "# Source: https://betterprogramming.pub/installing-tensorflow-on-apple-m1-with-new-metal-plugin-6d3cb9cb00ca?gi=94e8cc65f610\n",
    "mnist = tf.keras.datasets.mnist\n",
    "\n",
    "(x_train, y_train), (x_test, y_test) = mnist.load_data()\n",
    "\n",
    "x_train, x_test = x_train / 255.0, x_test / 255.0\n",
    "\n",
    "model = tf.keras.models.Sequential([\n",
    "    tf.keras.layers.Flatten(input_shape=(28, 28)),\n",
    "    tf.keras.layers.Dense(128, activation='relu'),\n",
    "    tf.keras.layers.Dropout(0.2),\n",
    "    tf.keras.layers.Dense(10)\n",
    "])\n",
    "loss_fn = tf.keras.losses.SparseCategoricalCrossentropy(from_logits=True)\n",
    "model.compile(optimizer='adam',\n",
    "    loss=loss_fn,\n",
    "    metrics=['accuracy'])\n",
    "model.fit(x_train, y_train, epochs=10, verbose=2)"
   ]
  },
  {
   "cell_type": "code",
   "execution_count": null,
   "metadata": {},
   "outputs": [],
   "source": [
    "# Source: https://blog.tensorflow.org/2021/06/pluggabledevice-device-plugins-for-TensorFlow.html\n",
    "# changed device from tf.device('/APU:0')\n",
    "a = tf.random.normal(shape=[5], dtype=tf.float32)  # Runs on CPU\n",
    "b = tf.nn.relu(a)  # Runs on GPU\n",
    " \n",
    "with tf.device(\"gpu:0\"):  # Users can also use 'with tf.device' syntax\n",
    "    c = tf.nn.relu(a)  # Runs on GPU\n",
    " \n",
    "@tf.function  # Defining a tf.function\n",
    "def run():\n",
    "    d = tf.random.uniform(shape=[100], dtype=tf.float32)  # Runs on CPU\n",
    "    e = tf.nn.relu(d)  # Runs on GPU\n",
    "run()  # PluggableDevices also work with tf.function and graph mode."
   ]
  },
  {
   "cell_type": "code",
   "execution_count": null,
   "metadata": {},
   "outputs": [],
   "source": []
  }
 ],
 "metadata": {
  "kernelspec": {
   "display_name": "Python 3",
   "language": "python",
   "name": "python3"
  },
  "language_info": {
   "codemirror_mode": {
    "name": "ipython",
    "version": 3
   },
   "file_extension": ".py",
   "mimetype": "text/x-python",
   "name": "python",
   "nbconvert_exporter": "python",
   "pygments_lexer": "ipython3",
   "version": "3.7.3"
  }
 },
 "nbformat": 4,
 "nbformat_minor": 5
}
